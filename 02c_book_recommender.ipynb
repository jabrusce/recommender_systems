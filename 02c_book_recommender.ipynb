{
 "cells": [
  {
   "cell_type": "markdown",
   "id": "substantial-collectible",
   "metadata": {},
   "source": [
    "# Book Recommender"
   ]
  },
  {
   "cell_type": "markdown",
   "id": "normal-truth",
   "metadata": {},
   "source": [
    "### Import libraries and Data"
   ]
  },
  {
   "cell_type": "code",
   "execution_count": 1,
   "id": "armed-weapon",
   "metadata": {},
   "outputs": [],
   "source": [
    "import pandas as pd\n",
    "import numpy as np\n",
    "import matplotlib.pyplot as plt\n",
    "from scipy import sparse\n",
    "from sklearn.metrics.pairwise import pairwise_distances, cosine_distances, cosine_similarity"
   ]
  },
  {
   "cell_type": "code",
   "execution_count": 2,
   "id": "friendly-commissioner",
   "metadata": {},
   "outputs": [],
   "source": [
    "books_df = pd.read_csv('./data/clean/books_df.csv', index_col=0)"
   ]
  },
  {
   "cell_type": "code",
   "execution_count": 3,
   "id": "opposed-jacket",
   "metadata": {},
   "outputs": [
    {
     "data": {
      "text/html": [
       "<div>\n",
       "<style scoped>\n",
       "    .dataframe tbody tr th:only-of-type {\n",
       "        vertical-align: middle;\n",
       "    }\n",
       "\n",
       "    .dataframe tbody tr th {\n",
       "        vertical-align: top;\n",
       "    }\n",
       "\n",
       "    .dataframe thead th {\n",
       "        text-align: right;\n",
       "    }\n",
       "</style>\n",
       "<table border=\"1\" class=\"dataframe\">\n",
       "  <thead>\n",
       "    <tr style=\"text-align: right;\">\n",
       "      <th></th>\n",
       "      <th>book_name</th>\n",
       "      <th>book_id</th>\n",
       "      <th>user_id</th>\n",
       "      <th>rating</th>\n",
       "    </tr>\n",
       "  </thead>\n",
       "  <tbody>\n",
       "    <tr>\n",
       "      <th>0</th>\n",
       "      <td>Agile Web Development with Rails: A Pragmatic ...</td>\n",
       "      <td>13083</td>\n",
       "      <td>1</td>\n",
       "      <td>5</td>\n",
       "    </tr>\n",
       "  </tbody>\n",
       "</table>\n",
       "</div>"
      ],
      "text/plain": [
       "                                           book_name  book_id  user_id  rating\n",
       "0  Agile Web Development with Rails: A Pragmatic ...    13083        1       5"
      ]
     },
     "execution_count": 3,
     "metadata": {},
     "output_type": "execute_result"
    }
   ],
   "source": [
    "books_df.head(1)"
   ]
  },
  {
   "cell_type": "markdown",
   "id": "mechanical-challenge",
   "metadata": {},
   "source": [
    "### Prepare recommender using cosine distances"
   ]
  },
  {
   "cell_type": "code",
   "execution_count": 4,
   "id": "limited-edward",
   "metadata": {},
   "outputs": [],
   "source": [
    "#pivot table from the books_df dataframe\n",
    "pivot_df = pd.pivot_table(books_df, index='book_name', columns='user_id', values='rating')\n",
    "#create sparse matrix\n",
    "sparse_df = sparse.csr_matrix(pivot_df.fillna(0))\n",
    "#calculate cosine distances for similarities\n",
    "recommender = pairwise_distances(sparse_df, metric='cosine')\n",
    "#export as a dataframe\n",
    "rec_df = pd.DataFrame(recommender, columns=pivot_df.index, index=pivot_df.index)"
   ]
  },
  {
   "cell_type": "markdown",
   "id": "filled-failing",
   "metadata": {},
   "source": [
    "### Define book Recommender function"
   ]
  },
  {
   "cell_type": "code",
   "execution_count": 5,
   "id": "favorite-modem",
   "metadata": {},
   "outputs": [],
   "source": [
    "def book_recommender(book_title):\n",
    "    return 1- rec_df[book_title].sort_values()[1:6]"
   ]
  },
  {
   "cell_type": "markdown",
   "id": "proper-walter",
   "metadata": {},
   "source": [
    "### Example Recommendations"
   ]
  },
  {
   "cell_type": "code",
   "execution_count": 6,
   "id": "according-merchandise",
   "metadata": {},
   "outputs": [
    {
     "data": {
      "text/plain": [
       "book_name\n",
       "The Great Gatsby                      0.631748\n",
       "The Catcher in the Rye                0.583633\n",
       "The Adventures of Huckleberry Finn    0.516044\n",
       "Animal Farm                           0.512917\n",
       "Lord of the Flies                     0.504994\n",
       "Name: To Kill a Mockingbird, dtype: float64"
      ]
     },
     "execution_count": 6,
     "metadata": {},
     "output_type": "execute_result"
    }
   ],
   "source": [
    "#Using the recommender function, input a book title to give cosine similarities, sorted\n",
    "book_recommender('To Kill a Mockingbird')"
   ]
  },
  {
   "cell_type": "markdown",
   "id": "breathing-export",
   "metadata": {},
   "source": [
    "Similar to \"To Kill a Mockingbird\" on Goodreads.com:\n",
    "- The Great Gatsby\n",
    "- The Catcher in the Rye\n",
    "- Animal Farm\n",
    "- Lord of the Flies"
   ]
  },
  {
   "cell_type": "code",
   "execution_count": 7,
   "id": "coupled-responsibility",
   "metadata": {},
   "outputs": [
    {
     "data": {
      "text/plain": [
       "book_name\n",
       "Animal Farm               0.567584\n",
       "Brave New World           0.543643\n",
       "Lord of the Flies         0.539524\n",
       "The Catcher in the Rye    0.526647\n",
       "Fahrenheit 451            0.505689\n",
       "Name: 1984, dtype: float64"
      ]
     },
     "execution_count": 7,
     "metadata": {},
     "output_type": "execute_result"
    }
   ],
   "source": [
    "book_recommender('1984')"
   ]
  },
  {
   "cell_type": "markdown",
   "id": "equivalent-subcommittee",
   "metadata": {},
   "source": [
    "Similar to \"1984\" on Goodreads.com:\n",
    "- Catcher in the Rye\n",
    "- Fahrenheit 451\n",
    "- Brave New World\n",
    "- Lord of the Flies"
   ]
  },
  {
   "cell_type": "code",
   "execution_count": 8,
   "id": "south-grave",
   "metadata": {},
   "outputs": [
    {
     "data": {
      "text/plain": [
       "book_name\n",
       "The Two Towers (The Lord of the Rings, #2)            0.786718\n",
       "The Return of the King (The Lord of the Rings, #3)    0.689853\n",
       "The Hobbit, or There and Back Again                   0.518376\n",
       "The Count of Monte Cristo                             0.437408\n",
       "The Eye of the World (The Wheel of Time, #1)          0.381910\n",
       "Name: The Fellowship of the Ring (The Lord of the Rings, #1), dtype: float64"
      ]
     },
     "execution_count": 8,
     "metadata": {},
     "output_type": "execute_result"
    }
   ],
   "source": [
    "book_recommender(\"The Fellowship of the Ring (The Lord of the Rings, #1)\")"
   ]
  },
  {
   "cell_type": "markdown",
   "id": "conscious-reasoning",
   "metadata": {},
   "source": [
    "Similar to \"The Fellowship of the Ring\" on Goodreads.com:\n",
    "- The Two Towers\n",
    "- The Hobbit, or There and Back Again"
   ]
  },
  {
   "cell_type": "code",
   "execution_count": 9,
   "id": "diagnostic-framing",
   "metadata": {},
   "outputs": [
    {
     "data": {
      "text/plain": [
       "book_name\n",
       "Memoirs of a Geisha                                  0.484109\n",
       "The Curious Incident of the Dog in the Night-Time    0.463734\n",
       "The Kite Runner                                      0.460003\n",
       "Water for Elephants                                  0.452543\n",
       "The Girl Who Played with Fire (Millennium, #2)       0.452521\n",
       "Name: Life of Pi, dtype: float64"
      ]
     },
     "execution_count": 9,
     "metadata": {},
     "output_type": "execute_result"
    }
   ],
   "source": [
    "book_recommender('Life of Pi')"
   ]
  },
  {
   "cell_type": "markdown",
   "id": "blocked-shelter",
   "metadata": {},
   "source": [
    "Similar to \"Life of Pi\" on Goodreads.com:\n",
    "- The Kite Runner\n",
    "- Memoirs of a Geisha\n",
    "- The Curious Incident of the Dog in the Night-Time\n",
    "- Water for Elephants"
   ]
  },
  {
   "cell_type": "markdown",
   "id": "noted-louisville",
   "metadata": {},
   "source": [
    "### Export for streamlit app"
   ]
  },
  {
   "cell_type": "code",
   "execution_count": 10,
   "id": "exciting-horizon",
   "metadata": {},
   "outputs": [],
   "source": [
    "#add book name, re-arrange for streamlit app\n",
    "rec_df.insert(0, \"book_name\", rec_df.index)\n",
    "\n",
    "# save rec_df for use in streamlit app\n",
    "rec_df.to_pickle('./streamlit_app/data/books.pk1')"
   ]
  }
 ],
 "metadata": {
  "kernelspec": {
   "display_name": "Python 3",
   "language": "python",
   "name": "python3"
  },
  "language_info": {
   "codemirror_mode": {
    "name": "ipython",
    "version": 3
   },
   "file_extension": ".py",
   "mimetype": "text/x-python",
   "name": "python",
   "nbconvert_exporter": "python",
   "pygments_lexer": "ipython3",
   "version": "3.8.8"
  }
 },
 "nbformat": 4,
 "nbformat_minor": 5
}
