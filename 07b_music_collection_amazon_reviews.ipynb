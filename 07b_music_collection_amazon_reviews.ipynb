{
 "cells": [
  {
   "cell_type": "markdown",
   "id": "speaking-toyota",
   "metadata": {},
   "source": [
    "# Music Recommender Data Collection"
   ]
  },
  {
   "cell_type": "markdown",
   "id": "nutritional-permit",
   "metadata": {},
   "source": [
    "#### Import Libraries and Data"
   ]
  },
  {
   "cell_type": "code",
   "execution_count": 14,
   "id": "contained-fetish",
   "metadata": {},
   "outputs": [],
   "source": [
    "import numpy as np\n",
    "import pandas as pd"
   ]
  },
  {
   "cell_type": "markdown",
   "id": "closing-business",
   "metadata": {},
   "source": [
    "Data available here:\n",
    "https://www.upf.edu/web/mtg/mard"
   ]
  },
  {
   "cell_type": "markdown",
   "id": "adverse-republican",
   "metadata": {},
   "source": [
    "### First dataframe - album reviews"
   ]
  },
  {
   "cell_type": "code",
   "execution_count": 15,
   "id": "subsequent-induction",
   "metadata": {},
   "outputs": [],
   "source": [
    "df1 = pd.read_json('./data/raw/mard_reviews.json', lines=True, orient=str)"
   ]
  },
  {
   "cell_type": "code",
   "execution_count": 16,
   "id": "cross-calendar",
   "metadata": {},
   "outputs": [
    {
     "data": {
      "text/plain": [
       "(263525, 9)"
      ]
     },
     "execution_count": 16,
     "metadata": {},
     "output_type": "execute_result"
    }
   ],
   "source": [
    "df1.shape"
   ]
  },
  {
   "cell_type": "code",
   "execution_count": 17,
   "id": "unlikely-bibliography",
   "metadata": {},
   "outputs": [
    {
     "data": {
      "text/html": [
       "<div>\n",
       "<style scoped>\n",
       "    .dataframe tbody tr th:only-of-type {\n",
       "        vertical-align: middle;\n",
       "    }\n",
       "\n",
       "    .dataframe tbody tr th {\n",
       "        vertical-align: top;\n",
       "    }\n",
       "\n",
       "    .dataframe thead th {\n",
       "        text-align: right;\n",
       "    }\n",
       "</style>\n",
       "<table border=\"1\" class=\"dataframe\">\n",
       "  <thead>\n",
       "    <tr style=\"text-align: right;\">\n",
       "      <th></th>\n",
       "      <th>reviewerID</th>\n",
       "      <th>amazon-id</th>\n",
       "      <th>reviewerName</th>\n",
       "      <th>helpful</th>\n",
       "      <th>unixReviewTime</th>\n",
       "      <th>reviewText</th>\n",
       "      <th>overall</th>\n",
       "      <th>reviewTime</th>\n",
       "      <th>summary</th>\n",
       "    </tr>\n",
       "  </thead>\n",
       "  <tbody>\n",
       "    <tr>\n",
       "      <th>0</th>\n",
       "      <td>A1OFY4ATO7D13W</td>\n",
       "      <td>0026197898</td>\n",
       "      <td>Jacob Shepich \"Neo-Luddite\"</td>\n",
       "      <td>[2, 2]</td>\n",
       "      <td>1355702400</td>\n",
       "      <td>Buy this album. Now.  Don't worry about the re...</td>\n",
       "      <td>5</td>\n",
       "      <td>12 17, 2012</td>\n",
       "      <td>PITCHFORK Eat your heart out!</td>\n",
       "    </tr>\n",
       "  </tbody>\n",
       "</table>\n",
       "</div>"
      ],
      "text/plain": [
       "       reviewerID   amazon-id                 reviewerName helpful  \\\n",
       "0  A1OFY4ATO7D13W  0026197898  Jacob Shepich \"Neo-Luddite\"  [2, 2]   \n",
       "\n",
       "   unixReviewTime                                         reviewText  overall  \\\n",
       "0      1355702400  Buy this album. Now.  Don't worry about the re...        5   \n",
       "\n",
       "    reviewTime                        summary  \n",
       "0  12 17, 2012  PITCHFORK Eat your heart out!  "
      ]
     },
     "execution_count": 17,
     "metadata": {},
     "output_type": "execute_result"
    }
   ],
   "source": [
    "df1.head(1)"
   ]
  },
  {
   "cell_type": "code",
   "execution_count": 18,
   "id": "phantom-profile",
   "metadata": {},
   "outputs": [],
   "source": [
    "df1.drop(columns=['reviewerName', 'helpful', 'reviewTime', 'unixReviewTime'], inplace=True)"
   ]
  },
  {
   "cell_type": "markdown",
   "id": "historical-brazilian",
   "metadata": {},
   "source": [
    "### Second dataframe - data for each album"
   ]
  },
  {
   "cell_type": "code",
   "execution_count": 19,
   "id": "killing-moore",
   "metadata": {},
   "outputs": [],
   "source": [
    "df2 = pd.read_json('./data/raw/mard_metadata.json', lines=True, orient=str)"
   ]
  },
  {
   "cell_type": "code",
   "execution_count": 20,
   "id": "played-respect",
   "metadata": {},
   "outputs": [
    {
     "data": {
      "text/plain": [
       "(65566, 18)"
      ]
     },
     "execution_count": 20,
     "metadata": {},
     "output_type": "execute_result"
    }
   ],
   "source": [
    "df2.shape"
   ]
  },
  {
   "cell_type": "code",
   "execution_count": 21,
   "id": "stylish-rachel",
   "metadata": {},
   "outputs": [
    {
     "data": {
      "text/html": [
       "<div>\n",
       "<style scoped>\n",
       "    .dataframe tbody tr th:only-of-type {\n",
       "        vertical-align: middle;\n",
       "    }\n",
       "\n",
       "    .dataframe tbody tr th {\n",
       "        vertical-align: top;\n",
       "    }\n",
       "\n",
       "    .dataframe thead th {\n",
       "        text-align: right;\n",
       "    }\n",
       "</style>\n",
       "<table border=\"1\" class=\"dataframe\">\n",
       "  <thead>\n",
       "    <tr style=\"text-align: right;\">\n",
       "      <th></th>\n",
       "      <th>price</th>\n",
       "      <th>artist-mbid</th>\n",
       "      <th>imUrl</th>\n",
       "      <th>confidence</th>\n",
       "      <th>categories</th>\n",
       "      <th>release-group-mbid</th>\n",
       "      <th>amazon-id</th>\n",
       "      <th>root-genre</th>\n",
       "      <th>title</th>\n",
       "      <th>artist</th>\n",
       "      <th>label</th>\n",
       "      <th>artist_url</th>\n",
       "      <th>first-release-year</th>\n",
       "      <th>release-mbid</th>\n",
       "      <th>songs</th>\n",
       "      <th>salesRank</th>\n",
       "      <th>related</th>\n",
       "      <th>brand</th>\n",
       "    </tr>\n",
       "  </thead>\n",
       "  <tbody>\n",
       "    <tr>\n",
       "      <th>0</th>\n",
       "      <td>14.23</td>\n",
       "      <td>6ce5815b-b277-48b0-94c9-a87a8f0422b3</td>\n",
       "      <td>http://ecx.images-amazon.com/images/I/6139OLQU...</td>\n",
       "      <td>1.0</td>\n",
       "      <td>[[CDs &amp; Vinyl, Alternative Rock, Indie &amp; Lo-Fi...</td>\n",
       "      <td>b05be7e9-6bc4-422b-8198-32945b0d1c76</td>\n",
       "      <td>0026197898</td>\n",
       "      <td>Alternative Rock</td>\n",
       "      <td>Southern Fashion</td>\n",
       "      <td>The Sudden Passion</td>\n",
       "      <td>Black Hearts &amp; Pink Parts Records</td>\n",
       "      <td>/s?ie=UTF8&amp;field-artist=The+Sudden+Passion&amp;sea...</td>\n",
       "      <td>2012</td>\n",
       "      <td>359b564b-3db4-44ad-9481-0b45f24aa53e</td>\n",
       "      <td>[{'mbid': '308af531-5fa7-4dd8-969c-6bb7a204eb1...</td>\n",
       "      <td>NaN</td>\n",
       "      <td>NaN</td>\n",
       "      <td>NaN</td>\n",
       "    </tr>\n",
       "  </tbody>\n",
       "</table>\n",
       "</div>"
      ],
      "text/plain": [
       "   price                           artist-mbid  \\\n",
       "0  14.23  6ce5815b-b277-48b0-94c9-a87a8f0422b3   \n",
       "\n",
       "                                               imUrl  confidence  \\\n",
       "0  http://ecx.images-amazon.com/images/I/6139OLQU...         1.0   \n",
       "\n",
       "                                          categories  \\\n",
       "0  [[CDs & Vinyl, Alternative Rock, Indie & Lo-Fi...   \n",
       "\n",
       "                     release-group-mbid   amazon-id        root-genre  \\\n",
       "0  b05be7e9-6bc4-422b-8198-32945b0d1c76  0026197898  Alternative Rock   \n",
       "\n",
       "              title              artist                              label  \\\n",
       "0  Southern Fashion  The Sudden Passion  Black Hearts & Pink Parts Records   \n",
       "\n",
       "                                          artist_url first-release-year  \\\n",
       "0  /s?ie=UTF8&field-artist=The+Sudden+Passion&sea...               2012   \n",
       "\n",
       "                           release-mbid  \\\n",
       "0  359b564b-3db4-44ad-9481-0b45f24aa53e   \n",
       "\n",
       "                                               songs salesRank related brand  \n",
       "0  [{'mbid': '308af531-5fa7-4dd8-969c-6bb7a204eb1...       NaN     NaN   NaN  "
      ]
     },
     "execution_count": 21,
     "metadata": {},
     "output_type": "execute_result"
    }
   ],
   "source": [
    "df2.head(1)"
   ]
  },
  {
   "cell_type": "code",
   "execution_count": 22,
   "id": "regulation-feedback",
   "metadata": {},
   "outputs": [],
   "source": [
    "df2.drop(columns=['price', 'artist-mbid', 'imUrl', 'confidence', 'categories', 'release-group-mbid', 'artist_url', 'release-mbid',\n",
    "                 'songs', 'salesRank', 'brand', 'label'], inplace=True)"
   ]
  },
  {
   "cell_type": "markdown",
   "id": "chicken-delight",
   "metadata": {},
   "source": [
    "#### Create Merged Dataframe"
   ]
  },
  {
   "cell_type": "code",
   "execution_count": 23,
   "id": "turkish-communist",
   "metadata": {},
   "outputs": [],
   "source": [
    "music_df = pd.merge(df1, df2, on='amazon-id')"
   ]
  },
  {
   "cell_type": "code",
   "execution_count": 24,
   "id": "documentary-delivery",
   "metadata": {},
   "outputs": [
    {
     "data": {
      "text/plain": [
       "(263525, 10)"
      ]
     },
     "execution_count": 24,
     "metadata": {},
     "output_type": "execute_result"
    }
   ],
   "source": [
    "music_df.shape"
   ]
  },
  {
   "cell_type": "code",
   "execution_count": 25,
   "id": "loved-heather",
   "metadata": {},
   "outputs": [],
   "source": [
    "#drop duplicates\n",
    "music_df.dropna(subset=['reviewText'], inplace=True)\n",
    "music_df.dropna(subset=['title'], inplace=True)\n",
    "music_df.dropna(subset=['artist'], inplace=True)\n",
    "music_df.dropna(subset=['summary'], inplace=True)"
   ]
  },
  {
   "cell_type": "code",
   "execution_count": 27,
   "id": "weird-latest",
   "metadata": {},
   "outputs": [
    {
     "data": {
      "text/html": [
       "<div>\n",
       "<style scoped>\n",
       "    .dataframe tbody tr th:only-of-type {\n",
       "        vertical-align: middle;\n",
       "    }\n",
       "\n",
       "    .dataframe tbody tr th {\n",
       "        vertical-align: top;\n",
       "    }\n",
       "\n",
       "    .dataframe thead th {\n",
       "        text-align: right;\n",
       "    }\n",
       "</style>\n",
       "<table border=\"1\" class=\"dataframe\">\n",
       "  <thead>\n",
       "    <tr style=\"text-align: right;\">\n",
       "      <th></th>\n",
       "      <th>reviewerID</th>\n",
       "      <th>amazon-id</th>\n",
       "      <th>reviewText</th>\n",
       "      <th>overall</th>\n",
       "      <th>summary</th>\n",
       "      <th>root-genre</th>\n",
       "      <th>title</th>\n",
       "      <th>artist</th>\n",
       "      <th>first-release-year</th>\n",
       "      <th>related</th>\n",
       "    </tr>\n",
       "  </thead>\n",
       "  <tbody>\n",
       "    <tr>\n",
       "      <th>0</th>\n",
       "      <td>A1OFY4ATO7D13W</td>\n",
       "      <td>0026197898</td>\n",
       "      <td>Buy this album. Now.  Don't worry about the re...</td>\n",
       "      <td>5</td>\n",
       "      <td>PITCHFORK Eat your heart out!</td>\n",
       "      <td>Alternative Rock</td>\n",
       "      <td>Southern Fashion</td>\n",
       "      <td>The Sudden Passion</td>\n",
       "      <td>2012</td>\n",
       "      <td>NaN</td>\n",
       "    </tr>\n",
       "    <tr>\n",
       "      <th>1</th>\n",
       "      <td>A2KH83L1F70QR8</td>\n",
       "      <td>0026197898</td>\n",
       "      <td>The Sudden Passion did a great job with this o...</td>\n",
       "      <td>5</td>\n",
       "      <td>Americana from the Southlands</td>\n",
       "      <td>Alternative Rock</td>\n",
       "      <td>Southern Fashion</td>\n",
       "      <td>The Sudden Passion</td>\n",
       "      <td>2012</td>\n",
       "      <td>NaN</td>\n",
       "    </tr>\n",
       "  </tbody>\n",
       "</table>\n",
       "</div>"
      ],
      "text/plain": [
       "       reviewerID   amazon-id  \\\n",
       "0  A1OFY4ATO7D13W  0026197898   \n",
       "1  A2KH83L1F70QR8  0026197898   \n",
       "\n",
       "                                          reviewText  overall  \\\n",
       "0  Buy this album. Now.  Don't worry about the re...        5   \n",
       "1  The Sudden Passion did a great job with this o...        5   \n",
       "\n",
       "                         summary        root-genre             title  \\\n",
       "0  PITCHFORK Eat your heart out!  Alternative Rock  Southern Fashion   \n",
       "1  Americana from the Southlands  Alternative Rock  Southern Fashion   \n",
       "\n",
       "               artist first-release-year related  \n",
       "0  The Sudden Passion               2012     NaN  \n",
       "1  The Sudden Passion               2012     NaN  "
      ]
     },
     "execution_count": 27,
     "metadata": {},
     "output_type": "execute_result"
    }
   ],
   "source": [
    "music_df.head(2)"
   ]
  },
  {
   "cell_type": "code",
   "execution_count": 29,
   "id": "modified-furniture",
   "metadata": {},
   "outputs": [],
   "source": [
    "#rename columns\n",
    "music_df.rename(columns={'reviewerID': 'user_id', 'reviewText': 'content', 'overall': 'score', 'root-genre': 'genre'}, inplace=True)"
   ]
  },
  {
   "cell_type": "code",
   "execution_count": 31,
   "id": "bound-livestock",
   "metadata": {},
   "outputs": [],
   "source": [
    "music_df.to_csv('./data/clean/music_df.csv')"
   ]
  }
 ],
 "metadata": {
  "kernelspec": {
   "display_name": "Python 3",
   "language": "python",
   "name": "python3"
  },
  "language_info": {
   "codemirror_mode": {
    "name": "ipython",
    "version": 3
   },
   "file_extension": ".py",
   "mimetype": "text/x-python",
   "name": "python",
   "nbconvert_exporter": "python",
   "pygments_lexer": "ipython3",
   "version": "3.8.5"
  }
 },
 "nbformat": 4,
 "nbformat_minor": 5
}
