{
 "cells": [
  {
   "cell_type": "markdown",
   "id": "primary-advocate",
   "metadata": {},
   "source": [
    "# Music Recommender Data Collection"
   ]
  },
  {
   "cell_type": "markdown",
   "id": "legitimate-ranking",
   "metadata": {},
   "source": [
    "### Import Libraries and Data"
   ]
  },
  {
   "cell_type": "code",
   "execution_count": null,
   "id": "complicated-mandate",
   "metadata": {},
   "outputs": [],
   "source": [
    "import numpy as np\n",
    "import pandas as pd\n",
    "import sqlite3 as sql"
   ]
  },
  {
   "cell_type": "markdown",
   "id": "express-resource",
   "metadata": {},
   "source": [
    "Note: Data collected from Pitchfork Reviews (Kaggle)\n",
    "https://www.kaggle.com/nolanbconaway/pitchfork-data"
   ]
  },
  {
   "cell_type": "markdown",
   "id": "false-expert",
   "metadata": {},
   "source": [
    "### Import data (sql)"
   ]
  },
  {
   "cell_type": "code",
   "execution_count": null,
   "id": "dated-philadelphia",
   "metadata": {},
   "outputs": [],
   "source": [
    "#import from sql\n",
    "db = sql.connect('./data/raw/pitchfork_reviews.sqlite')"
   ]
  },
  {
   "cell_type": "code",
   "execution_count": null,
   "id": "streaming-wonder",
   "metadata": {},
   "outputs": [],
   "source": [
    "#import scores data from sql\n",
    "scores = pd.read_sql('SELECT reviewid, score, title, artist, url FROM reviews', db)\n",
    "scores.head(1)"
   ]
  },
  {
   "cell_type": "code",
   "execution_count": null,
   "id": "successful-material",
   "metadata": {},
   "outputs": [],
   "source": [
    "#import content data from sql\n",
    "content = pd.read_sql('SELECT reviewid, content FROM content', db)\n",
    "content.head(1)"
   ]
  },
  {
   "cell_type": "code",
   "execution_count": null,
   "id": "committed-account",
   "metadata": {},
   "outputs": [],
   "source": [
    "#import genre data from sql\n",
    "genres = pd.read_sql('SELECT reviewid, genre FROM genres', db)\n",
    "genres.head(1)"
   ]
  },
  {
   "cell_type": "code",
   "execution_count": null,
   "id": "classified-folks",
   "metadata": {},
   "outputs": [],
   "source": [
    "#import year data from sql\n",
    "year = pd.read_sql('SELECT reviewid, year FROM years', db)\n",
    "year.head(1)"
   ]
  },
  {
   "cell_type": "markdown",
   "id": "fantastic-celtic",
   "metadata": {},
   "source": [
    "### Create merged dataframe with all music review data"
   ]
  },
  {
   "cell_type": "code",
   "execution_count": null,
   "id": "accompanied-baptist",
   "metadata": {},
   "outputs": [],
   "source": [
    "#merge all data on reviewid\n",
    "merged = pd.merge(scores, content, on='reviewid')\n",
    "merged2 = pd.merge(merged, genres, on='reviewid')\n",
    "merged3 = pd.merge(merged2, year, on='reviewid')"
   ]
  },
  {
   "cell_type": "code",
   "execution_count": null,
   "id": "dense-enhancement",
   "metadata": {},
   "outputs": [],
   "source": [
    "merged3.shape"
   ]
  },
  {
   "cell_type": "code",
   "execution_count": null,
   "id": "ahead-place",
   "metadata": {},
   "outputs": [],
   "source": [
    "merged3.head(1)"
   ]
  },
  {
   "cell_type": "code",
   "execution_count": null,
   "id": "nearby-inspiration",
   "metadata": {},
   "outputs": [],
   "source": [
    "#check for missing values\n",
    "merged3.isnull().sum()"
   ]
  },
  {
   "cell_type": "code",
   "execution_count": null,
   "id": "stretch-spain",
   "metadata": {},
   "outputs": [],
   "source": [
    "merged3.shape"
   ]
  },
  {
   "cell_type": "code",
   "execution_count": null,
   "id": "stable-universal",
   "metadata": {},
   "outputs": [],
   "source": [
    "#drop any null values or duplicates"
   ]
  },
  {
   "cell_type": "code",
   "execution_count": null,
   "id": "interior-shannon",
   "metadata": {},
   "outputs": [],
   "source": [
    "merged3.dropna(subset=['artist'], inplace=True)\n",
    "merged3.dropna(subset=['title'], inplace=True)\n",
    "merged3.dropna(subset=['content'], inplace=True)"
   ]
  },
  {
   "cell_type": "code",
   "execution_count": null,
   "id": "committed-lawsuit",
   "metadata": {},
   "outputs": [],
   "source": [
    "merged3.drop_duplicates(subset=['content'], inplace=True)\n",
    "merged3.dropna(axis=0, subset=['content'], inplace=True)"
   ]
  },
  {
   "cell_type": "markdown",
   "id": "headed-telling",
   "metadata": {},
   "source": [
    "### Export merged dataframe for EDA, modeling, etc."
   ]
  },
  {
   "cell_type": "code",
   "execution_count": null,
   "id": "important-trace",
   "metadata": {},
   "outputs": [],
   "source": [
    "#export to csv\n",
    "merged3.to_csv('./data/clean/pitchfork.csv', index=False)"
   ]
  }
 ],
 "metadata": {
  "kernelspec": {
   "display_name": "Python 3",
   "language": "python",
   "name": "python3"
  },
  "language_info": {
   "codemirror_mode": {
    "name": "ipython",
    "version": 3
   },
   "file_extension": ".py",
   "mimetype": "text/x-python",
   "name": "python",
   "nbconvert_exporter": "python",
   "pygments_lexer": "ipython3",
   "version": "3.8.8"
  }
 },
 "nbformat": 4,
 "nbformat_minor": 5
}
