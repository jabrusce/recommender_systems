{
 "cells": [
  {
   "cell_type": "markdown",
   "id": "romance-cosmetic",
   "metadata": {},
   "source": [
    "# Music Recommender Data Cleaning & EDA"
   ]
  },
  {
   "cell_type": "markdown",
   "id": "innovative-husband",
   "metadata": {},
   "source": [
    "### Import Libraries, Data"
   ]
  },
  {
   "cell_type": "code",
   "execution_count": 1,
   "id": "twelve-kingston",
   "metadata": {},
   "outputs": [],
   "source": [
    "import numpy as np\n",
    "import pandas as pd\n",
    "import matplotlib.pyplot as plt\n",
    "import seaborn as sns\n",
    "from sklearn.feature_extraction.text import CountVectorizer, TfidfVectorizer\n",
    "from sklearn.decomposition import LatentDirichletAllocation\n",
    "import pyLDAvis\n",
    "import pyLDAvis.sklearn\n",
    "pyLDAvis.enable_notebook()"
   ]
  },
  {
   "cell_type": "code",
   "execution_count": 2,
   "id": "fatal-boulder",
   "metadata": {},
   "outputs": [
    {
     "name": "stderr",
     "output_type": "stream",
     "text": [
      "C:\\ProgramData\\Miniconda3\\envs\\spacy_capstone\\lib\\site-packages\\ipykernel\\ipkernel.py:287: DeprecationWarning: `should_run_async` will not call `transform_cell` automatically in the future. Please pass the result to `transformed_cell` argument and any exception that happen during thetransform in `preprocessing_exc_tuple` in IPython 7.17 and above.\n",
      "  and should_run_async(code)\n"
     ]
    }
   ],
   "source": [
    "music_df = pd.read_csv('./data/clean/pitchfork_cleaned.csv', index_col=0)\n",
    "music_df.drop(columns=['index'], inplace=True)"
   ]
  },
  {
   "cell_type": "code",
   "execution_count": 3,
   "id": "ceramic-mission",
   "metadata": {},
   "outputs": [
    {
     "name": "stderr",
     "output_type": "stream",
     "text": [
      "C:\\ProgramData\\Miniconda3\\envs\\spacy_capstone\\lib\\site-packages\\ipykernel\\ipkernel.py:287: DeprecationWarning: `should_run_async` will not call `transform_cell` automatically in the future. Please pass the result to `transformed_cell` argument and any exception that happen during thetransform in `preprocessing_exc_tuple` in IPython 7.17 and above.\n",
      "  and should_run_async(code)\n"
     ]
    },
    {
     "data": {
      "text/plain": [
       "(18375, 9)"
      ]
     },
     "execution_count": 3,
     "metadata": {},
     "output_type": "execute_result"
    }
   ],
   "source": [
    "music_df.shape"
   ]
  },
  {
   "cell_type": "code",
   "execution_count": 4,
   "id": "brown-dublin",
   "metadata": {},
   "outputs": [
    {
     "name": "stderr",
     "output_type": "stream",
     "text": [
      "C:\\ProgramData\\Miniconda3\\envs\\spacy_capstone\\lib\\site-packages\\ipykernel\\ipkernel.py:287: DeprecationWarning: `should_run_async` will not call `transform_cell` automatically in the future. Please pass the result to `transformed_cell` argument and any exception that happen during thetransform in `preprocessing_exc_tuple` in IPython 7.17 and above.\n",
      "  and should_run_async(code)\n"
     ]
    },
    {
     "data": {
      "text/html": [
       "<div>\n",
       "<style scoped>\n",
       "    .dataframe tbody tr th:only-of-type {\n",
       "        vertical-align: middle;\n",
       "    }\n",
       "\n",
       "    .dataframe tbody tr th {\n",
       "        vertical-align: top;\n",
       "    }\n",
       "\n",
       "    .dataframe thead th {\n",
       "        text-align: right;\n",
       "    }\n",
       "</style>\n",
       "<table border=\"1\" class=\"dataframe\">\n",
       "  <thead>\n",
       "    <tr style=\"text-align: right;\">\n",
       "      <th></th>\n",
       "      <th>reviewid</th>\n",
       "      <th>score</th>\n",
       "      <th>title</th>\n",
       "      <th>artist</th>\n",
       "      <th>url</th>\n",
       "      <th>content</th>\n",
       "      <th>genre</th>\n",
       "      <th>year</th>\n",
       "      <th>cleaned_content</th>\n",
       "    </tr>\n",
       "  </thead>\n",
       "  <tbody>\n",
       "    <tr>\n",
       "      <th>0</th>\n",
       "      <td>22703</td>\n",
       "      <td>9.3</td>\n",
       "      <td>mezzanine</td>\n",
       "      <td>massive attack</td>\n",
       "      <td>http://pitchfork.com/reviews/albums/22703-mezz...</td>\n",
       "      <td>“Trip-hop” eventually became a ’90s punchline,...</td>\n",
       "      <td>electronic</td>\n",
       "      <td>1998.0</td>\n",
       "      <td>trip-hop eventually became 90s punchline music...</td>\n",
       "    </tr>\n",
       "  </tbody>\n",
       "</table>\n",
       "</div>"
      ],
      "text/plain": [
       "   reviewid  score      title          artist  \\\n",
       "0     22703    9.3  mezzanine  massive attack   \n",
       "\n",
       "                                                 url  \\\n",
       "0  http://pitchfork.com/reviews/albums/22703-mezz...   \n",
       "\n",
       "                                             content       genre    year  \\\n",
       "0  “Trip-hop” eventually became a ’90s punchline,...  electronic  1998.0   \n",
       "\n",
       "                                     cleaned_content  \n",
       "0  trip-hop eventually became 90s punchline music...  "
      ]
     },
     "execution_count": 4,
     "metadata": {},
     "output_type": "execute_result"
    }
   ],
   "source": [
    "music_df.head(1)"
   ]
  },
  {
   "cell_type": "markdown",
   "id": "fatal-crime",
   "metadata": {},
   "source": [
    "### Data Description"
   ]
  },
  {
   "cell_type": "code",
   "execution_count": 5,
   "id": "executive-rwanda",
   "metadata": {},
   "outputs": [
    {
     "name": "stdout",
     "output_type": "stream",
     "text": [
      "<class 'pandas.core.frame.DataFrame'>\n",
      "Int64Index: 18375 entries, 0 to 18374\n",
      "Data columns (total 9 columns):\n",
      " #   Column           Non-Null Count  Dtype  \n",
      "---  ------           --------------  -----  \n",
      " 0   reviewid         18375 non-null  int64  \n",
      " 1   score            18375 non-null  float64\n",
      " 2   title            18375 non-null  object \n",
      " 3   artist           18375 non-null  object \n",
      " 4   url              18375 non-null  object \n",
      " 5   content          18375 non-null  object \n",
      " 6   genre            16014 non-null  object \n",
      " 7   year             17969 non-null  float64\n",
      " 8   cleaned_content  18372 non-null  object \n",
      "dtypes: float64(2), int64(1), object(6)\n",
      "memory usage: 1.4+ MB\n"
     ]
    },
    {
     "name": "stderr",
     "output_type": "stream",
     "text": [
      "C:\\ProgramData\\Miniconda3\\envs\\spacy_capstone\\lib\\site-packages\\ipykernel\\ipkernel.py:287: DeprecationWarning: `should_run_async` will not call `transform_cell` automatically in the future. Please pass the result to `transformed_cell` argument and any exception that happen during thetransform in `preprocessing_exc_tuple` in IPython 7.17 and above.\n",
      "  and should_run_async(code)\n"
     ]
    }
   ],
   "source": [
    "music_df.info()"
   ]
  },
  {
   "cell_type": "code",
   "execution_count": 6,
   "id": "starting-respect",
   "metadata": {},
   "outputs": [
    {
     "name": "stderr",
     "output_type": "stream",
     "text": [
      "C:\\ProgramData\\Miniconda3\\envs\\spacy_capstone\\lib\\site-packages\\ipykernel\\ipkernel.py:287: DeprecationWarning: `should_run_async` will not call `transform_cell` automatically in the future. Please pass the result to `transformed_cell` argument and any exception that happen during thetransform in `preprocessing_exc_tuple` in IPython 7.17 and above.\n",
      "  and should_run_async(code)\n"
     ]
    },
    {
     "data": {
      "text/plain": [
       "reviewid              0\n",
       "score                 0\n",
       "title                 0\n",
       "artist                0\n",
       "url                   0\n",
       "content               0\n",
       "genre              2361\n",
       "year                406\n",
       "cleaned_content       3\n",
       "dtype: int64"
      ]
     },
     "execution_count": 6,
     "metadata": {},
     "output_type": "execute_result"
    }
   ],
   "source": [
    "music_df.isnull().sum()"
   ]
  },
  {
   "cell_type": "code",
   "execution_count": 7,
   "id": "julian-truth",
   "metadata": {},
   "outputs": [
    {
     "name": "stderr",
     "output_type": "stream",
     "text": [
      "C:\\ProgramData\\Miniconda3\\envs\\spacy_capstone\\lib\\site-packages\\ipykernel\\ipkernel.py:287: DeprecationWarning: `should_run_async` will not call `transform_cell` automatically in the future. Please pass the result to `transformed_cell` argument and any exception that happen during thetransform in `preprocessing_exc_tuple` in IPython 7.17 and above.\n",
      "  and should_run_async(code)\n"
     ]
    }
   ],
   "source": [
    "#drop any null values - only dropping less than 20 out of the large amount of data\n",
    "music_df.dropna(subset=['artist'], inplace=True)\n",
    "music_df.dropna(subset=['title'], inplace=True)\n",
    "music_df.dropna(subset=['content'], inplace=True)"
   ]
  },
  {
   "cell_type": "markdown",
   "id": "adaptive-utilization",
   "metadata": {},
   "source": [
    "### Scores"
   ]
  },
  {
   "cell_type": "code",
   "execution_count": 8,
   "id": "textile-nigeria",
   "metadata": {},
   "outputs": [
    {
     "name": "stderr",
     "output_type": "stream",
     "text": [
      "C:\\ProgramData\\Miniconda3\\envs\\spacy_capstone\\lib\\site-packages\\ipykernel\\ipkernel.py:287: DeprecationWarning: `should_run_async` will not call `transform_cell` automatically in the future. Please pass the result to `transformed_cell` argument and any exception that happen during thetransform in `preprocessing_exc_tuple` in IPython 7.17 and above.\n",
      "  and should_run_async(code)\n"
     ]
    },
    {
     "data": {
      "image/png": "[encoded data removed]",
      "text/plain": [
       "<Figure size 432x288 with 1 Axes>"
      ]
     },
     "metadata": {
      "needs_background": "light"
     },
     "output_type": "display_data"
    }
   ],
   "source": [
    "plt.figure(figsize=(6, 4))\n",
    "plt.hist(music_df['score'])\n",
    "plt.title('Distribution of Scores')\n",
    "plt.xlabel('score')\n",
    "plt.ylabel('count');\n",
    "#fairly normal, skewed to the left"
   ]
  },
  {
   "cell_type": "markdown",
   "id": "latest-myrtle",
   "metadata": {},
   "source": [
    "### Genres"
   ]
  },
  {
   "cell_type": "code",
   "execution_count": 9,
   "id": "interstate-sociology",
   "metadata": {},
   "outputs": [
    {
     "name": "stderr",
     "output_type": "stream",
     "text": [
      "C:\\ProgramData\\Miniconda3\\envs\\spacy_capstone\\lib\\site-packages\\ipykernel\\ipkernel.py:287: DeprecationWarning: `should_run_async` will not call `transform_cell` automatically in the future. Please pass the result to `transformed_cell` argument and any exception that happen during thetransform in `preprocessing_exc_tuple` in IPython 7.17 and above.\n",
      "  and should_run_async(code)\n"
     ]
    },
    {
     "data": {
      "text/plain": [
       "rock            9430\n",
       "electronic      1992\n",
       "rap             1488\n",
       "pop/r&b         1087\n",
       "folk/country     574\n",
       "experimental     562\n",
       "metal            357\n",
       "jazz             341\n",
       "global           183\n",
       "Name: genre, dtype: int64"
      ]
     },
     "execution_count": 9,
     "metadata": {},
     "output_type": "execute_result"
    }
   ],
   "source": [
    "music_df['genre'].value_counts()"
   ]
  },
  {
   "cell_type": "code",
   "execution_count": 10,
   "id": "special-finance",
   "metadata": {},
   "outputs": [
    {
     "name": "stderr",
     "output_type": "stream",
     "text": [
      "C:\\ProgramData\\Miniconda3\\envs\\spacy_capstone\\lib\\site-packages\\ipykernel\\ipkernel.py:287: DeprecationWarning: `should_run_async` will not call `transform_cell` automatically in the future. Please pass the result to `transformed_cell` argument and any exception that happen during thetransform in `preprocessing_exc_tuple` in IPython 7.17 and above.\n",
      "  and should_run_async(code)\n"
     ]
    },
    {
     "data": {
      "image/png": "[encoded data removed]",
      "text/plain": [
       "<Figure size 432x288 with 1 Axes>"
      ]
     },
     "metadata": {
      "needs_background": "light"
     },
     "output_type": "display_data"
    }
   ],
   "source": [
    "genres = music_df.groupby('genre')['score']\n",
    "for genre in genres:\n",
    "    plt.hist(genre[1], bins=10, alpha=0.2, density=True)\n",
    "#no one genre stands out for amount of ratings"
   ]
  },
  {
   "cell_type": "code",
   "execution_count": 11,
   "id": "identified-windows",
   "metadata": {},
   "outputs": [
    {
     "name": "stderr",
     "output_type": "stream",
     "text": [
      "C:\\ProgramData\\Miniconda3\\envs\\spacy_capstone\\lib\\site-packages\\ipykernel\\ipkernel.py:287: DeprecationWarning: `should_run_async` will not call `transform_cell` automatically in the future. Please pass the result to `transformed_cell` argument and any exception that happen during thetransform in `preprocessing_exc_tuple` in IPython 7.17 and above.\n",
      "  and should_run_async(code)\n"
     ]
    },
    {
     "data": {
      "image/png": "[encoded data removed]",
      "text/plain": [
       "<Figure size 288x216 with 2 Axes>"
      ]
     },
     "metadata": {
      "needs_background": "light"
     },
     "output_type": "display_data"
    }
   ],
   "source": [
    "genre_df = pd.get_dummies(music_df['genre'])\n",
    "genre_df['score'] = music_df['score']\n",
    "\n",
    "plt.figure(figsize = (4, 3))\n",
    "sns.heatmap(genre_df.corr()[[\"score\"]], annot=True);\n",
    "#not much correlation between genres and scores"
   ]
  },
  {
   "cell_type": "markdown",
   "id": "bizarre-assessment",
   "metadata": {},
   "source": [
    "### Reviews (content)"
   ]
  },
  {
   "cell_type": "code",
   "execution_count": 12,
   "id": "instructional-diabetes",
   "metadata": {},
   "outputs": [
    {
     "name": "stderr",
     "output_type": "stream",
     "text": [
      "C:\\ProgramData\\Miniconda3\\envs\\spacy_capstone\\lib\\site-packages\\ipykernel\\ipkernel.py:287: DeprecationWarning: `should_run_async` will not call `transform_cell` automatically in the future. Please pass the result to `transformed_cell` argument and any exception that happen during thetransform in `preprocessing_exc_tuple` in IPython 7.17 and above.\n",
      "  and should_run_async(code)\n"
     ]
    }
   ],
   "source": [
    "# Review length\n",
    "music_df['review_length'] = [len(i) for i in music_df['content']]\n",
    "music_df['review_word_count'] = music_df['content'].str.split().apply(len)"
   ]
  },
  {
   "cell_type": "code",
   "execution_count": 13,
   "id": "pointed-radio",
   "metadata": {},
   "outputs": [
    {
     "name": "stderr",
     "output_type": "stream",
     "text": [
      "C:\\ProgramData\\Miniconda3\\envs\\spacy_capstone\\lib\\site-packages\\ipykernel\\ipkernel.py:287: DeprecationWarning: `should_run_async` will not call `transform_cell` automatically in the future. Please pass the result to `transformed_cell` argument and any exception that happen during thetransform in `preprocessing_exc_tuple` in IPython 7.17 and above.\n",
      "  and should_run_async(code)\n"
     ]
    },
    {
     "data": {
      "image/png": "[encoded data removed]",
      "text/plain": [
       "<Figure size 720x432 with 2 Axes>"
      ]
     },
     "metadata": {
      "needs_background": "light"
     },
     "output_type": "display_data"
    }
   ],
   "source": [
    "fig = plt.figure(figsize = (10, 6))\n",
    "\n",
    "ax = fig.add_subplot(2, 2, 1)\n",
    "sns.histplot(music_df['review_length'], ax=ax)\n",
    "plt.title('review length')\n",
    "\n",
    "ax = fig.add_subplot(2, 2, 2)\n",
    "sns.histplot(music_df['review_word_count'], ax=ax)\n",
    "plt.title('review word count');"
   ]
  },
  {
   "cell_type": "code",
   "execution_count": 14,
   "id": "blank-building",
   "metadata": {},
   "outputs": [
    {
     "name": "stderr",
     "output_type": "stream",
     "text": [
      "C:\\ProgramData\\Miniconda3\\envs\\spacy_capstone\\lib\\site-packages\\ipykernel\\ipkernel.py:287: DeprecationWarning: `should_run_async` will not call `transform_cell` automatically in the future. Please pass the result to `transformed_cell` argument and any exception that happen during thetransform in `preprocessing_exc_tuple` in IPython 7.17 and above.\n",
      "  and should_run_async(code)\n"
     ]
    }
   ],
   "source": [
    "#both review length and review word count are fairly normal, skewed to the right"
   ]
  },
  {
   "cell_type": "code",
   "execution_count": 15,
   "id": "compatible-locking",
   "metadata": {},
   "outputs": [
    {
     "name": "stderr",
     "output_type": "stream",
     "text": [
      "C:\\ProgramData\\Miniconda3\\envs\\spacy_capstone\\lib\\site-packages\\ipykernel\\ipkernel.py:287: DeprecationWarning: `should_run_async` will not call `transform_cell` automatically in the future. Please pass the result to `transformed_cell` argument and any exception that happen during thetransform in `preprocessing_exc_tuple` in IPython 7.17 and above.\n",
      "  and should_run_async(code)\n"
     ]
    },
    {
     "data": {
      "text/plain": [
       "503     3688\n",
       "104     3576\n",
       "5968    3021\n",
       "Name: review_word_count, dtype: int64"
      ]
     },
     "execution_count": 15,
     "metadata": {},
     "output_type": "execute_result"
    }
   ],
   "source": [
    "music_df['review_word_count'].nlargest(3)"
   ]
  },
  {
   "cell_type": "code",
   "execution_count": 16,
   "id": "located-happening",
   "metadata": {},
   "outputs": [
    {
     "name": "stderr",
     "output_type": "stream",
     "text": [
      "C:\\ProgramData\\Miniconda3\\envs\\spacy_capstone\\lib\\site-packages\\ipykernel\\ipkernel.py:287: DeprecationWarning: `should_run_async` will not call `transform_cell` automatically in the future. Please pass the result to `transformed_cell` argument and any exception that happen during thetransform in `preprocessing_exc_tuple` in IPython 7.17 and above.\n",
      "  and should_run_async(code)\n"
     ]
    },
    {
     "data": {
      "text/html": [
       "<div>\n",
       "<style scoped>\n",
       "    .dataframe tbody tr th:only-of-type {\n",
       "        vertical-align: middle;\n",
       "    }\n",
       "\n",
       "    .dataframe tbody tr th {\n",
       "        vertical-align: top;\n",
       "    }\n",
       "\n",
       "    .dataframe thead th {\n",
       "        text-align: right;\n",
       "    }\n",
       "</style>\n",
       "<table border=\"1\" class=\"dataframe\">\n",
       "  <thead>\n",
       "    <tr style=\"text-align: right;\">\n",
       "      <th></th>\n",
       "      <th>reviewid</th>\n",
       "      <th>score</th>\n",
       "      <th>title</th>\n",
       "      <th>artist</th>\n",
       "      <th>url</th>\n",
       "      <th>content</th>\n",
       "      <th>genre</th>\n",
       "      <th>year</th>\n",
       "      <th>cleaned_content</th>\n",
       "      <th>review_length</th>\n",
       "      <th>review_word_count</th>\n",
       "    </tr>\n",
       "  </thead>\n",
       "  <tbody>\n",
       "    <tr>\n",
       "      <th>104</th>\n",
       "      <td>22561</td>\n",
       "      <td>9.5</td>\n",
       "      <td>death certificate</td>\n",
       "      <td>ice cube</td>\n",
       "      <td>http://pitchfork.com/reviews/albums/22561-deat...</td>\n",
       "      <td>Ice Cube left N.W.A. in late 1989 over a royal...</td>\n",
       "      <td>rap</td>\n",
       "      <td>1991.0</td>\n",
       "      <td>ice cube left n.w.a late 1989 royalty dispute ...</td>\n",
       "      <td>22419</td>\n",
       "      <td>3576</td>\n",
       "    </tr>\n",
       "    <tr>\n",
       "      <th>503</th>\n",
       "      <td>22044</td>\n",
       "      <td>8.6</td>\n",
       "      <td>dangerous</td>\n",
       "      <td>michael jackson</td>\n",
       "      <td>http://pitchfork.com/reviews/albums/22044-dang...</td>\n",
       "      <td>On the night of November 14, 1991, 500 million...</td>\n",
       "      <td>pop/r&amp;b</td>\n",
       "      <td>1991.0</td>\n",
       "      <td>night november 14 1991 500 million people scat...</td>\n",
       "      <td>22171</td>\n",
       "      <td>3688</td>\n",
       "    </tr>\n",
       "  </tbody>\n",
       "</table>\n",
       "</div>"
      ],
      "text/plain": [
       "     reviewid  score              title           artist  \\\n",
       "104     22561    9.5  death certificate         ice cube   \n",
       "503     22044    8.6          dangerous  michael jackson   \n",
       "\n",
       "                                                   url  \\\n",
       "104  http://pitchfork.com/reviews/albums/22561-deat...   \n",
       "503  http://pitchfork.com/reviews/albums/22044-dang...   \n",
       "\n",
       "                                               content    genre    year  \\\n",
       "104  Ice Cube left N.W.A. in late 1989 over a royal...      rap  1991.0   \n",
       "503  On the night of November 14, 1991, 500 million...  pop/r&b  1991.0   \n",
       "\n",
       "                                       cleaned_content  review_length  \\\n",
       "104  ice cube left n.w.a late 1989 royalty dispute ...          22419   \n",
       "503  night november 14 1991 500 million people scat...          22171   \n",
       "\n",
       "     review_word_count  \n",
       "104               3576  \n",
       "503               3688  "
      ]
     },
     "execution_count": 16,
     "metadata": {},
     "output_type": "execute_result"
    }
   ],
   "source": [
    "music_df.loc[music_df['review_word_count'] > 3000][:2]"
   ]
  },
  {
   "cell_type": "markdown",
   "id": "identified-helping",
   "metadata": {},
   "source": [
    "### Word Counts, Bigrams, Trigrams"
   ]
  },
  {
   "cell_type": "code",
   "execution_count": 17,
   "id": "black-remark",
   "metadata": {},
   "outputs": [
    {
     "name": "stderr",
     "output_type": "stream",
     "text": [
      "C:\\ProgramData\\Miniconda3\\envs\\spacy_capstone\\lib\\site-packages\\ipykernel\\ipkernel.py:287: DeprecationWarning: `should_run_async` will not call `transform_cell` automatically in the future. Please pass the result to `transformed_cell` argument and any exception that happen during thetransform in `preprocessing_exc_tuple` in IPython 7.17 and above.\n",
      "  and should_run_async(code)\n"
     ]
    },
    {
     "data": {
      "image/png": "[encoded data removed]",
      "text/plain": [
       "<Figure size 432x288 with 1 Axes>"
      ]
     },
     "metadata": {
      "needs_background": "light"
     },
     "output_type": "display_data"
    }
   ],
   "source": [
    "#most common words\n",
    "cvect = CountVectorizer(stop_words='english')\n",
    "words = music_df['content'].sample(n=2000)\n",
    "words_vect = cvect.fit_transform(words)\n",
    "words_df = pd.DataFrame(words_vect.toarray(), columns=cvect.get_feature_names())\n",
    "words_df.sum().sort_values(ascending=False).head(15).plot(kind='barh').invert_yaxis();"
   ]
  },
  {
   "cell_type": "code",
   "execution_count": 18,
   "id": "intensive-pathology",
   "metadata": {},
   "outputs": [
    {
     "name": "stderr",
     "output_type": "stream",
     "text": [
      "C:\\ProgramData\\Miniconda3\\envs\\spacy_capstone\\lib\\site-packages\\ipykernel\\ipkernel.py:287: DeprecationWarning: `should_run_async` will not call `transform_cell` automatically in the future. Please pass the result to `transformed_cell` argument and any exception that happen during thetransform in `preprocessing_exc_tuple` in IPython 7.17 and above.\n",
      "  and should_run_async(code)\n"
     ]
    },
    {
     "data": {
      "image/png": "[encoded data removed]",
      "text/plain": [
       "<Figure size 432x288 with 1 Axes>"
      ]
     },
     "metadata": {
      "needs_background": "light"
     },
     "output_type": "display_data"
    }
   ],
   "source": [
    "#most common bigrams\n",
    "#note this is from sample of data due to large vector size\n",
    "cvect_bigrams = CountVectorizer(ngram_range = (2, 2), stop_words='english')\n",
    "words = music_df['content'].sample(n=2000)\n",
    "words_vect_bigrams = cvect_bigrams.fit_transform(words)\n",
    "words_vect_bigrams_df = pd.DataFrame(words_vect_bigrams.toarray(), columns=cvect_bigrams.get_feature_names())\n",
    "words_vect_bigrams_df.sum().sort_values(ascending=False).head(15).plot(kind='barh').invert_yaxis();"
   ]
  },
  {
   "cell_type": "code",
   "execution_count": 20,
   "id": "complicated-robin",
   "metadata": {},
   "outputs": [
    {
     "name": "stderr",
     "output_type": "stream",
     "text": [
      "C:\\ProgramData\\Miniconda3\\envs\\spacy_capstone\\lib\\site-packages\\ipykernel\\ipkernel.py:287: DeprecationWarning: `should_run_async` will not call `transform_cell` automatically in the future. Please pass the result to `transformed_cell` argument and any exception that happen during thetransform in `preprocessing_exc_tuple` in IPython 7.17 and above.\n",
      "  and should_run_async(code)\n"
     ]
    },
    {
     "data": {
      "image/png": "[encoded data removed]",
      "text/plain": [
       "<Figure size 432x288 with 1 Axes>"
      ]
     },
     "metadata": {
      "needs_background": "light"
     },
     "output_type": "display_data"
    }
   ],
   "source": [
    "#most common trigrams\n",
    "#note this is from sample of data due to large vector size\n",
    "cvect_trigrams = CountVectorizer(ngram_range = (3, 3), stop_words='english')\n",
    "words = music_df['content'].sample(n=1000)\n",
    "words_vect_trigrams = cvect_trigrams.fit_transform(words)\n",
    "words_vect_trigrams_df = pd.DataFrame(words_vect_trigrams.toarray(), columns=cvect_trigrams.get_feature_names())\n",
    "words_vect_trigrams_df.sum().sort_values(ascending=False).head(15).plot(kind='barh').invert_yaxis();"
   ]
  },
  {
   "cell_type": "markdown",
   "id": "passive-resort",
   "metadata": {},
   "source": [
    "### pyLDAvis"
   ]
  },
  {
   "cell_type": "code",
   "execution_count": 21,
   "id": "figured-swiss",
   "metadata": {},
   "outputs": [
    {
     "name": "stderr",
     "output_type": "stream",
     "text": [
      "C:\\ProgramData\\Miniconda3\\envs\\spacy_capstone\\lib\\site-packages\\ipykernel\\ipkernel.py:287: DeprecationWarning: `should_run_async` will not call `transform_cell` automatically in the future. Please pass the result to `transformed_cell` argument and any exception that happen during thetransform in `preprocessing_exc_tuple` in IPython 7.17 and above.\n",
      "  and should_run_async(code)\n"
     ]
    },
    {
     "data": {
      "text/plain": [
       "LatentDirichletAllocation(n_components=4)"
      ]
     },
     "execution_count": 21,
     "metadata": {},
     "output_type": "execute_result"
    }
   ],
   "source": [
    "X = music_df['content']\n",
    "\n",
    "tf_vect = TfidfVectorizer(stop_words='english', max_features=200)\n",
    "dtm = tf_vect.fit_transform(X)\n",
    "lda = LatentDirichletAllocation(n_components=4)\n",
    "lda.fit(dtm)"
   ]
  },
  {
   "cell_type": "code",
   "execution_count": 22,
   "id": "monthly-lawrence",
   "metadata": {},
   "outputs": [
    {
     "name": "stderr",
     "output_type": "stream",
     "text": [
      "C:\\ProgramData\\Miniconda3\\envs\\spacy_capstone\\lib\\site-packages\\ipykernel\\ipkernel.py:287: DeprecationWarning: `should_run_async` will not call `transform_cell` automatically in the future. Please pass the result to `transformed_cell` argument and any exception that happen during thetransform in `preprocessing_exc_tuple` in IPython 7.17 and above.\n",
      "  and should_run_async(code)\n"
     ]
    },
    {
     "data": {
      "text/html": [
       "\n",
       "<link rel=\"stylesheet\" type=\"text/css\" href=\"https://cdn.jsdelivr.net/gh/bmabey/pyLDAvis@3.2.2/pyLDAvis/js/ldavis.v1.0.0.css\">\n",
       "\n",
       "\n",
       "<div id=\"ldavis_el164024850189621766625900727\"></div>\n",
       "<script type=\"text/javascript\">\n",
       "\n",
       "var ldavis_el164024850189621766625900727_data = {\"mdsDat\": {\"x\": [0.02216208569428664, 0.024743248182368324, 0.0020693271457103276, -0.04897466102236533], \"y\": [0.011311883550346877, 0.010773069662038594, -0.03132315525477864, 0.009238202042393208], \"topics\": [1, 2, 3, 4], \"cluster\": [1, 1, 1, 1], \"Freq\": [32.643026948536715, 30.560193375875993, 22.700523775133313, 14.096255900453983]}, \"tinfo\": {\"Term\": [\"rap\", \"hop\", \"hip\", \"band\", \"beats\", \"electronic\", \"soul\", \"music\", \"beat\", \"dance\", \"house\", \"folk\", \"punk\", \"production\", \"producer\", \"tracks\", \"like\", \"jazz\", \"bands\", \"sings\", \"synth\", \"label\", \"noise\", \"track\", \"metal\", \"got\", \"rock\", \"artists\", \"bass\", \"work\", \"punk\", \"bands\", \"band\", \"rock\", \"disc\", \"indie\", \"live\", \"version\", \"post\", \"studio\", \"group\", \"fans\", \"cover\", \"white\", \"didn\", \"did\", \"power\", \"original\", \"ve\", \"set\", \"albums\", \"guitars\", \"people\", \"early\", \"recorded\", \"pop\", \"course\", \"later\", \"bad\", \"material\", \"songs\", \"good\", \"better\", \"years\", \"song\", \"new\", \"just\", \"like\", \"time\", \"album\", \"guitar\", \"record\", \"sound\", \"don\", \"music\", \"best\", \"way\", \"little\", \"make\", \"tracks\", \"love\", \"track\", \"folk\", \"sings\", \"metal\", \"acoustic\", \"country\", \"death\", \"singing\", \"voice\", \"lyrics\", \"words\", \"singer\", \"guitars\", \"guitar\", \"melodies\", \"heart\", \"chorus\", \"songs\", \"melody\", \"piano\", \"love\", \"black\", \"vocals\", \"light\", \"song\", \"solo\", \"simple\", \"life\", \"home\", \"title\", \"slow\", \"line\", \"album\", \"self\", \"like\", \"record\", \"band\", \"pop\", \"just\", \"sound\", \"music\", \"sounds\", \"rock\", \"time\", \"way\", \"track\", \"new\", \"little\", \"don\", \"best\", \"work\", \"electronic\", \"house\", \"dance\", \"jazz\", \"synth\", \"piece\", \"mix\", \"noise\", \"drum\", \"bass\", \"music\", \"label\", \"space\", \"artists\", \"works\", \"producer\", \"tracks\", \"beats\", \"work\", \"listening\", \"ep\", \"beat\", \"project\", \"minutes\", \"sense\", \"piano\", \"sounds\", \"track\", \"different\", \"minute\", \"sound\", \"like\", \"album\", \"feel\", \"new\", \"way\", \"record\", \"time\", \"just\", \"pop\", \"guitar\", \"rap\", \"hop\", \"hip\", \"beats\", \"soul\", \"production\", \"beat\", \"producer\", \"got\", \"young\", \"man\", \"artists\", \"style\", \"career\", \"bad\", \"life\", \"big\", \"year\", \"real\", \"black\", \"label\", \"gets\", \"old\", \"don\", \"project\", \"city\", \"called\", \"doesn\", \"know\", \"isn\", \"good\", \"best\", \"just\", \"like\", \"album\", \"tracks\", \"new\", \"track\", \"years\", \"time\", \"way\", \"music\", \"record\", \"song\", \"make\", \"sounds\", \"love\"], \"Freq\": [544.0, 500.0, 474.0, 1759.0, 485.0, 447.0, 432.0, 1710.0, 527.0, 529.0, 511.0, 469.0, 575.0, 482.0, 381.0, 989.0, 2561.0, 409.0, 485.0, 422.0, 449.0, 506.0, 483.0, 1038.0, 483.0, 490.0, 1206.0, 384.0, 612.0, 842.0, 446.9245562284334, 344.60449607116124, 1092.9710674502992, 706.2949043010912, 226.51601924398673, 311.81168775403927, 308.282726625197, 199.58617812066697, 258.66573168671016, 189.7663750167516, 304.41727324519087, 169.0045919939434, 191.27952595352735, 178.1890683648897, 149.41919399492465, 158.97183113866464, 174.8905635726278, 170.7936757140519, 320.86960577745094, 223.78632249534604, 235.9259534964293, 199.69976655044758, 224.912521057649, 221.27347573843423, 179.0436382844942, 458.7379138259219, 165.41759115755966, 144.69707086034978, 147.24591012681887, 172.31994868768237, 528.6929911966835, 290.1006671238155, 212.62427362496885, 282.39644444638895, 454.4160453244445, 393.1850544326064, 428.2537734531986, 779.7705014422803, 377.9415081647287, 603.8596544390756, 373.03663345625813, 374.6246029565419, 390.0838124112232, 270.4889952691468, 420.98164331471895, 272.87052869027036, 283.00000154158715, 261.7590488688497, 254.498541453494, 270.2895088551621, 251.40905161907287, 256.28633263133986, 356.33677092650066, 309.47317286878274, 325.4102773484697, 276.0950108605623, 218.95507440724296, 225.548335686195, 210.15968095462196, 386.7006598960219, 314.4578639677143, 185.93846304470352, 224.95014592115473, 231.83529513773544, 493.5545317106508, 179.4914406044142, 169.84767739353813, 192.37046758405293, 619.0696353581454, 201.58667661322954, 235.29730625758796, 368.8863323430363, 255.49865745329586, 289.46812326202246, 172.15227193478142, 532.6623005395422, 207.61423961755833, 150.03758317824696, 234.61780686915154, 157.84234618149367, 221.9208972489573, 146.31126759934398, 188.98405234116112, 698.6251388643784, 222.08799926764854, 805.281708806897, 387.24951214323903, 520.7668658902943, 355.5349474304065, 368.1080075178769, 356.26477498554044, 429.884972930007, 308.7687550503042, 334.8120273964731, 314.2242834701207, 279.4936572938112, 291.89764732301967, 289.5516770108051, 253.27409656342147, 248.50153439624214, 245.52897577425546, 238.5819833814616, 332.95564890102725, 310.4000703019722, 318.26939829584336, 227.27691697895392, 238.46475806445287, 196.9609092614664, 199.57522115139474, 226.2790275741607, 198.74912532782855, 263.52109079724215, 695.4945506875819, 202.03625128875362, 164.33109030623066, 147.17356310723767, 137.27166128600484, 141.69079346956323, 366.4583434716519, 172.9737512855132, 299.85249622646967, 124.4422474776632, 183.1851807148589, 178.45880391169013, 133.7765838996462, 178.73751822951385, 201.93034928440792, 177.86775967365654, 327.61077428998084, 338.3720301041812, 135.74103795703644, 155.48721555638008, 367.23257529978923, 603.2668487618506, 422.65275877247655, 187.87921705218542, 264.09205167658973, 232.8037128869393, 251.09540216133522, 231.15644935594543, 242.2937251633838, 231.3888950061762, 186.37129565624952, 542.9045898470307, 440.4229675735255, 415.9767057689829, 216.9522211659021, 187.12108144160968, 161.10634336860113, 167.64225317307705, 114.80985134698074, 122.02316327473527, 102.83549454358034, 125.9195152510143, 85.68538804911823, 108.11443375188479, 81.62441593791578, 75.55923177005647, 123.4109639082349, 105.21626167696598, 129.82142370739155, 81.96047891392642, 116.30781794744615, 93.543984491075, 67.67486476264669, 110.14773442476549, 141.28357285878897, 71.62977483908458, 70.96672666701171, 61.39508738097998, 113.91092098283141, 102.20241937855596, 97.95902016184714, 132.71705986398814, 139.44912008357358, 197.5821753583842, 372.9410030978631, 275.89352869786256, 149.6565647738912, 159.28203342002743, 152.2363887297858, 121.90634624645445, 150.08830326116862, 131.31352579921506, 164.62072889848514, 141.50440772629327, 144.83429230981676, 117.01017998345448, 115.8318067910046, 115.18011597552658], \"Total\": [544.0, 500.0, 474.0, 1759.0, 485.0, 447.0, 432.0, 1710.0, 527.0, 529.0, 511.0, 469.0, 575.0, 482.0, 381.0, 989.0, 2561.0, 409.0, 485.0, 422.0, 449.0, 506.0, 483.0, 1038.0, 483.0, 490.0, 1206.0, 384.0, 612.0, 842.0, 575.668251720997, 485.21172411827627, 1759.4503943889363, 1206.8634036516883, 390.7604078846535, 555.0655812085113, 593.540556006752, 386.7449633315387, 502.61081928119853, 372.7756743281338, 608.3992289758323, 359.6625727561434, 414.51795789068245, 389.6929260890057, 328.96754266453894, 353.88770256069324, 389.6500431701852, 394.22782234106245, 769.3765415734304, 540.3583375337673, 574.1397580418873, 489.77116021014234, 556.2519279574966, 548.5265321964278, 446.2041952262914, 1144.68564647199, 414.82729299813667, 363.11834984669366, 370.6518542433919, 437.4231631580543, 1408.5523962384368, 758.3475890672908, 547.1160351324266, 753.3335038525007, 1302.281907002859, 1106.1108165400287, 1236.2376814928434, 2561.260062108891, 1073.4105442519635, 2001.031080773793, 1082.6267504681696, 1154.4739249874094, 1228.3054345347123, 773.5903322700727, 1710.9818958307928, 814.3128998707394, 926.6108975215527, 790.045207876814, 779.1696730751474, 989.9225375668977, 854.2723445948839, 1038.7923987883266, 469.38707874296335, 422.60868332286356, 483.96446636317796, 456.59293598082127, 374.73053641823714, 386.5326539763372, 365.84200038196246, 728.0533474496879, 611.5036628793949, 372.3039954026586, 450.63566617327007, 489.77116021014234, 1082.6267504681696, 396.1203118729178, 377.6870633108692, 432.9558582255182, 1408.5523962384368, 464.4035521341516, 543.4301887714998, 854.2723445948839, 596.875192902434, 686.4664356006547, 409.5449528740207, 1302.281907002859, 512.0210343441432, 370.3925395007489, 607.8796177891938, 409.35959905131045, 582.823960059254, 387.22274187772746, 505.3837579103724, 2001.031080773793, 599.5175228106128, 2561.260062108891, 1154.4739249874094, 1759.4503943889363, 1144.68564647199, 1236.2376814928434, 1228.3054345347123, 1710.9818958307928, 1003.9902828812989, 1206.8634036516883, 1073.4105442519635, 926.6108975215527, 1038.7923987883266, 1106.1108165400287, 790.045207876814, 773.5903322700727, 814.3128998707394, 842.7232999277146, 447.74098993617173, 511.8016392417797, 529.1470342433187, 409.82625322941243, 449.65600425498235, 397.175696231306, 424.4774929712651, 483.21515471790565, 454.5191103591275, 612.7594064933116, 1710.9818958307928, 506.9766631497182, 422.86913057492364, 384.596060190574, 362.4970650272058, 381.6091561091689, 989.9225375668977, 485.5955316490322, 842.7232999277146, 353.81746809198563, 533.0545655638697, 527.8235017750079, 399.57120483017894, 537.1608719372675, 607.2067487258261, 543.4301887714998, 1003.9902828812989, 1038.7923987883266, 418.11961383675947, 484.534066958715, 1228.3054345347123, 2561.260062108891, 2001.031080773793, 638.671544681659, 1106.1108165400287, 926.6108975215527, 1154.4739249874094, 1073.4105442519635, 1236.2376814928434, 1144.68564647199, 1082.6267504681696, 544.3493716723514, 500.61264106679505, 474.3211043962116, 485.5955316490322, 432.26114045233965, 482.7250273964997, 527.8235017750079, 381.6091561091689, 490.3547846566835, 435.5299898056774, 559.6662607960686, 384.596060190574, 494.7562540011586, 391.27459978174033, 370.6518542433919, 607.8796177891938, 530.670611643262, 654.8418268248101, 419.73054163242836, 596.875192902434, 506.9766631497182, 370.38673037361605, 602.9334908479004, 773.5903322700727, 399.57120483017894, 396.53496184241607, 343.26308055575026, 637.0854474628206, 573.0685694301455, 554.2252596603829, 758.3475890672908, 814.3128998707394, 1236.2376814928434, 2561.260062108891, 2001.031080773793, 989.9225375668977, 1106.1108165400287, 1038.7923987883266, 753.3335038525007, 1073.4105442519635, 926.6108975215527, 1710.9818958307928, 1154.4739249874094, 1302.281907002859, 779.1696730751474, 1003.9902828812989, 854.2723445948839], \"Category\": [\"Default\", \"Default\", \"Default\", \"Default\", \"Default\", \"Default\", \"Default\", \"Default\", \"Default\", \"Default\", \"Default\", \"Default\", \"Default\", \"Default\", \"Default\", \"Default\", \"Default\", \"Default\", \"Default\", \"Default\", \"Default\", \"Default\", \"Default\", \"Default\", \"Default\", \"Default\", \"Default\", \"Default\", \"Default\", \"Default\", \"Topic1\", \"Topic1\", \"Topic1\", \"Topic1\", \"Topic1\", \"Topic1\", \"Topic1\", \"Topic1\", \"Topic1\", \"Topic1\", \"Topic1\", \"Topic1\", \"Topic1\", \"Topic1\", \"Topic1\", \"Topic1\", \"Topic1\", \"Topic1\", \"Topic1\", \"Topic1\", \"Topic1\", \"Topic1\", \"Topic1\", \"Topic1\", \"Topic1\", \"Topic1\", \"Topic1\", \"Topic1\", \"Topic1\", \"Topic1\", \"Topic1\", \"Topic1\", \"Topic1\", \"Topic1\", \"Topic1\", \"Topic1\", \"Topic1\", \"Topic1\", \"Topic1\", \"Topic1\", \"Topic1\", \"Topic1\", \"Topic1\", \"Topic1\", \"Topic1\", \"Topic1\", \"Topic1\", \"Topic1\", \"Topic1\", \"Topic1\", \"Topic1\", \"Topic1\", \"Topic2\", \"Topic2\", \"Topic2\", \"Topic2\", \"Topic2\", \"Topic2\", \"Topic2\", \"Topic2\", \"Topic2\", \"Topic2\", \"Topic2\", \"Topic2\", \"Topic2\", \"Topic2\", \"Topic2\", \"Topic2\", \"Topic2\", \"Topic2\", \"Topic2\", \"Topic2\", \"Topic2\", \"Topic2\", \"Topic2\", \"Topic2\", \"Topic2\", \"Topic2\", \"Topic2\", \"Topic2\", \"Topic2\", \"Topic2\", \"Topic2\", \"Topic2\", \"Topic2\", \"Topic2\", \"Topic2\", \"Topic2\", \"Topic2\", \"Topic2\", \"Topic2\", \"Topic2\", \"Topic2\", \"Topic2\", \"Topic2\", \"Topic2\", \"Topic2\", \"Topic2\", \"Topic2\", \"Topic2\", \"Topic2\", \"Topic2\", \"Topic3\", \"Topic3\", \"Topic3\", \"Topic3\", \"Topic3\", \"Topic3\", \"Topic3\", \"Topic3\", \"Topic3\", \"Topic3\", \"Topic3\", \"Topic3\", \"Topic3\", \"Topic3\", \"Topic3\", \"Topic3\", \"Topic3\", \"Topic3\", \"Topic3\", \"Topic3\", \"Topic3\", \"Topic3\", \"Topic3\", \"Topic3\", \"Topic3\", \"Topic3\", \"Topic3\", \"Topic3\", \"Topic3\", \"Topic3\", \"Topic3\", \"Topic3\", \"Topic3\", \"Topic3\", \"Topic3\", \"Topic3\", \"Topic3\", \"Topic3\", \"Topic3\", \"Topic3\", \"Topic3\", \"Topic4\", \"Topic4\", \"Topic4\", \"Topic4\", \"Topic4\", \"Topic4\", \"Topic4\", \"Topic4\", \"Topic4\", \"Topic4\", \"Topic4\", \"Topic4\", \"Topic4\", \"Topic4\", \"Topic4\", \"Topic4\", \"Topic4\", \"Topic4\", \"Topic4\", \"Topic4\", \"Topic4\", \"Topic4\", \"Topic4\", \"Topic4\", \"Topic4\", \"Topic4\", \"Topic4\", \"Topic4\", \"Topic4\", \"Topic4\", \"Topic4\", \"Topic4\", \"Topic4\", \"Topic4\", \"Topic4\", \"Topic4\", \"Topic4\", \"Topic4\", \"Topic4\", \"Topic4\", \"Topic4\", \"Topic4\", \"Topic4\", \"Topic4\", \"Topic4\", \"Topic4\", \"Topic4\"], \"logprob\": [30.0, 29.0, 28.0, 27.0, 26.0, 25.0, 24.0, 23.0, 22.0, 21.0, 20.0, 19.0, 18.0, 17.0, 16.0, 15.0, 14.0, 13.0, 12.0, 11.0, 10.0, 9.0, 8.0, 7.0, 6.0, 5.0, 4.0, 3.0, 2.0, 1.0, -4.4137, -4.6737, -3.5195, -3.9561, -5.0933, -4.7737, -4.7851, -5.2199, -4.9606, -5.2703, -4.7977, -5.3862, -5.2624, -5.3333, -5.5094, -5.4474, -5.352, -5.3757, -4.7451, -5.1054, -5.0526, -5.2193, -5.1004, -5.1167, -5.3285, -4.3877, -5.4077, -5.5415, -5.524, -5.3668, -4.2457, -4.8459, -5.1566, -4.8728, -4.3971, -4.5419, -4.4564, -3.8571, -4.5814, -4.1128, -4.5945, -4.5902, -4.5498, -4.9159, -4.4735, -4.9071, -4.8707, -4.9487, -4.9768, -4.9166, -4.9891, -4.9698, -4.5743, -4.7153, -4.6651, -4.8295, -5.0613, -5.0317, -5.1023, -4.4926, -4.6994, -5.2248, -5.0343, -5.0042, -4.2486, -5.2601, -5.3153, -5.1908, -4.022, -5.144, -4.9894, -4.5397, -4.907, -4.7822, -5.3018, -4.1723, -5.1145, -5.4393, -4.9922, -5.3886, -5.0479, -5.4645, -5.2085, -3.9011, -5.0471, -3.759, -4.4911, -4.1949, -4.5766, -4.5418, -4.5745, -4.3867, -4.7176, -4.6366, -4.7001, -4.8172, -4.7738, -4.7819, -4.9157, -4.9348, -4.9468, -4.9755, -4.3449, -4.415, -4.39, -4.7267, -4.6787, -4.8699, -4.8567, -4.7311, -4.8609, -4.5788, -3.6083, -4.8444, -5.051, -5.1613, -5.2309, -5.1992, -4.249, -4.9998, -4.4496, -5.3291, -4.9424, -4.9685, -5.2567, -4.967, -4.845, -4.9719, -4.3611, -4.3287, -5.2421, -5.1063, -4.2469, -3.7505, -4.1063, -4.9171, -4.5766, -4.7027, -4.6271, -4.7098, -4.6627, -4.7088, -4.9252, -3.3795, -3.5887, -3.6458, -4.2967, -4.4447, -4.5944, -4.5546, -4.9331, -4.8722, -5.0433, -4.8408, -5.2257, -4.9932, -5.2743, -5.3515, -4.8609, -5.0204, -4.8103, -5.2702, -4.9202, -5.138, -5.4617, -4.9746, -4.7256, -5.4049, -5.4142, -5.5591, -4.941, -5.0495, -5.0919, -4.7882, -4.7387, -4.3903, -3.755, -4.0564, -4.6681, -4.6057, -4.651, -4.8732, -4.6652, -4.7988, -4.5728, -4.7241, -4.7008, -4.9142, -4.9243, -4.9299], \"loglift\": [30.0, 29.0, 28.0, 27.0, 26.0, 25.0, 24.0, 23.0, 22.0, 21.0, 20.0, 19.0, 18.0, 17.0, 16.0, 15.0, 14.0, 13.0, 12.0, 11.0, 10.0, 9.0, 8.0, 7.0, 6.0, 5.0, 4.0, 3.0, 2.0, 1.0, 0.8664, 0.7774, 0.6434, 0.5838, 0.5743, 0.5429, 0.4645, 0.458, 0.4553, 0.4444, 0.4271, 0.3643, 0.3462, 0.337, 0.3303, 0.3193, 0.3185, 0.2831, 0.245, 0.238, 0.2302, 0.2224, 0.214, 0.2117, 0.2064, 0.2051, 0.2001, 0.1995, 0.1964, 0.188, 0.1396, 0.1586, 0.1744, 0.1383, 0.0667, 0.0852, 0.0594, -0.0697, 0.0757, -0.0785, 0.0541, -0.0059, -0.0275, 0.0687, -0.2827, 0.0262, -0.0665, 0.0149, 0.0006, -0.1786, -0.1036, -0.28, 0.9099, 0.8739, 0.7885, 0.6824, 0.6481, 0.6468, 0.6311, 0.5527, 0.5204, 0.4912, 0.4907, 0.4376, 0.4, 0.3939, 0.3863, 0.3743, 0.3634, 0.3509, 0.3484, 0.3457, 0.337, 0.322, 0.3188, 0.2915, 0.2828, 0.2818, 0.2335, 0.2325, 0.2199, 0.2122, 0.2018, 0.1332, 0.1924, 0.0284, 0.0931, -0.032, 0.0162, -0.026, -0.0522, -0.1958, 0.0063, -0.0967, -0.043, -0.0131, -0.0839, -0.1548, 0.0479, 0.0499, -0.0135, -0.0765, 1.1866, 0.9827, 0.9744, 0.8932, 0.8485, 0.7814, 0.7281, 0.7241, 0.6556, 0.6389, 0.5826, 0.5628, 0.5376, 0.5222, 0.5117, 0.492, 0.489, 0.4505, 0.4494, 0.4378, 0.4147, 0.3984, 0.3886, 0.3824, 0.3818, 0.3659, 0.3629, 0.3611, 0.3578, 0.3462, 0.2754, 0.0369, -0.0721, 0.2592, 0.0505, 0.1014, -0.0428, -0.0527, -0.1469, -0.116, -0.2766, 1.9566, 1.8312, 1.828, 1.1536, 1.122, 0.8619, 0.8123, 0.7581, 0.5683, 0.5158, 0.4676, 0.4577, 0.4384, 0.392, 0.3689, 0.3648, 0.3411, 0.341, 0.3259, 0.3238, 0.2692, 0.2594, 0.2593, 0.259, 0.2404, 0.2387, 0.2381, 0.2378, 0.2352, 0.2262, 0.2163, 0.1946, 0.1256, 0.0324, -0.0221, 0.07, 0.0213, 0.0389, 0.138, -0.0081, 0.0053, -0.3819, -0.1398, -0.237, 0.0633, -0.2003, -0.0445]}, \"token.table\": {\"Topic\": [1, 2, 3, 4, 1, 2, 3, 4, 1, 2, 3, 4, 1, 2, 3, 4, 1, 2, 3, 4, 1, 2, 3, 4, 1, 2, 3, 4, 1, 2, 3, 4, 1, 2, 3, 4, 1, 2, 3, 4, 1, 2, 3, 4, 1, 2, 3, 4, 1, 2, 3, 4, 1, 2, 3, 4, 1, 2, 3, 4, 1, 2, 3, 4, 1, 2, 3, 4, 1, 2, 3, 4, 1, 2, 3, 4, 1, 2, 3, 4, 1, 2, 3, 4, 1, 2, 3, 4, 1, 2, 3, 4, 1, 2, 3, 4, 1, 2, 3, 4, 1, 2, 3, 4, 1, 2, 3, 4, 1, 2, 3, 4, 1, 2, 3, 4, 1, 2, 3, 4, 1, 2, 3, 4, 1, 2, 3, 4, 1, 2, 3, 4, 1, 2, 3, 4, 1, 2, 3, 4, 1, 2, 3, 4, 1, 2, 3, 4, 1, 2, 3, 4, 1, 2, 3, 4, 1, 2, 3, 4, 1, 2, 3, 4, 1, 2, 3, 4, 1, 2, 3, 4, 1, 3, 4, 1, 2, 3, 4, 1, 2, 3, 4, 1, 2, 3, 4, 1, 2, 3, 4, 1, 2, 3, 4, 1, 2, 3, 4, 1, 2, 3, 4, 1, 2, 3, 4, 1, 2, 3, 4, 1, 2, 3, 4, 1, 2, 3, 4, 1, 2, 3, 4, 1, 2, 3, 4, 1, 2, 3, 4, 1, 2, 3, 4, 1, 2, 3, 4, 1, 2, 3, 4, 1, 2, 3, 4, 1, 2, 3, 4, 1, 2, 3, 4, 1, 2, 3, 4, 1, 2, 3, 4, 1, 2, 3, 4, 1, 2, 3, 4, 1, 2, 3, 4, 1, 2, 3, 4, 1, 2, 3, 4, 1, 2, 3, 4, 1, 2, 3, 4, 1, 2, 3, 4, 1, 2, 3, 4, 1, 2, 3, 4, 1, 2, 3, 4, 1, 2, 3, 4, 1, 2, 3, 4, 1, 2, 3, 4, 1, 2, 3, 4, 1, 2, 3, 4, 1, 2, 3, 4, 1, 2, 3, 4, 1, 2, 3, 4, 1, 2, 3, 4, 1, 2, 3, 4, 3, 4, 1, 2, 3, 4, 1, 2, 3, 4, 1, 2, 3, 4, 1, 2, 3, 4, 1, 2, 3, 4, 1, 2, 3, 4, 1, 2, 3, 4, 1, 2, 3, 4, 1, 2, 3, 4, 1, 2, 3, 4, 1, 2, 3, 4, 1, 2, 3, 4, 1, 2, 3, 4, 1, 2, 3, 4, 1, 2, 3, 4, 1, 2, 3, 4, 1, 2, 3, 4, 1, 2, 3, 4, 1, 2, 3, 4, 1, 2, 3, 4, 1, 2, 3, 4, 1, 2, 3, 4, 1, 2, 3, 4, 1, 2, 3, 4, 1, 2, 3, 4, 1, 2, 3, 4, 1, 2, 3, 4, 1, 2, 3, 4, 1, 2, 3, 4, 1, 2, 3, 4, 1, 2, 3, 4, 1, 2, 3, 4, 1, 2, 3, 4, 1, 2, 3, 4, 1, 2, 3, 4, 1, 2, 3, 4, 1, 2, 3, 4, 1, 2, 3, 4], \"Freq\": [0.22777400131387143, 0.6044771573329665, 0.15330942396125963, 0.013140807768107967, 0.3018443870279291, 0.34931991147768615, 0.21139101939207616, 0.13792889208560996, 0.41104974301881086, 0.2960951538694824, 0.17591535612245718, 0.11843806154779296, 0.20281018989469016, 0.1898095366963126, 0.3822192040323007, 0.2236112350120943, 0.3965985825163878, 0.2886806008792755, 0.10791798163711233, 0.20504416511051343, 0.6212167182920795, 0.2961151969169016, 0.07104491288793224, 0.011935545365172617, 0.7110298099802346, 0.214339420979549, 0.06801154704158766, 0.0061828679128716054, 0.2333705504716081, 0.2333705504716081, 0.43083793933219955, 0.10281359915882035, 0.17808983435540315, 0.16672239811995188, 0.3372339416517209, 0.3182882145926354, 0.08855106193826877, 0.10708500513465061, 0.3562635747748953, 0.4468739637349842, 0.33525196523760686, 0.30209517746685455, 0.1915725515643468, 0.17069605556053977, 0.3893141241024757, 0.2814759394919308, 0.1663266915179591, 0.16267115983624572, 0.3636907636591384, 0.26758595046423655, 0.16959672916747387, 0.19786285069538617, 0.23287950588812814, 0.4272249928163502, 0.14408372306747497, 0.19434548692822204, 0.3524993127839394, 0.25636313657013776, 0.21266487465477335, 0.17770626512248186, 0.35524922925622204, 0.2657979844794755, 0.17123524000120055, 0.20957148776266338, 0.3626235723971236, 0.4434632222945716, 0.07391053704909525, 0.11779491842199558, 0.35305840208772393, 0.26479380156579296, 0.20426950406504027, 0.17905104677306, 0.3148929391446767, 0.5844199463786797, 0.050703100370753026, 0.050703100370753026, 0.39775589211470025, 0.27722380359509413, 0.19285134163136983, 0.13258529737156674, 0.46077617715749464, 0.2846680047360438, 0.16645840954904256, 0.08684786585167438, 0.21922073165520098, 0.10205103025328321, 0.6009671781582233, 0.07748318963675206, 0.2224909050122962, 0.5846854015439412, 0.09313572767956585, 0.09830993477287507, 0.4492950697339669, 0.22606041244476321, 0.14976502324465563, 0.1751968196446915, 0.45293222180262666, 0.2340656448241762, 0.14287123774982183, 0.17022955987212815, 0.30134917337121714, 0.26308261167328484, 0.3252657744324249, 0.11240802498767624, 0.5809186279358346, 0.10748274173262139, 0.25335217694117895, 0.058859596663102184, 0.29509385396999105, 0.3170689282017989, 0.20876320520217453, 0.17893989017329245, 0.34902194189487196, 0.3218757908586041, 0.14607214605229826, 0.18226701410065535, 0.2244130063517178, 0.23761377143123058, 0.4378253751371749, 0.10120586560959821, 0.4028975574163471, 0.21876790447946448, 0.2552292218927085, 0.12214541333436767, 0.09157079856781664, 0.12283887612755891, 0.7437335590995839, 0.04020181400538292, 0.317040713873692, 0.2326215888777385, 0.34330444165021085, 0.10693089166154109, 0.46988486654290973, 0.2113091707530245, 0.1779445648446522, 0.14179957511058222, 0.24269125701734304, 0.32724175946209483, 0.294361008511358, 0.13622025393876674, 0.15552196322808204, 0.7584358754684549, 0.07456532483538181, 0.0106521892621974, 0.3266855696421549, 0.28618735852949106, 0.2051909363041634, 0.18359189037740936, 0.3824103935725275, 0.2597753363234066, 0.1832932576089011, 0.17538131843153848, 0.3772778522585962, 0.26511416645198654, 0.10808500632273298, 0.24879944851647967, 0.49967190213529333, 0.2103881693201235, 0.16107844213571956, 0.1265616331066368, 0.34453240679550956, 0.4562976111447231, 0.1718043637103613, 0.027710381243606665, 0.40835397477096763, 0.47369061073432245, 0.09596318407117739, 0.022459468612403218, 0.3097802688139701, 0.4501080828920933, 0.15356628710436124, 0.08737392197317105, 0.014757934941374094, 0.10752209743001125, 0.8770429908016604, 0.3029121591074683, 0.3859687188627419, 0.18809867944576664, 0.12458483963291037, 0.0019975524346908637, 0.0019975524346908637, 0.11785559364676097, 0.8789230712639801, 0.1621722042996233, 0.13677173856594738, 0.6057034136491954, 0.09378633501664962, 0.5620957424899252, 0.30266693826380586, 0.07386514564771453, 0.06125402322005595, 0.3103431267376695, 0.2941042421990705, 0.21832278101894192, 0.17682340942030006, 0.1708040894120451, 0.14152338836998024, 0.5538932613790606, 0.13176315468929195, 0.3462117410004523, 0.29767738478543565, 0.19575523673390063, 0.16016337550955506, 0.3769182459522925, 0.31584353017298583, 0.12912939907624835, 0.17798917169969367, 0.27417435575126486, 0.14201837132439618, 0.3984404306601115, 0.18541287367351722, 0.3993188448372772, 0.2698844606486425, 0.20379030702040352, 0.12943438418863468, 0.26650013466347194, 0.3865897015179994, 0.14476550524929338, 0.20234269483708053, 0.22952303365075324, 0.41997831689286763, 0.2563821120566925, 0.09278590722051727, 0.30453760301004473, 0.31429842361934107, 0.23543099309622692, 0.1456314434907009, 0.2908680734177251, 0.3739732372513608, 0.18599727143718475, 0.14840207827434954, 0.313721085051522, 0.23741055084980045, 0.3504631941116102, 0.09892106285408352, 0.33162659223527846, 0.32023483906689104, 0.22277206195957638, 0.12530928485226173, 0.5189198899434536, 0.18869814179761948, 0.1971221659850132, 0.09434907089880974, 0.29381730731202604, 0.43194655935512993, 0.1392998389248251, 0.13461749139794021, 0.31561544388993273, 0.513488338763932, 0.05233002178485931, 0.11774254901593345, 0.3259880469905081, 0.30288653184944847, 0.21946439384006647, 0.1501598484168876, 0.3234070242907725, 0.3251938034305005, 0.12686131892068978, 0.22513417160573115, 0.393211915798458, 0.21260876842591042, 0.30176728421742127, 0.09373074737056265, 0.25244855414554385, 0.4518829119205235, 0.2675954673942765, 0.025244855414554384, 0.2519360574705561, 0.4349665265730968, 0.2756223534720613, 0.03875939345700863, 0.1962954030776091, 0.6715369052655048, 0.10744590484248076, 0.02479520880980325, 0.3075119174493372, 0.3033842407050508, 0.31989494768219645, 0.07017050465286889, 0.2904157918974756, 0.29227743158912606, 0.3332335048054367, 0.08377378612427179, 0.2238045634293053, 0.2002461883314837, 0.4711675019564322, 0.10365685043041509, 0.24605754217847942, 0.25131767965972956, 0.40619950549653966, 0.09643585382291948, 0.3552989394221133, 0.26217987896288264, 0.23867409671103798, 0.1437468991555115, 0.3104207277761558, 0.196599794258232, 0.4677005631827414, 0.024833658222092464, 0.32673587218212163, 0.32507731445530885, 0.16585577268128002, 0.18244134994940803, 0.43375933992822296, 0.15219625962393787, 0.30946572790200705, 0.10653738173675652, 0.4044929800534414, 0.2534822675001566, 0.16898817833343774, 0.17258367148946832, 0.1784957884273638, 0.4324382503137164, 0.327548972578049, 0.060725371320649535, 0.2140110807547951, 0.23163552269930765, 0.4960021518669957, 0.05790888067482691, 0.4009834502727222, 0.31100241459060807, 0.2018021285686249, 0.08648662652941067, 0.5153092413935797, 0.20294031900442136, 0.19100265318063187, 0.09152210464905276, 0.44912095627194953, 0.3259334939802148, 0.12318746229173473, 0.10008981311203446, 0.1572289318520321, 0.17033134283970144, 0.37210847204980935, 0.30135545271639486, 0.23201614510035684, 0.26930445413434273, 0.16365424520471597, 0.33352320858176293, 0.2202360904294911, 0.2652843816537052, 0.335359501335816, 0.18019316489685636, 0.7764888868956469, 0.11638647745415737, 0.08338135698208289, 0.022582450849314116, 0.0018370554868609433, 0.9975211293654922, 0.31686996014808094, 0.30734003653460484, 0.18106854865604624, 0.19536343407626042, 0.3248232739462606, 0.33521761871254097, 0.2174150446946971, 0.12299974640098402, 0.4011616249130526, 0.3182399482550473, 0.2173892604277436, 0.06275153909254454, 0.5849874955722479, 0.2775790524315907, 0.08783098375447349, 0.04971565118177744, 0.33026557601144224, 0.37029776704313216, 0.12843661289333863, 0.17013681188468235, 0.2486797129920924, 0.3129082481357454, 0.3326708743337925, 0.10540067305625109, 0.41453973121308985, 0.2257761036071293, 0.27944419380882396, 0.08142744720257122, 0.2537848092909818, 0.4049757595068858, 0.2429854557041315, 0.09989402067836517, 0.3328631337012832, 0.49929470055192476, 0.09098258987835073, 0.07544897697229085, 0.22687389614462716, 0.5740182914502615, 0.10933681741909743, 0.08746945393527794, 0.1798353961930728, 0.7311728608376249, 0.04259259383520145, 0.047325104261334947, 0.24017184411489556, 0.3770439703309113, 0.2814917312744475, 0.10071722495140782, 0.26756713261884973, 0.40623331083737774, 0.20897578970961259, 0.11913573058211559, 0.3486188340317649, 0.40928158268486936, 0.13054009203832606, 0.1113430196797487, 0.37556288386055325, 0.4394582705287003, 0.10933210607660718, 0.07596451526101927, 0.22208797186705426, 0.20358064087813307, 0.14343181516413922, 0.4326088618660328, 0.3175106036616485, 0.2898301920603766, 0.2987856193431411, 0.09362492159253738, 0.25099844520088227, 0.307771903043939, 0.32669638899162456, 0.11553896683850137, 0.23175018679363363, 0.2790461432821303, 0.38782684320567257, 0.10168630645026781, 0.5096899102722929, 0.23070174886009048, 0.18241533630797852, 0.0777947757784026, 0.2627556477531572, 0.25062846401070377, 0.266798042333975, 0.21828930736416136, 0.1845855480958594, 0.17791378129721389, 0.5292934993592112, 0.10674826877832833, 0.3521485810104651, 0.29252554083938104, 0.21520191061750643, 0.1397415004009782, 0.28996748860979954, 0.38090403829216274, 0.23163083409658544, 0.09779968550744719, 0.24644000119620127, 0.2810956263644171, 0.3253778140793595, 0.1463237507102445, 0.27274861391036237, 0.20607673051005157, 0.369725898856269, 0.1515270077279791, 0.41722093494497753, 0.2898450731860747, 0.16246921142717194, 0.13127512283315493, 0.5171366635964414, 0.16031236571489682, 0.23012581530041643, 0.09567028276534166, 0.316111595186917, 0.4209965484286591, 0.20539970009841152, 0.05535594754425275, 0.1909200754133001, 0.5315544545679651, 0.15246135518616052, 0.1263643664606015, 0.30541406404452254, 0.30109725748558935, 0.2514539820578578, 0.14137541480506166, 0.4567699028730762, 0.22581882838668935, 0.14883513689122707, 0.16679799824016828, 0.24173793757615236, 0.4995917376573816, 0.11818299170389672, 0.14235678546151195, 0.2290194183743997, 0.28360435746881624, 0.3559887332244555, 0.13171583129304854, 0.22345008502047006, 0.27586430249440747, 0.3779340944173383, 0.1213802930975393, 0.29167348843020413, 0.25349633025871143, 0.25655050291243087, 0.198521222491762, 0.3743361984537652, 0.2535397656193942, 0.20973446580033653, 0.1619468659977282, 0.3467040239120443, 0.31226322683468893, 0.10332239123206619, 0.23649347326450704], \"Term\": [\"acoustic\", \"acoustic\", \"acoustic\", \"acoustic\", \"album\", \"album\", \"album\", \"album\", \"albums\", \"albums\", \"albums\", \"albums\", \"artists\", \"artists\", \"artists\", \"artists\", \"bad\", \"bad\", \"bad\", \"bad\", \"band\", \"band\", \"band\", \"band\", \"bands\", \"bands\", \"bands\", \"bands\", \"bass\", \"bass\", \"bass\", \"bass\", \"beat\", \"beat\", \"beat\", \"beat\", \"beats\", \"beats\", \"beats\", \"beats\", \"best\", \"best\", \"best\", \"best\", \"better\", \"better\", \"better\", \"better\", \"big\", \"big\", \"big\", \"big\", \"black\", \"black\", \"black\", \"black\", \"called\", \"called\", \"called\", \"called\", \"career\", \"career\", \"career\", \"career\", \"chorus\", \"chorus\", \"chorus\", \"chorus\", \"city\", \"city\", \"city\", \"city\", \"country\", \"country\", \"country\", \"country\", \"course\", \"course\", \"course\", \"course\", \"cover\", \"cover\", \"cover\", \"cover\", \"dance\", \"dance\", \"dance\", \"dance\", \"death\", \"death\", \"death\", \"death\", \"did\", \"did\", \"did\", \"did\", \"didn\", \"didn\", \"didn\", \"didn\", \"different\", \"different\", \"different\", \"different\", \"disc\", \"disc\", \"disc\", \"disc\", \"doesn\", \"doesn\", \"doesn\", \"doesn\", \"don\", \"don\", \"don\", \"don\", \"drum\", \"drum\", \"drum\", \"drum\", \"early\", \"early\", \"early\", \"early\", \"electronic\", \"electronic\", \"electronic\", \"electronic\", \"ep\", \"ep\", \"ep\", \"ep\", \"fans\", \"fans\", \"fans\", \"fans\", \"feel\", \"feel\", \"feel\", \"feel\", \"folk\", \"folk\", \"folk\", \"folk\", \"gets\", \"gets\", \"gets\", \"gets\", \"good\", \"good\", \"good\", \"good\", \"got\", \"got\", \"got\", \"got\", \"group\", \"group\", \"group\", \"group\", \"guitar\", \"guitar\", \"guitar\", \"guitar\", \"guitars\", \"guitars\", \"guitars\", \"guitars\", \"heart\", \"heart\", \"heart\", \"heart\", \"hip\", \"hip\", \"hip\", \"home\", \"home\", \"home\", \"home\", \"hop\", \"hop\", \"hop\", \"hop\", \"house\", \"house\", \"house\", \"house\", \"indie\", \"indie\", \"indie\", \"indie\", \"isn\", \"isn\", \"isn\", \"isn\", \"jazz\", \"jazz\", \"jazz\", \"jazz\", \"just\", \"just\", \"just\", \"just\", \"know\", \"know\", \"know\", \"know\", \"label\", \"label\", \"label\", \"label\", \"later\", \"later\", \"later\", \"later\", \"life\", \"life\", \"life\", \"life\", \"light\", \"light\", \"light\", \"light\", \"like\", \"like\", \"like\", \"like\", \"line\", \"line\", \"line\", \"line\", \"listening\", \"listening\", \"listening\", \"listening\", \"little\", \"little\", \"little\", \"little\", \"live\", \"live\", \"live\", \"live\", \"love\", \"love\", \"love\", \"love\", \"lyrics\", \"lyrics\", \"lyrics\", \"lyrics\", \"make\", \"make\", \"make\", \"make\", \"man\", \"man\", \"man\", \"man\", \"material\", \"material\", \"material\", \"material\", \"melodies\", \"melodies\", \"melodies\", \"melodies\", \"melody\", \"melody\", \"melody\", \"melody\", \"metal\", \"metal\", \"metal\", \"metal\", \"minute\", \"minute\", \"minute\", \"minute\", \"minutes\", \"minutes\", \"minutes\", \"minutes\", \"mix\", \"mix\", \"mix\", \"mix\", \"music\", \"music\", \"music\", \"music\", \"new\", \"new\", \"new\", \"new\", \"noise\", \"noise\", \"noise\", \"noise\", \"old\", \"old\", \"old\", \"old\", \"original\", \"original\", \"original\", \"original\", \"people\", \"people\", \"people\", \"people\", \"piano\", \"piano\", \"piano\", \"piano\", \"piece\", \"piece\", \"piece\", \"piece\", \"pop\", \"pop\", \"pop\", \"pop\", \"post\", \"post\", \"post\", \"post\", \"power\", \"power\", \"power\", \"power\", \"producer\", \"producer\", \"producer\", \"producer\", \"production\", \"production\", \"production\", \"production\", \"project\", \"project\", \"project\", \"project\", \"punk\", \"punk\", \"punk\", \"punk\", \"rap\", \"rap\", \"real\", \"real\", \"real\", \"real\", \"record\", \"record\", \"record\", \"record\", \"recorded\", \"recorded\", \"recorded\", \"recorded\", \"rock\", \"rock\", \"rock\", \"rock\", \"self\", \"self\", \"self\", \"self\", \"sense\", \"sense\", \"sense\", \"sense\", \"set\", \"set\", \"set\", \"set\", \"simple\", \"simple\", \"simple\", \"simple\", \"singer\", \"singer\", \"singer\", \"singer\", \"singing\", \"singing\", \"singing\", \"singing\", \"sings\", \"sings\", \"sings\", \"sings\", \"slow\", \"slow\", \"slow\", \"slow\", \"solo\", \"solo\", \"solo\", \"solo\", \"song\", \"song\", \"song\", \"song\", \"songs\", \"songs\", \"songs\", \"songs\", \"soul\", \"soul\", \"soul\", \"soul\", \"sound\", \"sound\", \"sound\", \"sound\", \"sounds\", \"sounds\", \"sounds\", \"sounds\", \"space\", \"space\", \"space\", \"space\", \"studio\", \"studio\", \"studio\", \"studio\", \"style\", \"style\", \"style\", \"style\", \"synth\", \"synth\", \"synth\", \"synth\", \"time\", \"time\", \"time\", \"time\", \"title\", \"title\", \"title\", \"title\", \"track\", \"track\", \"track\", \"track\", \"tracks\", \"tracks\", \"tracks\", \"tracks\", \"ve\", \"ve\", \"ve\", \"ve\", \"version\", \"version\", \"version\", \"version\", \"vocals\", \"vocals\", \"vocals\", \"vocals\", \"voice\", \"voice\", \"voice\", \"voice\", \"way\", \"way\", \"way\", \"way\", \"white\", \"white\", \"white\", \"white\", \"words\", \"words\", \"words\", \"words\", \"work\", \"work\", \"work\", \"work\", \"works\", \"works\", \"works\", \"works\", \"year\", \"year\", \"year\", \"year\", \"years\", \"years\", \"years\", \"years\", \"young\", \"young\", \"young\", \"young\"]}, \"R\": 30, \"lambda.step\": 0.01, \"plot.opts\": {\"xlab\": \"PC1\", \"ylab\": \"PC2\"}, \"topic.order\": [1, 4, 2, 3]};\n",
       "\n",
       "function LDAvis_load_lib(url, callback){\n",
       "  var s = document.createElement('script');\n",
       "  s.src = url;\n",
       "  s.async = true;\n",
       "  s.onreadystatechange = s.onload = callback;\n",
       "  s.onerror = function(){console.warn(\"failed to load library \" + url);};\n",
       "  document.getElementsByTagName(\"head\")[0].appendChild(s);\n",
       "}\n",
       "\n",
       "if(typeof(LDAvis) !== \"undefined\"){\n",
       "   // already loaded: just create the visualization\n",
       "   !function(LDAvis){\n",
       "       new LDAvis(\"#\" + \"ldavis_el164024850189621766625900727\", ldavis_el164024850189621766625900727_data);\n",
       "   }(LDAvis);\n",
       "}else if(typeof define === \"function\" && define.amd){\n",
       "   // require.js is available: use it to load d3/LDAvis\n",
       "   require.config({paths: {d3: \"https://d3js.org/d3.v5\"}});\n",
       "   require([\"d3\"], function(d3){\n",
       "      window.d3 = d3;\n",
       "      LDAvis_load_lib(\"https://cdn.jsdelivr.net/gh/bmabey/pyLDAvis@3.2.2/pyLDAvis/js/ldavis.v3.0.0.js\", function(){\n",
       "        new LDAvis(\"#\" + \"ldavis_el164024850189621766625900727\", ldavis_el164024850189621766625900727_data);\n",
       "      });\n",
       "    });\n",
       "}else{\n",
       "    // require.js not available: dynamically load d3 & LDAvis\n",
       "    LDAvis_load_lib(\"https://d3js.org/d3.v5.js\", function(){\n",
       "         LDAvis_load_lib(\"https://cdn.jsdelivr.net/gh/bmabey/pyLDAvis@3.2.2/pyLDAvis/js/ldavis.v3.0.0.js\", function(){\n",
       "                 new LDAvis(\"#\" + \"ldavis_el164024850189621766625900727\", ldavis_el164024850189621766625900727_data);\n",
       "            })\n",
       "         });\n",
       "}\n",
       "</script>"
      ],
      "text/plain": [
       "PreparedData(topic_coordinates=              x         y  topics  cluster       Freq\n",
       "topic                                                \n",
       "0      0.022162  0.011312       1        1  32.643027\n",
       "3      0.024743  0.010773       2        1  30.560193\n",
       "1      0.002069 -0.031323       3        1  22.700524\n",
       "2     -0.048975  0.009238       4        1  14.096256, topic_info=       Term         Freq        Total Category  logprob  loglift\n",
       "142     rap   544.000000   544.000000  Default  30.0000  30.0000\n",
       "72      hop   500.000000   500.000000  Default  29.0000  29.0000\n",
       "70      hip   474.000000   474.000000  Default  28.0000  28.0000\n",
       "8      band  1759.000000  1759.000000  Default  27.0000  27.0000\n",
       "12    beats   485.000000   485.000000  Default  26.0000  26.0000\n",
       "..      ...          ...          ...      ...      ...      ...\n",
       "146  record   141.504408  1154.473925   Topic4  -4.7241  -0.1398\n",
       "165    song   144.834292  1302.281907   Topic4  -4.7008  -0.2370\n",
       "101    make   117.010180   779.169673   Topic4  -4.9142   0.0633\n",
       "170  sounds   115.831807  1003.990283   Topic4  -4.9243  -0.2003\n",
       "99     love   115.180116   854.272345   Topic4  -4.9299  -0.0445\n",
       "\n",
       "[220 rows x 6 columns], token_table=      Topic      Freq      Term\n",
       "term                           \n",
       "0         1  0.227774  acoustic\n",
       "0         2  0.604477  acoustic\n",
       "0         3  0.153309  acoustic\n",
       "0         4  0.013141  acoustic\n",
       "2         1  0.301844     album\n",
       "...     ...       ...       ...\n",
       "198       4  0.161947     years\n",
       "199       1  0.346704     young\n",
       "199       2  0.312263     young\n",
       "199       3  0.103322     young\n",
       "199       4  0.236493     young\n",
       "\n",
       "[501 rows x 3 columns], R=30, lambda_step=0.01, plot_opts={'xlab': 'PC1', 'ylab': 'PC2'}, topic_order=[1, 4, 2, 3])"
      ]
     },
     "execution_count": 22,
     "metadata": {},
     "output_type": "execute_result"
    }
   ],
   "source": [
    "pyLDAvis.sklearn.prepare(lda, dtm, tf_vect)"
   ]
  },
  {
   "cell_type": "markdown",
   "id": "dental-tunisia",
   "metadata": {},
   "source": [
    "After trial and error, it seems that if you split the reviews into 4 distinct groups using the LDA technique (lambda = ~0.2), we can see clear groupings of reviews: electronic/dance, rap/hip hop, metal, indie/country, with overlap between the metal and country categories."
   ]
  }
 ],
 "metadata": {
  "kernelspec": {
   "display_name": "Python 3",
   "language": "python",
   "name": "python3"
  },
  "language_info": {
   "codemirror_mode": {
    "name": "ipython",
    "version": 3
   },
   "file_extension": ".py",
   "mimetype": "text/x-python",
   "name": "python",
   "nbconvert_exporter": "python",
   "pygments_lexer": "ipython3",
   "version": "3.8.8"
  }
 },
 "nbformat": 4,
 "nbformat_minor": 5
}
