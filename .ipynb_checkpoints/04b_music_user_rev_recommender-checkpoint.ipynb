{
 "cells": [
  {
   "cell_type": "markdown",
   "id": "abstract-exhibit",
   "metadata": {},
   "source": [
    "# Music Album Recommender"
   ]
  },
  {
   "cell_type": "markdown",
   "id": "unlikely-chicago",
   "metadata": {},
   "source": [
    "### Import libraries and Data"
   ]
  },
  {
   "cell_type": "code",
   "execution_count": 1,
   "id": "appropriate-editor",
   "metadata": {},
   "outputs": [],
   "source": [
    "import pandas as pd\n",
    "import numpy as np\n",
    "from scipy import sparse\n",
    "from sklearn.metrics.pairwise import pairwise_distances, cosine_distances, cosine_similarity"
   ]
  },
  {
   "cell_type": "code",
   "execution_count": 2,
   "id": "responsible-cigarette",
   "metadata": {},
   "outputs": [],
   "source": [
    "music_df_full = pd.read_csv('./data/clean/amazon_music_reviews.csv')"
   ]
  },
  {
   "cell_type": "code",
   "execution_count": 3,
   "id": "sharp-authority",
   "metadata": {},
   "outputs": [],
   "source": [
    "music_df_full.drop(columns=['Unnamed: 0', 'level_0', 'index'], inplace=True)"
   ]
  },
  {
   "cell_type": "code",
   "execution_count": 4,
   "id": "assured-application",
   "metadata": {},
   "outputs": [
    {
     "data": {
      "text/plain": [
       "(4740778, 5)"
      ]
     },
     "execution_count": 4,
     "metadata": {},
     "output_type": "execute_result"
    }
   ],
   "source": [
    "music_df_full.shape"
   ]
  },
  {
   "cell_type": "code",
   "execution_count": 5,
   "id": "square-penguin",
   "metadata": {},
   "outputs": [
    {
     "data": {
      "text/html": [
       "<div>\n",
       "<style scoped>\n",
       "    .dataframe tbody tr th:only-of-type {\n",
       "        vertical-align: middle;\n",
       "    }\n",
       "\n",
       "    .dataframe tbody tr th {\n",
       "        vertical-align: top;\n",
       "    }\n",
       "\n",
       "    .dataframe thead th {\n",
       "        text-align: right;\n",
       "    }\n",
       "</style>\n",
       "<table border=\"1\" class=\"dataframe\">\n",
       "  <thead>\n",
       "    <tr style=\"text-align: right;\">\n",
       "      <th></th>\n",
       "      <th>customer_id</th>\n",
       "      <th>review_id</th>\n",
       "      <th>product_title</th>\n",
       "      <th>star_rating</th>\n",
       "      <th>review_body</th>\n",
       "    </tr>\n",
       "  </thead>\n",
       "  <tbody>\n",
       "    <tr>\n",
       "      <th>0</th>\n",
       "      <td>10140119</td>\n",
       "      <td>R3LI5TRP3YIDQL</td>\n",
       "      <td>Whatever's for Us: Remastered</td>\n",
       "      <td>5.0</td>\n",
       "      <td>Love this CD along with other CDs by the same ...</td>\n",
       "    </tr>\n",
       "  </tbody>\n",
       "</table>\n",
       "</div>"
      ],
      "text/plain": [
       "   customer_id       review_id                  product_title  star_rating  \\\n",
       "0     10140119  R3LI5TRP3YIDQL  Whatever's for Us: Remastered          5.0   \n",
       "\n",
       "                                         review_body  \n",
       "0  Love this CD along with other CDs by the same ...  "
      ]
     },
     "execution_count": 5,
     "metadata": {},
     "output_type": "execute_result"
    }
   ],
   "source": [
    "music_df_full.head(1)"
   ]
  },
  {
   "cell_type": "code",
   "execution_count": 6,
   "id": "immediate-liberty",
   "metadata": {},
   "outputs": [],
   "source": [
    "music_df_subset = music_df_full[music_df_full.groupby(['product_title'])['review_body'].transform('count') >= 50]"
   ]
  },
  {
   "cell_type": "code",
   "execution_count": 7,
   "id": "extreme-representative",
   "metadata": {},
   "outputs": [],
   "source": [
    "# subset of full dataset for recommender\n",
    "music_df = music_df_subset[['product_title', 'review_id', 'customer_id', 'star_rating', 'review_body']]\n",
    "music_df = music_df.sample(n=100_000)"
   ]
  },
  {
   "cell_type": "markdown",
   "id": "golden-south",
   "metadata": {},
   "source": [
    "### Prepare recommender using cosine distances"
   ]
  },
  {
   "cell_type": "code",
   "execution_count": 8,
   "id": "republican-condition",
   "metadata": {},
   "outputs": [],
   "source": [
    "#pivot table from the books_df dataframe\n",
    "pivot_df = pd.pivot_table(music_df, index='product_title', columns='customer_id', values='star_rating')\n",
    "#create sparse matrix\n",
    "sparse_df = sparse.csr_matrix(pivot_df.fillna(0))\n",
    "#calculate cosine distances for similarities\n",
    "recommender = pairwise_distances(sparse_df, metric='cosine')\n",
    "#export as a dataframe\n",
    "rec_df = pd.DataFrame(recommender, columns=pivot_df.index, index=pivot_df.index)"
   ]
  },
  {
   "cell_type": "code",
   "execution_count": 9,
   "id": "southern-crown",
   "metadata": {},
   "outputs": [],
   "source": [
    "# get average rating, number of players, playing time, etc to filter by in app, group by game ID\n",
    "music_info = music_df_full.groupby('product_title').mean()\n",
    "music_info.rename(columns={'star_rating': 'average_rating'}, inplace=True)\n",
    "music_info.drop(columns=['customer_id'])\n",
    "\n",
    "rec_df = pd.merge(left = rec_df, right= music_info, right_index = True, left_index = True)\n",
    "rec_df.insert(0, 'album_name', rec_df.index)"
   ]
  },
  {
   "cell_type": "markdown",
   "id": "victorian-arrangement",
   "metadata": {},
   "source": [
    "### Define book Recommender function"
   ]
  },
  {
   "cell_type": "code",
   "execution_count": 10,
   "id": "mexican-florida",
   "metadata": {},
   "outputs": [],
   "source": [
    "def album_recommender(album_title):\n",
    "    return 1- rec_df[album_title].sort_values()[1:6]"
   ]
  },
  {
   "cell_type": "code",
   "execution_count": 11,
   "id": "resistant-bangkok",
   "metadata": {},
   "outputs": [
    {
     "data": {
      "text/plain": [
       "product_title\n",
       "Love Me Back                                   0.152145\n",
       "Calling All Hearts                             0.144338\n",
       "Bangerz (Deluxe Version)                       0.095044\n",
       "Love Hurts                                     0.085588\n",
       "Richard Pryor - ... Is It Something I Said?    0.076035\n",
       "Name: Room for Squares, dtype: float64"
      ]
     },
     "execution_count": 11,
     "metadata": {},
     "output_type": "execute_result"
    }
   ],
   "source": [
    "album_recommender(\"Room for Squares\")"
   ]
  },
  {
   "cell_type": "code",
   "execution_count": 12,
   "id": "identical-short",
   "metadata": {},
   "outputs": [
    {
     "data": {
      "text/plain": [
       "product_title\n",
       "Angles                              0.061167\n",
       "The Definitive Collection [2 CD]    0.041338\n",
       "Home For Christmas                  0.012950\n",
       "Dystopia (Deluxe)                   0.003325\n",
       "Pale Communion                      0.002871\n",
       "Name: Random Access Memories, dtype: float64"
      ]
     },
     "execution_count": 12,
     "metadata": {},
     "output_type": "execute_result"
    }
   ],
   "source": [
    "album_recommender(\"Random Access Memories\")"
   ]
  },
  {
   "cell_type": "code",
   "execution_count": 13,
   "id": "valued-powder",
   "metadata": {},
   "outputs": [],
   "source": [
    "# save rec_df for use in streamlit app\n",
    "# rec_df.to_pickle('./streamlit_app/data/albums.pk1')"
   ]
  }
 ],
 "metadata": {
  "kernelspec": {
   "display_name": "Python 3",
   "language": "python",
   "name": "python3"
  },
  "language_info": {
   "codemirror_mode": {
    "name": "ipython",
    "version": 3
   },
   "file_extension": ".py",
   "mimetype": "text/x-python",
   "name": "python",
   "nbconvert_exporter": "python",
   "pygments_lexer": "ipython3",
   "version": "3.8.8"
  }
 },
 "nbformat": 4,
 "nbformat_minor": 5
}
