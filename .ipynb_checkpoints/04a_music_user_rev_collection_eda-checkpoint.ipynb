{
 "cells": [
  {
   "cell_type": "markdown",
   "id": "postal-lightweight",
   "metadata": {},
   "source": [
    "# Music Recommender Data Collection & EDA"
   ]
  },
  {
   "cell_type": "markdown",
   "id": "strange-credits",
   "metadata": {},
   "source": [
    "#### Import Libraries and Data"
   ]
  },
  {
   "cell_type": "code",
   "execution_count": 26,
   "id": "sought-yellow",
   "metadata": {},
   "outputs": [],
   "source": [
    "import numpy as np\n",
    "import pandas as pd\n",
    "import matplotlib.pyplot as plt\n",
    "import seaborn as sns\n",
    "from sklearn.feature_extraction.text import CountVectorizer"
   ]
  },
  {
   "cell_type": "markdown",
   "id": "capital-drove",
   "metadata": {},
   "source": [
    "Data available here:\n",
    "https://s3.amazonaws.com/amazon-reviews-pds/readme.html"
   ]
  },
  {
   "cell_type": "markdown",
   "id": "secure-corruption",
   "metadata": {},
   "source": [
    "Note: tsv file opened, cleaned, and exported in Google Colab to produce file:\n",
    "        amazon_music_reviews.csv"
   ]
  },
  {
   "cell_type": "markdown",
   "id": "secret-devil",
   "metadata": {},
   "source": [
    "### Amazon Music Album Reviews"
   ]
  },
  {
   "cell_type": "code",
   "execution_count": 4,
   "id": "divided-retrieval",
   "metadata": {},
   "outputs": [],
   "source": [
    "music_df_full = pd.read_csv('./data/clean/amazon_music_reviews.csv')"
   ]
  },
  {
   "cell_type": "code",
   "execution_count": 7,
   "id": "configured-tiffany",
   "metadata": {},
   "outputs": [],
   "source": [
    "music_df = music_df_full.sample(n=500_000)"
   ]
  },
  {
   "cell_type": "code",
   "execution_count": 8,
   "id": "velvet-renewal",
   "metadata": {},
   "outputs": [
    {
     "data": {
      "text/plain": [
       "(500000, 8)"
      ]
     },
     "execution_count": 8,
     "metadata": {},
     "output_type": "execute_result"
    }
   ],
   "source": [
    "music_df.shape"
   ]
  },
  {
   "cell_type": "code",
   "execution_count": 9,
   "id": "appropriate-cabin",
   "metadata": {},
   "outputs": [],
   "source": [
    "music_df.drop(columns=['Unnamed: 0', 'level_0', 'index'], inplace=True)"
   ]
  },
  {
   "cell_type": "code",
   "execution_count": 10,
   "id": "responsible-utilization",
   "metadata": {},
   "outputs": [
    {
     "data": {
      "text/html": [
       "<div>\n",
       "<style scoped>\n",
       "    .dataframe tbody tr th:only-of-type {\n",
       "        vertical-align: middle;\n",
       "    }\n",
       "\n",
       "    .dataframe tbody tr th {\n",
       "        vertical-align: top;\n",
       "    }\n",
       "\n",
       "    .dataframe thead th {\n",
       "        text-align: right;\n",
       "    }\n",
       "</style>\n",
       "<table border=\"1\" class=\"dataframe\">\n",
       "  <thead>\n",
       "    <tr style=\"text-align: right;\">\n",
       "      <th></th>\n",
       "      <th>customer_id</th>\n",
       "      <th>review_id</th>\n",
       "      <th>product_title</th>\n",
       "      <th>star_rating</th>\n",
       "      <th>review_body</th>\n",
       "    </tr>\n",
       "  </thead>\n",
       "  <tbody>\n",
       "    <tr>\n",
       "      <th>4163153</th>\n",
       "      <td>51236206</td>\n",
       "      <td>R1Z7WC0GRF2TEO</td>\n",
       "      <td>Platinum</td>\n",
       "      <td>5.0</td>\n",
       "      <td>One of the best albums i've ever hear ! Buy it...</td>\n",
       "    </tr>\n",
       "    <tr>\n",
       "      <th>3341665</th>\n",
       "      <td>26947369</td>\n",
       "      <td>R3FWBAE9INTTB</td>\n",
       "      <td>Highway 377</td>\n",
       "      <td>4.0</td>\n",
       "      <td>i rated this album &amp; these guys  4-stars only ...</td>\n",
       "    </tr>\n",
       "  </tbody>\n",
       "</table>\n",
       "</div>"
      ],
      "text/plain": [
       "         customer_id       review_id product_title  star_rating  \\\n",
       "4163153     51236206  R1Z7WC0GRF2TEO      Platinum          5.0   \n",
       "3341665     26947369   R3FWBAE9INTTB   Highway 377          4.0   \n",
       "\n",
       "                                               review_body  \n",
       "4163153  One of the best albums i've ever hear ! Buy it...  \n",
       "3341665  i rated this album & these guys  4-stars only ...  "
      ]
     },
     "execution_count": 10,
     "metadata": {},
     "output_type": "execute_result"
    }
   ],
   "source": [
    "music_df.head(2)"
   ]
  },
  {
   "cell_type": "markdown",
   "id": "running-layout",
   "metadata": {},
   "source": [
    "### Data Description"
   ]
  },
  {
   "cell_type": "code",
   "execution_count": 11,
   "id": "allied-portal",
   "metadata": {},
   "outputs": [
    {
     "name": "stdout",
     "output_type": "stream",
     "text": [
      "<class 'pandas.core.frame.DataFrame'>\n",
      "Int64Index: 500000 entries, 4163153 to 2290730\n",
      "Data columns (total 5 columns):\n",
      " #   Column         Non-Null Count   Dtype  \n",
      "---  ------         --------------   -----  \n",
      " 0   customer_id    500000 non-null  int64  \n",
      " 1   review_id      500000 non-null  object \n",
      " 2   product_title  500000 non-null  object \n",
      " 3   star_rating    500000 non-null  float64\n",
      " 4   review_body    500000 non-null  object \n",
      "dtypes: float64(1), int64(1), object(3)\n",
      "memory usage: 22.9+ MB\n"
     ]
    }
   ],
   "source": [
    "music_df.info()"
   ]
  },
  {
   "cell_type": "code",
   "execution_count": 12,
   "id": "linear-makeup",
   "metadata": {},
   "outputs": [
    {
     "data": {
      "text/plain": [
       "customer_id      0\n",
       "review_id        0\n",
       "product_title    0\n",
       "star_rating      0\n",
       "review_body      0\n",
       "dtype: int64"
      ]
     },
     "execution_count": 12,
     "metadata": {},
     "output_type": "execute_result"
    }
   ],
   "source": [
    "music_df.isnull().sum()"
   ]
  },
  {
   "cell_type": "markdown",
   "id": "heard-protest",
   "metadata": {},
   "source": [
    "### Scores"
   ]
  },
  {
   "cell_type": "code",
   "execution_count": 13,
   "id": "radio-legislation",
   "metadata": {},
   "outputs": [
    {
     "data": {
      "image/png": "[encoded data removed]",
      "text/plain": [
       "<Figure size 432x288 with 1 Axes>"
      ]
     },
     "metadata": {
      "needs_background": "light"
     },
     "output_type": "display_data"
    }
   ],
   "source": [
    "plt.figure(figsize=(6, 4))\n",
    "plt.hist(music_df['star_rating'])\n",
    "plt.title('Distribution of Scores')\n",
    "plt.xlabel('score')\n",
    "plt.ylabel('count');\n",
    "#imbalanced, skewed to the left"
   ]
  },
  {
   "cell_type": "markdown",
   "id": "invisible-algebra",
   "metadata": {},
   "source": [
    "### Reviews (review_body)"
   ]
  },
  {
   "cell_type": "code",
   "execution_count": 14,
   "id": "concrete-exchange",
   "metadata": {},
   "outputs": [],
   "source": [
    "# Review length\n",
    "music_df['review_length'] = [len(i) for i in music_df['review_body']]\n",
    "music_df['review_word_count'] = music_df['review_body'].str.split().apply(len)"
   ]
  },
  {
   "cell_type": "code",
   "execution_count": 19,
   "id": "little-channels",
   "metadata": {},
   "outputs": [
    {
     "data": {
      "image/png": "[encoded data removed]",
      "text/plain": [
       "<Figure size 720x432 with 2 Axes>"
      ]
     },
     "metadata": {
      "needs_background": "light"
     },
     "output_type": "display_data"
    }
   ],
   "source": [
    "fig = plt.figure(figsize = (10, 6))\n",
    "\n",
    "ax = fig.add_subplot(2, 2, 1)\n",
    "sns.histplot(music_df['review_length'], ax=ax)\n",
    "plt.title('review length')\n",
    "plt.xlim([0, 2000])\n",
    "\n",
    "ax = fig.add_subplot(2, 2, 2)\n",
    "sns.histplot(music_df['review_word_count'], ax=ax)\n",
    "plt.title('review word count')\n",
    "plt.xlim([0, 1000]);"
   ]
  },
  {
   "cell_type": "code",
   "execution_count": 20,
   "id": "amateur-jesus",
   "metadata": {},
   "outputs": [],
   "source": [
    "#both review length and review word count are skewed to the right"
   ]
  },
  {
   "cell_type": "code",
   "execution_count": 21,
   "id": "gentle-cosmetic",
   "metadata": {},
   "outputs": [
    {
     "data": {
      "text/plain": [
       "3076676    9294\n",
       "2207331    7691\n",
       "1415485    7022\n",
       "Name: review_word_count, dtype: int64"
      ]
     },
     "execution_count": 21,
     "metadata": {},
     "output_type": "execute_result"
    }
   ],
   "source": [
    "music_df['review_word_count'].nlargest(3)"
   ]
  },
  {
   "cell_type": "code",
   "execution_count": 23,
   "id": "preceding-flood",
   "metadata": {},
   "outputs": [
    {
     "data": {
      "text/html": [
       "<div>\n",
       "<style scoped>\n",
       "    .dataframe tbody tr th:only-of-type {\n",
       "        vertical-align: middle;\n",
       "    }\n",
       "\n",
       "    .dataframe tbody tr th {\n",
       "        vertical-align: top;\n",
       "    }\n",
       "\n",
       "    .dataframe thead th {\n",
       "        text-align: right;\n",
       "    }\n",
       "</style>\n",
       "<table border=\"1\" class=\"dataframe\">\n",
       "  <thead>\n",
       "    <tr style=\"text-align: right;\">\n",
       "      <th></th>\n",
       "      <th>customer_id</th>\n",
       "      <th>review_id</th>\n",
       "      <th>product_title</th>\n",
       "      <th>star_rating</th>\n",
       "      <th>review_body</th>\n",
       "      <th>review_length</th>\n",
       "      <th>review_word_count</th>\n",
       "    </tr>\n",
       "  </thead>\n",
       "  <tbody>\n",
       "    <tr>\n",
       "      <th>2207331</th>\n",
       "      <td>17796260</td>\n",
       "      <td>R1BRX0A8CTI3YN</td>\n",
       "      <td>Bjork - Greatest Hits</td>\n",
       "      <td>5.0</td>\n",
       "      <td>MAIN BODY OF THIS REVIEW&lt;br /&gt;================...</td>\n",
       "      <td>47136</td>\n",
       "      <td>7691</td>\n",
       "    </tr>\n",
       "    <tr>\n",
       "      <th>3076676</th>\n",
       "      <td>36344377</td>\n",
       "      <td>R21GXCDQJC6Z80</td>\n",
       "      <td>Karaoke Super Starter Set - Over 1000 Songs on...</td>\n",
       "      <td>5.0</td>\n",
       "      <td>Vol.1 Free Style Jazz&lt;br /&gt;&lt;br /&gt;1. The Days O...</td>\n",
       "      <td>57815</td>\n",
       "      <td>9294</td>\n",
       "    </tr>\n",
       "  </tbody>\n",
       "</table>\n",
       "</div>"
      ],
      "text/plain": [
       "         customer_id       review_id  \\\n",
       "2207331     17796260  R1BRX0A8CTI3YN   \n",
       "3076676     36344377  R21GXCDQJC6Z80   \n",
       "\n",
       "                                             product_title  star_rating  \\\n",
       "2207331                              Bjork - Greatest Hits          5.0   \n",
       "3076676  Karaoke Super Starter Set - Over 1000 Songs on...          5.0   \n",
       "\n",
       "                                               review_body  review_length  \\\n",
       "2207331  MAIN BODY OF THIS REVIEW<br />================...          47136   \n",
       "3076676  Vol.1 Free Style Jazz<br /><br />1. The Days O...          57815   \n",
       "\n",
       "         review_word_count  \n",
       "2207331               7691  \n",
       "3076676               9294  "
      ]
     },
     "execution_count": 23,
     "metadata": {},
     "output_type": "execute_result"
    }
   ],
   "source": [
    "music_df.loc[music_df['review_word_count'] > 7000][:2]"
   ]
  },
  {
   "cell_type": "markdown",
   "id": "proved-selling",
   "metadata": {},
   "source": [
    "### Word Counts, Bigrams, Trigrams"
   ]
  },
  {
   "cell_type": "code",
   "execution_count": 27,
   "id": "accompanied-radar",
   "metadata": {},
   "outputs": [
    {
     "data": {
      "image/png": "[encoded data removed]",
      "text/plain": [
       "<Figure size 432x288 with 1 Axes>"
      ]
     },
     "metadata": {
      "needs_background": "light"
     },
     "output_type": "display_data"
    }
   ],
   "source": [
    "#most common words\n",
    "cvect = CountVectorizer(stop_words='english')\n",
    "words = music_df['review_body'].sample(n=2000)\n",
    "words_vect = cvect.fit_transform(words)\n",
    "words_df = pd.DataFrame(words_vect.toarray(), columns=cvect.get_feature_names())\n",
    "words_df.sum().sort_values(ascending=False).head(15).plot(kind='barh').invert_yaxis();"
   ]
  },
  {
   "cell_type": "code",
   "execution_count": 28,
   "id": "unlike-celebration",
   "metadata": {},
   "outputs": [
    {
     "data": {
      "image/png": "[encoded data removed]",
      "text/plain": [
       "<Figure size 432x288 with 1 Axes>"
      ]
     },
     "metadata": {
      "needs_background": "light"
     },
     "output_type": "display_data"
    }
   ],
   "source": [
    "#most common bigrams\n",
    "#note this is from sample of data due to large vector size\n",
    "cvect_bigrams = CountVectorizer(ngram_range = (2, 2), stop_words='english')\n",
    "words = music_df['review_body'].sample(n=2000)\n",
    "words_vect_bigrams = cvect_bigrams.fit_transform(words)\n",
    "words_vect_bigrams_df = pd.DataFrame(words_vect_bigrams.toarray(), columns=cvect_bigrams.get_feature_names())\n",
    "words_vect_bigrams_df.sum().sort_values(ascending=False).head(15).plot(kind='barh').invert_yaxis();"
   ]
  },
  {
   "cell_type": "code",
   "execution_count": 29,
   "id": "annoying-hunter",
   "metadata": {},
   "outputs": [
    {
     "data": {
      "image/png": "[encoded data removed]",
      "text/plain": [
       "<Figure size 432x288 with 1 Axes>"
      ]
     },
     "metadata": {
      "needs_background": "light"
     },
     "output_type": "display_data"
    }
   ],
   "source": [
    "#most common trigrams\n",
    "#note this is from sample of data due to large vector size\n",
    "cvect_trigrams = CountVectorizer(ngram_range = (3, 3), stop_words='english')\n",
    "words = music_df['review_body'].sample(n=2000)\n",
    "words_vect_trigrams = cvect_trigrams.fit_transform(words)\n",
    "words_vect_trigrams_df = pd.DataFrame(words_vect_trigrams.toarray(), columns=cvect_trigrams.get_feature_names())\n",
    "words_vect_trigrams_df.sum().sort_values(ascending=False).head(15).plot(kind='barh').invert_yaxis();"
   ]
  }
 ],
 "metadata": {
  "kernelspec": {
   "display_name": "Python 3",
   "language": "python",
   "name": "python3"
  },
  "language_info": {
   "codemirror_mode": {
    "name": "ipython",
    "version": 3
   },
   "file_extension": ".py",
   "mimetype": "text/x-python",
   "name": "python",
   "nbconvert_exporter": "python",
   "pygments_lexer": "ipython3",
   "version": "3.8.8"
  }
 },
 "nbformat": 4,
 "nbformat_minor": 5
}
