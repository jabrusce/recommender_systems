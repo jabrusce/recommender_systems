{
 "cells": [
  {
   "cell_type": "markdown",
   "id": "analyzed-latvia",
   "metadata": {},
   "source": [
    "# Music Data Modeling"
   ]
  },
  {
   "cell_type": "markdown",
   "id": "possible-stroke",
   "metadata": {},
   "source": [
    "### Import Libraries"
   ]
  },
  {
   "cell_type": "code",
   "execution_count": 1,
   "id": "structural-parish",
   "metadata": {},
   "outputs": [],
   "source": [
    "import pandas as pd\n",
    "import numpy as np\n",
    "import matplotlib.pyplot as plt\n",
    "import spacy\n",
    "import en_core_web_lg\n",
    "from sklearn.cluster import KMeans\n",
    "from nltk.stem import WordNetLemmatizer\n",
    "\n",
    "from sklearn.feature_extraction.text import CountVectorizer, TfidfVectorizer\n",
    "from sklearn.preprocessing import StandardScaler\n",
    "from sklearn.linear_model import LinearRegression, LogisticRegression\n",
    "from sklearn.pipeline import make_pipeline\n",
    "from sklearn.model_selection import train_test_split, GridSearchCV\n",
    "from sklearn.metrics import balanced_accuracy_score, mean_squared_error, plot_confusion_matrix, silhouette_score\n",
    "from sklearn.neighbors import KNeighborsClassifier, KNeighborsRegressor\n",
    "from sklearn.dummy import DummyClassifier\n",
    "from sklearn.ensemble import VotingClassifier\n",
    "from sklearn.tree import DecisionTreeClassifier"
   ]
  },
  {
   "cell_type": "markdown",
   "id": "moderate-humor",
   "metadata": {},
   "source": [
    "### Import Data"
   ]
  },
  {
   "cell_type": "code",
   "execution_count": 2,
   "id": "aquatic-mason",
   "metadata": {},
   "outputs": [],
   "source": [
    "music_df = pd.read_csv('./data/clean/pitchfork_cleaned.csv', index_col=0)\n",
    "music_df.drop_duplicates(subset=['cleaned_content'], inplace=True)\n",
    "music_df.dropna(subset=['artist'], inplace=True)\n",
    "music_df.dropna(subset=['title'], inplace=True)\n",
    "music_df.dropna(subset=['cleaned_content'], inplace=True)\n",
    "music_df.drop_duplicates(subset=['cleaned_content'], inplace=True)\n",
    "music_df.reset_index(inplace=True)"
   ]
  },
  {
   "cell_type": "markdown",
   "id": "alone-presence",
   "metadata": {},
   "source": [
    "### For modeling, set scores on a 1-5 scale"
   ]
  },
  {
   "cell_type": "code",
   "execution_count": 3,
   "id": "freelance-contractor",
   "metadata": {},
   "outputs": [],
   "source": [
    "music_df_round = music_df\n",
    "music_df_round['score'] = music_df['score'].round()"
   ]
  },
  {
   "cell_type": "code",
   "execution_count": 4,
   "id": "martial-booth",
   "metadata": {},
   "outputs": [
    {
     "data": {
      "text/plain": [
       "4.0    12140\n",
       "2.0     3949\n",
       "3.0     1166\n",
       "5.0      954\n",
       "1.0      145\n",
       "0.0       18\n",
       "Name: score, dtype: int64"
      ]
     },
     "execution_count": 4,
     "metadata": {},
     "output_type": "execute_result"
    }
   ],
   "source": [
    "#Initial modeling as regression\n",
    "music_df_round['score'].replace(2, 1, inplace=True)\n",
    "music_df_round['score'].replace(4, 2, inplace=True)\n",
    "music_df_round['score'].replace(6, 3, inplace=True)\n",
    "music_df_round['score'].replace(8, 4, inplace=True)\n",
    "music_df_round['score'].replace(10, 5, inplace=True)\n",
    "\n",
    "music_df_round['score'].replace(3, 2, inplace=True)\n",
    "music_df_round['score'].replace(5, 3, inplace=True)\n",
    "music_df_round['score'].replace(7, 4, inplace=True)\n",
    "music_df_round['score'].replace(9, 5, inplace=True)\n",
    "\n",
    "music_df_round['score'].value_counts()"
   ]
  },
  {
   "cell_type": "code",
   "execution_count": 5,
   "id": "recognized-surrey",
   "metadata": {},
   "outputs": [
    {
     "data": {
      "text/plain": [
       "1.0    13094\n",
       "0.0     5278\n",
       "Name: score_binary, dtype: int64"
      ]
     },
     "execution_count": 5,
     "metadata": {},
     "output_type": "execute_result"
    }
   ],
   "source": [
    "# Additional modeling as binary classification (1 = good review, 0 = bad review)\n",
    "music_df_round['score_binary'] = music_df_round['score']\n",
    "music_df_round['score_binary'].replace(1, 0, inplace=True)\n",
    "music_df_round['score_binary'].replace(2, 0, inplace=True)\n",
    "music_df_round['score_binary'].replace(3, 0, inplace=True)\n",
    "music_df_round['score_binary'].replace(4, 1, inplace=True)\n",
    "music_df_round['score_binary'].replace(5, 1, inplace=True)\n",
    "music_df_round['score_binary'].value_counts()"
   ]
  },
  {
   "cell_type": "markdown",
   "id": "exact-magazine",
   "metadata": {},
   "source": [
    "### Take subset for modeling"
   ]
  },
  {
   "cell_type": "code",
   "execution_count": 6,
   "id": "purple-exception",
   "metadata": {},
   "outputs": [
    {
     "data": {
      "text/plain": [
       "(5000, 12)"
      ]
     },
     "execution_count": 6,
     "metadata": {},
     "output_type": "execute_result"
    }
   ],
   "source": [
    "music_df_round_subset = music_df_round.sample(n=5000)\n",
    "music_df_round_subset.shape"
   ]
  },
  {
   "cell_type": "code",
   "execution_count": 7,
   "id": "incredible-request",
   "metadata": {},
   "outputs": [],
   "source": [
    "# #sample 5000 reviews for modeling, even classes\n",
    "# score_0 = music_df_round[music_df_round['score_binary']==0].sample(n=2500)\n",
    "# score_1 = music_df_round[music_df_round['score_binary']==1].sample(n=2500)\n",
    "\n",
    "# music_df_round_subset = pd.concat([score_0, score_1])\n",
    "# music_df_round_subset.shape"
   ]
  },
  {
   "cell_type": "markdown",
   "id": "numeric-measurement",
   "metadata": {},
   "source": [
    "# Binary Classification"
   ]
  },
  {
   "cell_type": "code",
   "execution_count": 8,
   "id": "enormous-membership",
   "metadata": {},
   "outputs": [],
   "source": [
    "X = music_df_round_subset['cleaned_content']\n",
    "y = music_df_round_subset['score_binary']\n",
    "\n",
    "X_train, X_test, y_train, y_test = train_test_split(X, y, stratify=y)"
   ]
  },
  {
   "cell_type": "code",
   "execution_count": 9,
   "id": "raising-lingerie",
   "metadata": {},
   "outputs": [
    {
     "data": {
      "text/plain": [
       "1.0    0.7092\n",
       "0.0    0.2908\n",
       "Name: score_binary, dtype: float64"
      ]
     },
     "execution_count": 9,
     "metadata": {},
     "output_type": "execute_result"
    }
   ],
   "source": [
    "y.value_counts(normalize=True)"
   ]
  },
  {
   "cell_type": "markdown",
   "id": "remarkable-identifier",
   "metadata": {},
   "source": [
    "### Null Model"
   ]
  },
  {
   "cell_type": "code",
   "execution_count": 10,
   "id": "recent-privacy",
   "metadata": {},
   "outputs": [
    {
     "name": "stdout",
     "output_type": "stream",
     "text": [
      "training score is   0.7091\n",
      "testing score is    0.7096\n",
      "rmse score is       0.54\n",
      "mse score is        0.2904\n",
      "bal acc score is    0.5\n"
     ]
    }
   ],
   "source": [
    "null = DummyClassifier()\n",
    "\n",
    "null.fit(X_train, y_train)\n",
    "preds = null.predict(X_test)\n",
    "\n",
    "print(f'training score is   {np.round(null.score(X_train, y_train), 4)}')\n",
    "print(f'testing score is    {np.round(null.score(X_test, y_test), 4)}')\n",
    "print(f'rmse score is       {np.round(mean_squared_error(y_test, preds, squared=False), 2)}')\n",
    "print(f'mse score is        {np.round(mean_squared_error(y_test, preds), 4)}')\n",
    "print(f'bal acc score is    {np.round(balanced_accuracy_score(y_test, preds), 4)}')"
   ]
  },
  {
   "cell_type": "markdown",
   "id": "monetary-reduction",
   "metadata": {},
   "source": [
    "### Pipelines"
   ]
  },
  {
   "cell_type": "code",
   "execution_count": 11,
   "id": "vital-broadway",
   "metadata": {},
   "outputs": [],
   "source": [
    "import warnings\n",
    "warnings.filterwarnings(\"ignore\")"
   ]
  },
  {
   "cell_type": "code",
   "execution_count": 12,
   "id": "traditional-coating",
   "metadata": {},
   "outputs": [],
   "source": [
    "# def split_lemmatize(text):\n",
    "#     text_lower = text.lower()\n",
    "#     lemmatizer=WordNetLemmatizer()\n",
    "#     return ' '.join([lemmatizer.lemmatize(x) for x in text_lower.split()])\n",
    "\n",
    "# tfidf_pipe = make_pipeline(\n",
    "#     TfidfVectorizer(preprocessor=split_lemmatize, stop_words='english'),\n",
    "#     LogisticRegression(max_iter=10000)                    \n",
    "# )\n",
    "\n",
    "# tfidf_grid = GridSearchCV(\n",
    "#     tfidf_pipe,\n",
    "#     param_grid={\n",
    "#         'tfidfvectorizer__ngram_range':[(1, 1), (2, 2)],\n",
    "#         'logisticregression__C': [0.001, 0.01, 1, 10, 100]\n",
    "#                }\n",
    "# )\n",
    "\n",
    "# tfidf_grid.fit(X_train, y_train)\n",
    "# preds = tfidf_grid.predict(X_test)\n",
    "\n",
    "# print(f'training score is   {np.round(tfidf_grid.score(X_train, y_train), 4)}')\n",
    "# print(f'testing score is    {np.round(tfidf_grid.score(X_test, y_test), 4)}')\n",
    "# print(f'rmse score is       {np.round(mean_squared_error(y_test, preds, squared=False), 4)}')\n",
    "# print(f'mse score is        {np.round(mean_squared_error(y_test, preds), 4)}')\n",
    "# print(f'bal acc score is    {np.round(balanced_accuracy_score(y_test, preds), 4)}')"
   ]
  },
  {
   "cell_type": "code",
   "execution_count": 22,
   "id": "uniform-calendar",
   "metadata": {},
   "outputs": [],
   "source": [
    "#the above grid search found best params as C = 10, n_grams = (1, 1)\n",
    "# tfidf_grid.best_params_"
   ]
  },
  {
   "cell_type": "code",
   "execution_count": 14,
   "id": "cosmetic-crazy",
   "metadata": {},
   "outputs": [
    {
     "name": "stdout",
     "output_type": "stream",
     "text": [
      "training score is   0.9997\n",
      "testing score is    0.7576\n",
      "rmse score is       0.4923\n",
      "mse score is        0.2424\n",
      "bal acc score is    0.6193\n"
     ]
    }
   ],
   "source": [
    "#split_lemmatize function used in earlier lesson from class\n",
    "def split_lemmatize(text):\n",
    "    text_lower = text.lower()\n",
    "    lemmatizer=WordNetLemmatizer()\n",
    "    return ' '.join([lemmatizer.lemmatize(x) for x in text_lower.split()])\n",
    "\n",
    "tfidf_pipe = make_pipeline(\n",
    "    TfidfVectorizer(ngram_range=(1, 1), preprocessor=split_lemmatize, stop_words='english'),\n",
    "    LogisticRegression(C = 10, max_iter=10000)                    \n",
    ")\n",
    "\n",
    "tfidf_pipe.fit(X_train, y_train)\n",
    "preds = tfidf_pipe.predict(X_test)\n",
    "\n",
    "print(f'training score is   {np.round(tfidf_pipe.score(X_train, y_train), 4)}')\n",
    "print(f'testing score is    {np.round(tfidf_pipe.score(X_test, y_test), 4)}')\n",
    "print(f'rmse score is       {np.round(mean_squared_error(y_test, preds, squared=False), 4)}')\n",
    "print(f'mse score is        {np.round(mean_squared_error(y_test, preds), 4)}')\n",
    "print(f'bal acc score is    {np.round(balanced_accuracy_score(y_test, preds), 4)}')"
   ]
  },
  {
   "cell_type": "code",
   "execution_count": 23,
   "id": "polyphonic-association",
   "metadata": {},
   "outputs": [
    {
     "name": "stdout",
     "output_type": "stream",
     "text": [
      "training score is   0.7787\n",
      "testing score is    0.6848\n",
      "rmse score is       0.5614\n",
      "mse score is        0.3152\n",
      "bal acc score is    0.5436\n"
     ]
    }
   ],
   "source": [
    "#split_lemmatize function used in earlier lesson from class\n",
    "knn_tfidf_pipe = make_pipeline(\n",
    "    TfidfVectorizer(ngram_range=(1, 1), preprocessor=split_lemmatize, stop_words='english'),\n",
    "    KNeighborsClassifier()                    \n",
    ")\n",
    "\n",
    "knn_tfidf_pipe.fit(X_train, y_train)\n",
    "preds = knn_tfidf_pipe.predict(X_test)\n",
    "\n",
    "print(f'training score is   {np.round(knn_tfidf_pipe.score(X_train, y_train), 4)}')\n",
    "print(f'testing score is    {np.round(knn_tfidf_pipe.score(X_test, y_test), 4)}')\n",
    "print(f'rmse score is       {np.round(mean_squared_error(y_test, preds, squared=False), 4)}')\n",
    "print(f'mse score is        {np.round(mean_squared_error(y_test, preds), 4)}')\n",
    "print(f'bal acc score is    {np.round(balanced_accuracy_score(y_test, preds), 4)}')"
   ]
  },
  {
   "cell_type": "code",
   "execution_count": 15,
   "id": "behavioral-dublin",
   "metadata": {},
   "outputs": [
    {
     "name": "stdout",
     "output_type": "stream",
     "text": [
      "training score is   0.7091\n",
      "testing score is    0.7096\n",
      "rmse score is       0.5389\n",
      "mse score is        0.5389\n",
      "bal acc score is    0.5\n"
     ]
    }
   ],
   "source": [
    "tfidf_pipe = make_pipeline(\n",
    "    TfidfVectorizer(ngram_range=(2, 2), preprocessor=split_lemmatize, stop_words='english'),\n",
    "    LogisticRegression(max_iter=10000)                    \n",
    ")\n",
    "\n",
    "tfidf_pipe.fit(X_train, y_train)\n",
    "preds = tfidf_pipe.predict(X_test)\n",
    "\n",
    "print(f'training score is   {np.round(tfidf_pipe.score(X_train, y_train), 4)}')\n",
    "print(f'testing score is    {np.round(tfidf_pipe.score(X_test, y_test), 4)}')\n",
    "print(f'rmse score is       {np.round(mean_squared_error(y_test, preds, squared=False), 4)}')\n",
    "print(f'mse score is        {np.round(mean_squared_error(y_test, preds, squared=False), 4)}')\n",
    "print(f'bal acc score is    {np.round(balanced_accuracy_score(y_test, preds), 4)}')"
   ]
  },
  {
   "cell_type": "code",
   "execution_count": 16,
   "id": "animated-evanescence",
   "metadata": {},
   "outputs": [
    {
     "name": "stdout",
     "output_type": "stream",
     "text": [
      "training score is   1.0\n",
      "testing score is    0.7344\n",
      "rmse score is       0.5154\n",
      "mse score is        0.5154\n",
      "bal acc score is    0.5752\n"
     ]
    }
   ],
   "source": [
    "logreg_pipe = make_pipeline(\n",
    "    CountVectorizer(stop_words='english'),\n",
    "    StandardScaler(with_mean=False),\n",
    "    LogisticRegression(max_iter=1000)\n",
    ")\n",
    "\n",
    "logreg_pipe.fit(X_train, y_train)\n",
    "preds = logreg_pipe.predict(X_test)\n",
    "\n",
    "print(f'training score is   {np.round(logreg_pipe.score(X_train, y_train), 4)}')\n",
    "print(f'testing score is    {np.round(logreg_pipe.score(X_test, y_test), 4)}')\n",
    "print(f'rmse score is       {np.round(mean_squared_error(y_test, preds, squared=False), 4)}')\n",
    "print(f'mse score is        {np.round(mean_squared_error(y_test, preds, squared=False), 4)}')\n",
    "print(f'bal acc score is    {np.round(balanced_accuracy_score(y_test, preds), 4)}')"
   ]
  },
  {
   "cell_type": "code",
   "execution_count": 17,
   "id": "hollywood-scheduling",
   "metadata": {},
   "outputs": [
    {
     "name": "stdout",
     "output_type": "stream",
     "text": [
      "training score is   0.7091\n",
      "testing score is    0.7096\n",
      "rmse score is       0.5389\n",
      "mse score is        0.5389\n",
      "bal acc score is    0.5\n"
     ]
    }
   ],
   "source": [
    "knn_pipe = make_pipeline(\n",
    "    CountVectorizer(stop_words='english'),\n",
    "    StandardScaler(with_mean=False),\n",
    "    KNeighborsClassifier()\n",
    ")\n",
    "\n",
    "knn_pipe.fit(X_train, y_train)\n",
    "preds = knn_pipe.predict(X_test)\n",
    "\n",
    "print(f'training score is   {np.round(knn_pipe.score(X_train, y_train), 4)}')\n",
    "print(f'testing score is    {np.round(knn_pipe.score(X_test, y_test), 4)}')\n",
    "print(f'rmse score is       {np.round(mean_squared_error(y_test, preds, squared=False), 4)}')\n",
    "print(f'mse score is        {np.round(mean_squared_error(y_test, preds, squared=False), 4)}')\n",
    "print(f'bal acc score is    {np.round(balanced_accuracy_score(y_test, preds), 4)}')"
   ]
  },
  {
   "cell_type": "code",
   "execution_count": 18,
   "id": "original-maker",
   "metadata": {},
   "outputs": [
    {
     "name": "stdout",
     "output_type": "stream",
     "text": [
      "training score is   1.0\n",
      "testing score is    0.7304\n",
      "rmse score is       0.5192\n",
      "mse score is        0.5192\n",
      "bal acc score is    0.5619\n"
     ]
    }
   ],
   "source": [
    "# highest scores observed between the knn_pipe and logreg_pipe. Try to votingclassifier\n",
    "vc = VotingClassifier(\n",
    "    [\n",
    "        ('knn', knn_pipe),\n",
    "        ('lr', logreg_pipe),\n",
    "    ],\n",
    "    n_jobs=-1,\n",
    "    voting='soft'\n",
    ")\n",
    "\n",
    "vc.fit(X_train, y_train)\n",
    "preds = vc.predict(X_test)\n",
    "\n",
    "print(f'training score is   {np.round(vc.score(X_train, y_train), 4)}')\n",
    "print(f'testing score is    {np.round(vc.score(X_test, y_test), 4)}')\n",
    "print(f'rmse score is       {np.round(mean_squared_error(y_test, preds, squared=False), 4)}')\n",
    "print(f'mse score is        {np.round(mean_squared_error(y_test, preds, squared=False), 4)}')\n",
    "print(f'bal acc score is    {np.round(balanced_accuracy_score(y_test, preds), 4)}')"
   ]
  },
  {
   "cell_type": "code",
   "execution_count": 19,
   "id": "standing-natural",
   "metadata": {},
   "outputs": [
    {
     "data": {
      "image/png": "[encoded data removed]",
      "text/plain": [
       "<Figure size 432x288 with 2 Axes>"
      ]
     },
     "metadata": {
      "needs_background": "light"
     },
     "output_type": "display_data"
    }
   ],
   "source": [
    "plot_confusion_matrix(vc, X_test, y_test);\n",
    "# mis-classifications are relatively high still with the voting regressor. Better bal acc score with soft voting"
   ]
  },
  {
   "cell_type": "code",
   "execution_count": 20,
   "id": "printable-lawrence",
   "metadata": {},
   "outputs": [
    {
     "data": {
      "image/png": "[encoded data removed]",
      "text/plain": [
       "<Figure size 432x288 with 1 Axes>"
      ]
     },
     "metadata": {
      "needs_background": "light"
     },
     "output_type": "display_data"
    }
   ],
   "source": [
    "X_countvec = CountVectorizer(stop_words='english').fit_transform(X)\n",
    "X_scaled = StandardScaler(with_mean=False).fit_transform(X_countvec)\n",
    "\n",
    "inertia = []\n",
    "for k in range(1, 10):\n",
    "    kmeans = KMeans(n_clusters=k, random_state=123)\n",
    "    kmeans.fit(X_scaled)\n",
    "    inertia.append(kmeans.inertia_)\n",
    "inertia\n",
    "\n",
    "plt.plot(range(1, 10), inertia, marker='o');\n",
    "# choose k = 6"
   ]
  },
  {
   "cell_type": "code",
   "execution_count": 21,
   "id": "italic-cameroon",
   "metadata": {},
   "outputs": [
    {
     "name": "stdout",
     "output_type": "stream",
     "text": [
      "training score is   0.7091\n",
      "testing score is    0.7096\n",
      "rmse score is       0.5389\n",
      "mse score is        0.5389\n",
      "bal acc score is    0.5\n"
     ]
    }
   ],
   "source": [
    "kmeans = make_pipeline(\n",
    "    CountVectorizer(stop_words='english'),\n",
    "    StandardScaler(with_mean=False),\n",
    "    KMeans(n_clusters=6)\n",
    ")\n",
    "\n",
    "knn_pipe.fit(X_train, y_train)\n",
    "preds = knn_pipe.predict(X_test)\n",
    "\n",
    "print(f'training score is   {np.round(knn_pipe.score(X_train, y_train), 4)}')\n",
    "print(f'testing score is    {np.round(knn_pipe.score(X_test, y_test), 4)}')\n",
    "print(f'rmse score is       {np.round(mean_squared_error(y_test, preds, squared=False), 4)}')\n",
    "print(f'mse score is        {np.round(mean_squared_error(y_test, preds, squared=False), 4)}')\n",
    "print(f'bal acc score is    {np.round(balanced_accuracy_score(y_test, preds), 4)}')"
   ]
  },
  {
   "cell_type": "markdown",
   "id": "modular-welding",
   "metadata": {},
   "source": [
    "# Binary Classification"
   ]
  },
  {
   "cell_type": "markdown",
   "id": "sporting-period",
   "metadata": {},
   "source": [
    "### Take subset for modeling"
   ]
  },
  {
   "cell_type": "code",
   "execution_count": 6,
   "id": "found-installation",
   "metadata": {},
   "outputs": [
    {
     "data": {
      "text/plain": [
       "(5000, 12)"
      ]
     },
     "execution_count": 6,
     "metadata": {},
     "output_type": "execute_result"
    }
   ],
   "source": [
    "#sample 5000 reviews for modeling, even classes\n",
    "score_0 = music_df_round[music_df_round['score_binary']==0].sample(n=2500)\n",
    "score_1 = music_df_round[music_df_round['score_binary']==1].sample(n=2500)\n",
    "\n",
    "music_df_round_subset = pd.concat([score_0, score_1])\n",
    "music_df_round_subset.shape"
   ]
  },
  {
   "cell_type": "code",
   "execution_count": 7,
   "id": "sacred-kidney",
   "metadata": {},
   "outputs": [],
   "source": [
    "X = music_df_round_subset['cleaned_content']\n",
    "y = music_df_round_subset['score_binary']\n",
    "\n",
    "X_train, X_test, y_train, y_test = train_test_split(X, y, stratify=y)"
   ]
  },
  {
   "cell_type": "code",
   "execution_count": 8,
   "id": "formed-rocket",
   "metadata": {},
   "outputs": [
    {
     "data": {
      "text/plain": [
       "0.0    0.5\n",
       "1.0    0.5\n",
       "Name: score_binary, dtype: float64"
      ]
     },
     "execution_count": 8,
     "metadata": {},
     "output_type": "execute_result"
    }
   ],
   "source": [
    "y.value_counts(normalize=True)"
   ]
  },
  {
   "cell_type": "markdown",
   "id": "false-bowling",
   "metadata": {},
   "source": [
    "### Null Model"
   ]
  },
  {
   "cell_type": "code",
   "execution_count": 9,
   "id": "existing-member",
   "metadata": {},
   "outputs": [
    {
     "name": "stdout",
     "output_type": "stream",
     "text": [
      "training score is   0.5\n",
      "testing score is    0.5\n",
      "rmse score is       0.71\n",
      "mse score is        0.5\n",
      "bal acc score is    0.5\n"
     ]
    }
   ],
   "source": [
    "null = DummyClassifier()\n",
    "\n",
    "null.fit(X_train, y_train)\n",
    "preds = null.predict(X_test)\n",
    "\n",
    "print(f'training score is   {np.round(null.score(X_train, y_train), 4)}')\n",
    "print(f'testing score is    {np.round(null.score(X_test, y_test), 4)}')\n",
    "print(f'rmse score is       {np.round(mean_squared_error(y_test, preds, squared=False), 2)}')\n",
    "print(f'mse score is        {np.round(mean_squared_error(y_test, preds), 4)}')\n",
    "print(f'bal acc score is    {np.round(balanced_accuracy_score(y_test, preds), 4)}')"
   ]
  },
  {
   "cell_type": "markdown",
   "id": "departmental-cleanup",
   "metadata": {},
   "source": [
    "### Pipelines"
   ]
  },
  {
   "cell_type": "code",
   "execution_count": 10,
   "id": "inclusive-revolution",
   "metadata": {},
   "outputs": [],
   "source": [
    "import warnings\n",
    "warnings.filterwarnings(\"ignore\")"
   ]
  },
  {
   "cell_type": "code",
   "execution_count": 11,
   "id": "possible-senior",
   "metadata": {},
   "outputs": [],
   "source": [
    "# def split_lemmatize(text):\n",
    "#     text_lower = text.lower()\n",
    "#     lemmatizer=WordNetLemmatizer()\n",
    "#     return ' '.join([lemmatizer.lemmatize(x) for x in text_lower.split()])\n",
    "\n",
    "# tfidf_pipe = make_pipeline(\n",
    "#     TfidfVectorizer(preprocessor=split_lemmatize, stop_words='english'),\n",
    "#     LogisticRegression(max_iter=10000)                    \n",
    "# )\n",
    "\n",
    "# tfidf_grid = GridSearchCV(\n",
    "#     tfidf_pipe,\n",
    "#     param_grid={\n",
    "#         'tfidfvectorizer__ngram_range':[(1, 1), (2, 2)],\n",
    "#         'logisticregression__C': [0.001, 0.01, 1, 10, 100]\n",
    "#                }\n",
    "# )\n",
    "\n",
    "# tfidf_grid.fit(X_train, y_train)\n",
    "# preds = tfidf_grid.predict(X_test)\n",
    "\n",
    "# print(f'training score is   {np.round(tfidf_grid.score(X_train, y_train), 4)}')\n",
    "# print(f'testing score is    {np.round(tfidf_grid.score(X_test, y_test), 4)}')\n",
    "# print(f'rmse score is       {np.round(mean_squared_error(y_test, preds, squared=False), 4)}')\n",
    "# print(f'mse score is        {np.round(mean_squared_error(y_test, preds), 4)}')\n",
    "# print(f'bal acc score is    {np.round(balanced_accuracy_score(y_test, preds), 4)}')"
   ]
  },
  {
   "cell_type": "code",
   "execution_count": 12,
   "id": "pretty-poetry",
   "metadata": {},
   "outputs": [],
   "source": [
    "# tfidf_grid.best_params_"
   ]
  },
  {
   "cell_type": "code",
   "execution_count": 13,
   "id": "developmental-failing",
   "metadata": {},
   "outputs": [
    {
     "name": "stdout",
     "output_type": "stream",
     "text": [
      "training score is   0.9997\n",
      "testing score is    0.7144\n",
      "rmse score is       0.5344\n",
      "mse score is        0.2856\n",
      "bal acc score is    0.7144\n"
     ]
    }
   ],
   "source": [
    "#split_lemmatize function used in earlier lesson from class\n",
    "def split_lemmatize(text):\n",
    "    text_lower = text.lower()\n",
    "    lemmatizer=WordNetLemmatizer()\n",
    "    return ' '.join([lemmatizer.lemmatize(x) for x in text_lower.split()])\n",
    "\n",
    "tfidf_pipe = make_pipeline(\n",
    "    TfidfVectorizer(ngram_range=(1, 1), preprocessor=split_lemmatize, stop_words='english'),\n",
    "    LogisticRegression(C = 10, max_iter=10000)                    \n",
    ")\n",
    "\n",
    "tfidf_pipe.fit(X_train, y_train)\n",
    "preds = tfidf_pipe.predict(X_test)\n",
    "\n",
    "print(f'training score is   {np.round(tfidf_pipe.score(X_train, y_train), 4)}')\n",
    "print(f'testing score is    {np.round(tfidf_pipe.score(X_test, y_test), 4)}')\n",
    "print(f'rmse score is       {np.round(mean_squared_error(y_test, preds, squared=False), 4)}')\n",
    "print(f'mse score is        {np.round(mean_squared_error(y_test, preds), 4)}')\n",
    "print(f'bal acc score is    {np.round(balanced_accuracy_score(y_test, preds), 4)}')"
   ]
  },
  {
   "cell_type": "code",
   "execution_count": 14,
   "id": "strategic-serial",
   "metadata": {},
   "outputs": [
    {
     "name": "stdout",
     "output_type": "stream",
     "text": [
      "training score is   1.0\n",
      "testing score is    0.6472\n",
      "rmse score is       0.594\n",
      "mse score is        0.594\n",
      "bal acc score is    0.6472\n"
     ]
    }
   ],
   "source": [
    "def split_lemmatize(text):\n",
    "    text_lower = text.lower()\n",
    "    lemmatizer=WordNetLemmatizer()\n",
    "    return ' '.join([lemmatizer.lemmatize(x) for x in text_lower.split()])\n",
    "\n",
    "tfidf_pipe = make_pipeline(\n",
    "    TfidfVectorizer(ngram_range=(2, 2), preprocessor=split_lemmatize, stop_words='english'),\n",
    "    LogisticRegression(max_iter=10000)                    \n",
    ")\n",
    "\n",
    "tfidf_pipe.fit(X_train, y_train)\n",
    "preds = tfidf_pipe.predict(X_test)\n",
    "\n",
    "print(f'training score is   {np.round(tfidf_pipe.score(X_train, y_train), 4)}')\n",
    "print(f'testing score is    {np.round(tfidf_pipe.score(X_test, y_test), 4)}')\n",
    "print(f'rmse score is       {np.round(mean_squared_error(y_test, preds, squared=False), 4)}')\n",
    "print(f'mse score is        {np.round(mean_squared_error(y_test, preds, squared=False), 4)}')\n",
    "print(f'bal acc score is    {np.round(balanced_accuracy_score(y_test, preds), 4)}')"
   ]
  },
  {
   "cell_type": "code",
   "execution_count": 15,
   "id": "difficult-progressive",
   "metadata": {},
   "outputs": [
    {
     "name": "stdout",
     "output_type": "stream",
     "text": [
      "training score is   1.0\n",
      "testing score is    0.68\n",
      "rmse score is       0.5657\n",
      "mse score is        0.5657\n",
      "bal acc score is    0.68\n"
     ]
    }
   ],
   "source": [
    "logreg_pipe = make_pipeline(\n",
    "    CountVectorizer(stop_words='english'),\n",
    "    StandardScaler(with_mean=False),\n",
    "    LogisticRegression(max_iter=1000)\n",
    ")\n",
    "\n",
    "logreg_pipe.fit(X_train, y_train)\n",
    "preds = logreg_pipe.predict(X_test)\n",
    "\n",
    "print(f'training score is   {np.round(logreg_pipe.score(X_train, y_train), 4)}')\n",
    "print(f'testing score is    {np.round(logreg_pipe.score(X_test, y_test), 4)}')\n",
    "print(f'rmse score is       {np.round(mean_squared_error(y_test, preds, squared=False), 4)}')\n",
    "print(f'mse score is        {np.round(mean_squared_error(y_test, preds, squared=False), 4)}')\n",
    "print(f'bal acc score is    {np.round(balanced_accuracy_score(y_test, preds), 4)}')"
   ]
  },
  {
   "cell_type": "code",
   "execution_count": 16,
   "id": "cathedral-valuable",
   "metadata": {},
   "outputs": [
    {
     "name": "stdout",
     "output_type": "stream",
     "text": [
      "training score is   0.5\n",
      "testing score is    0.5\n",
      "rmse score is       0.7071\n",
      "mse score is        0.7071\n",
      "bal acc score is    0.5\n"
     ]
    }
   ],
   "source": [
    "knn_pipe = make_pipeline(\n",
    "    CountVectorizer(stop_words='english'),\n",
    "    StandardScaler(with_mean=False),\n",
    "    KNeighborsClassifier()\n",
    ")\n",
    "\n",
    "knn_pipe.fit(X_train, y_train)\n",
    "preds = knn_pipe.predict(X_test)\n",
    "\n",
    "print(f'training score is   {np.round(knn_pipe.score(X_train, y_train), 4)}')\n",
    "print(f'testing score is    {np.round(knn_pipe.score(X_test, y_test), 4)}')\n",
    "print(f'rmse score is       {np.round(mean_squared_error(y_test, preds, squared=False), 4)}')\n",
    "print(f'mse score is        {np.round(mean_squared_error(y_test, preds, squared=False), 4)}')\n",
    "print(f'bal acc score is    {np.round(balanced_accuracy_score(y_test, preds), 4)}')"
   ]
  },
  {
   "cell_type": "code",
   "execution_count": 17,
   "id": "blond-layout",
   "metadata": {},
   "outputs": [
    {
     "name": "stdout",
     "output_type": "stream",
     "text": [
      "training score is   1.0\n",
      "testing score is    0.6496\n",
      "rmse score is       0.5919\n",
      "mse score is        0.5919\n",
      "bal acc score is    0.6496\n"
     ]
    }
   ],
   "source": [
    "# highest scores observed between the knn_pipe and logreg_pipe. Try to votingclassifier\n",
    "vc = VotingClassifier(\n",
    "    [\n",
    "        ('knn', knn_pipe),\n",
    "        ('lr', logreg_pipe),\n",
    "    ],\n",
    "    n_jobs=-1,\n",
    "    voting='soft'\n",
    ")\n",
    "\n",
    "vc.fit(X_train, y_train)\n",
    "preds = vc.predict(X_test)\n",
    "\n",
    "print(f'training score is   {np.round(vc.score(X_train, y_train), 4)}')\n",
    "print(f'testing score is    {np.round(vc.score(X_test, y_test), 4)}')\n",
    "print(f'rmse score is       {np.round(mean_squared_error(y_test, preds, squared=False), 4)}')\n",
    "print(f'mse score is        {np.round(mean_squared_error(y_test, preds, squared=False), 4)}')\n",
    "print(f'bal acc score is    {np.round(balanced_accuracy_score(y_test, preds), 4)}')"
   ]
  },
  {
   "cell_type": "code",
   "execution_count": 18,
   "id": "universal-treasurer",
   "metadata": {},
   "outputs": [
    {
     "data": {
      "image/png": "[encoded data removed]",
      "text/plain": [
       "<Figure size 432x288 with 2 Axes>"
      ]
     },
     "metadata": {
      "needs_background": "light"
     },
     "output_type": "display_data"
    }
   ],
   "source": [
    "plot_confusion_matrix(vc, X_test, y_test);\n",
    "# mis-classifications are relatively high still with the voting regressor. Better bal acc score with soft voting"
   ]
  },
  {
   "cell_type": "code",
   "execution_count": 19,
   "id": "executive-stewart",
   "metadata": {},
   "outputs": [
    {
     "data": {
      "image/png": "[encoded data removed]",
      "text/plain": [
       "<Figure size 432x288 with 1 Axes>"
      ]
     },
     "metadata": {
      "needs_background": "light"
     },
     "output_type": "display_data"
    }
   ],
   "source": [
    "X_countvec = CountVectorizer(stop_words='english').fit_transform(X)\n",
    "X_scaled = StandardScaler(with_mean=False).fit_transform(X_countvec)\n",
    "\n",
    "inertia = []\n",
    "for k in range(1, 10):\n",
    "    kmeans = KMeans(n_clusters=k, random_state=123)\n",
    "    kmeans.fit(X_scaled)\n",
    "    inertia.append(kmeans.inertia_)\n",
    "inertia\n",
    "\n",
    "plt.plot(range(1, 10), inertia, marker='o');\n",
    "# choose k = 6"
   ]
  },
  {
   "cell_type": "code",
   "execution_count": 20,
   "id": "innovative-advantage",
   "metadata": {},
   "outputs": [
    {
     "name": "stdout",
     "output_type": "stream",
     "text": [
      "training score is   0.5\n",
      "testing score is    0.5\n",
      "rmse score is       0.7071\n",
      "mse score is        0.7071\n",
      "bal acc score is    0.5\n"
     ]
    }
   ],
   "source": [
    "kmeans = make_pipeline(\n",
    "    CountVectorizer(stop_words='english'),\n",
    "    StandardScaler(with_mean=False),\n",
    "    KMeans(n_clusters=6)\n",
    ")\n",
    "\n",
    "knn_pipe.fit(X_train, y_train)\n",
    "preds = knn_pipe.predict(X_test)\n",
    "\n",
    "print(f'training score is   {np.round(knn_pipe.score(X_train, y_train), 4)}')\n",
    "print(f'testing score is    {np.round(knn_pipe.score(X_test, y_test), 4)}')\n",
    "print(f'rmse score is       {np.round(mean_squared_error(y_test, preds, squared=False), 4)}')\n",
    "print(f'mse score is        {np.round(mean_squared_error(y_test, preds, squared=False), 4)}')\n",
    "print(f'bal acc score is    {np.round(balanced_accuracy_score(y_test, preds), 4)}')"
   ]
  }
 ],
 "metadata": {
  "kernelspec": {
   "display_name": "Python 3",
   "language": "python",
   "name": "python3"
  },
  "language_info": {
   "codemirror_mode": {
    "name": "ipython",
    "version": 3
   },
   "file_extension": ".py",
   "mimetype": "text/x-python",
   "name": "python",
   "nbconvert_exporter": "python",
   "pygments_lexer": "ipython3",
   "version": "3.8.8"
  }
 },
 "nbformat": 4,
 "nbformat_minor": 5
}
