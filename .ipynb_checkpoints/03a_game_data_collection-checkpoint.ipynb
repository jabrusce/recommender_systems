{
 "cells": [
  {
   "cell_type": "markdown",
   "id": "running-beijing",
   "metadata": {},
   "source": [
    "# Board Game Ratings Data Collection & Cleaning"
   ]
  },
  {
   "cell_type": "markdown",
   "id": "extended-typing",
   "metadata": {},
   "source": [
    "### Import libraries and datasets"
   ]
  },
  {
   "cell_type": "code",
   "execution_count": 1,
   "id": "controlled-affairs",
   "metadata": {},
   "outputs": [],
   "source": [
    "import pandas as pd\n",
    "import numpy as np\n",
    "from sklearn.preprocessing import LabelEncoder"
   ]
  },
  {
   "cell_type": "markdown",
   "id": "mechanical-browser",
   "metadata": {},
   "source": [
    "Data available at:\n",
    "    https://www.kaggle.com/jvanelteren/boardgamegeek-reviews"
   ]
  },
  {
   "cell_type": "code",
   "execution_count": 2,
   "id": "photographic-future",
   "metadata": {},
   "outputs": [
    {
     "data": {
      "text/html": [
       "<div>\n",
       "<style scoped>\n",
       "    .dataframe tbody tr th:only-of-type {\n",
       "        vertical-align: middle;\n",
       "    }\n",
       "\n",
       "    .dataframe tbody tr th {\n",
       "        vertical-align: top;\n",
       "    }\n",
       "\n",
       "    .dataframe thead th {\n",
       "        text-align: right;\n",
       "    }\n",
       "</style>\n",
       "<table border=\"1\" class=\"dataframe\">\n",
       "  <thead>\n",
       "    <tr style=\"text-align: right;\">\n",
       "      <th></th>\n",
       "      <th>type</th>\n",
       "      <th>ID</th>\n",
       "      <th>thumbnail</th>\n",
       "      <th>image</th>\n",
       "      <th>primary</th>\n",
       "      <th>alternate</th>\n",
       "      <th>description</th>\n",
       "      <th>yearpublished</th>\n",
       "      <th>minplayers</th>\n",
       "      <th>maxplayers</th>\n",
       "      <th>...</th>\n",
       "      <th>War Game Rank</th>\n",
       "      <th>Customizable Rank</th>\n",
       "      <th>Children's Game Rank</th>\n",
       "      <th>RPG Item Rank</th>\n",
       "      <th>Accessory Rank</th>\n",
       "      <th>Video Game Rank</th>\n",
       "      <th>Amiga Rank</th>\n",
       "      <th>Commodore 64 Rank</th>\n",
       "      <th>Arcade Rank</th>\n",
       "      <th>Atari ST Rank</th>\n",
       "    </tr>\n",
       "  </thead>\n",
       "  <tbody>\n",
       "    <tr>\n",
       "      <th>0</th>\n",
       "      <td>boardgame</td>\n",
       "      <td>30549</td>\n",
       "      <td>https://cf.geekdo-images.com/thumb/img/HEKrtpT...</td>\n",
       "      <td>https://cf.geekdo-images.com/original/img/j-pf...</td>\n",
       "      <td>Pandemic</td>\n",
       "      <td>['EPIZOotic', 'Pandemia', 'Pandemia 10 Anivers...</td>\n",
       "      <td>In Pandemic, several virulent diseases have br...</td>\n",
       "      <td>2008</td>\n",
       "      <td>2</td>\n",
       "      <td>4</td>\n",
       "      <td>...</td>\n",
       "      <td>NaN</td>\n",
       "      <td>NaN</td>\n",
       "      <td>NaN</td>\n",
       "      <td>NaN</td>\n",
       "      <td>NaN</td>\n",
       "      <td>NaN</td>\n",
       "      <td>NaN</td>\n",
       "      <td>NaN</td>\n",
       "      <td>NaN</td>\n",
       "      <td>NaN</td>\n",
       "    </tr>\n",
       "    <tr>\n",
       "      <th>1</th>\n",
       "      <td>boardgame</td>\n",
       "      <td>822</td>\n",
       "      <td>https://cf.geekdo-images.com/thumb/img/kqE4YJS...</td>\n",
       "      <td>https://cf.geekdo-images.com/original/img/o4p6...</td>\n",
       "      <td>Carcassonne</td>\n",
       "      <td>['Carcassonne Jubilee Edition', 'Carcassonne: ...</td>\n",
       "      <td>Carcassonne is a tile-placement game in which ...</td>\n",
       "      <td>2000</td>\n",
       "      <td>2</td>\n",
       "      <td>5</td>\n",
       "      <td>...</td>\n",
       "      <td>NaN</td>\n",
       "      <td>NaN</td>\n",
       "      <td>NaN</td>\n",
       "      <td>NaN</td>\n",
       "      <td>NaN</td>\n",
       "      <td>NaN</td>\n",
       "      <td>NaN</td>\n",
       "      <td>NaN</td>\n",
       "      <td>NaN</td>\n",
       "      <td>NaN</td>\n",
       "    </tr>\n",
       "  </tbody>\n",
       "</table>\n",
       "<p>2 rows × 55 columns</p>\n",
       "</div>"
      ],
      "text/plain": [
       "        type     ID                                          thumbnail  \\\n",
       "0  boardgame  30549  https://cf.geekdo-images.com/thumb/img/HEKrtpT...   \n",
       "1  boardgame    822  https://cf.geekdo-images.com/thumb/img/kqE4YJS...   \n",
       "\n",
       "                                               image      primary  \\\n",
       "0  https://cf.geekdo-images.com/original/img/j-pf...     Pandemic   \n",
       "1  https://cf.geekdo-images.com/original/img/o4p6...  Carcassonne   \n",
       "\n",
       "                                           alternate  \\\n",
       "0  ['EPIZOotic', 'Pandemia', 'Pandemia 10 Anivers...   \n",
       "1  ['Carcassonne Jubilee Edition', 'Carcassonne: ...   \n",
       "\n",
       "                                         description  yearpublished  \\\n",
       "0  In Pandemic, several virulent diseases have br...           2008   \n",
       "1  Carcassonne is a tile-placement game in which ...           2000   \n",
       "\n",
       "   minplayers  maxplayers  ... War Game Rank Customizable Rank  \\\n",
       "0           2           4  ...           NaN               NaN   \n",
       "1           2           5  ...           NaN               NaN   \n",
       "\n",
       "  Children's Game Rank  RPG Item Rank  Accessory Rank  Video Game Rank  \\\n",
       "0                  NaN            NaN             NaN              NaN   \n",
       "1                  NaN            NaN             NaN              NaN   \n",
       "\n",
       "   Amiga Rank Commodore 64 Rank Arcade Rank Atari ST Rank  \n",
       "0         NaN               NaN         NaN           NaN  \n",
       "1         NaN               NaN         NaN           NaN  \n",
       "\n",
       "[2 rows x 55 columns]"
      ]
     },
     "execution_count": 2,
     "metadata": {},
     "output_type": "execute_result"
    }
   ],
   "source": [
    "#import raw data - 1st csv\n",
    "games = pd.read_csv('./data/raw/games_detailed_info.csv', index_col=0)\n",
    "games.rename(columns={'id':'ID'}, inplace=True)\n",
    "games.head(2)"
   ]
  },
  {
   "cell_type": "code",
   "execution_count": 3,
   "id": "imposed-dallas",
   "metadata": {},
   "outputs": [],
   "source": [
    "columns_to_drop = [\"boardgameintegration\", \"boardgamecompilation\", \"Party Game Rank\", \n",
    "\"Abstract Game Rank\", \"Thematic Rank\", \"War Game Rank\", \"Customizable Rank\", \n",
    "\"Children's Game Rank\", \"RPG Item Rank\", \"Accessory Rank\", \"Video Game Rank\", \n",
    "\"Amiga Rank\", \"Commodore 64 Rank\", \"Arcade Rank\", \"Atari ST Rank\", \"Family Game Rank\", \n",
    "\"Strategy Game Rank\", \"boardgameartist\", \"boardgameimplementation\", \"boardgameexpansion\", \n",
    "\"boardgamefamily\", \"alternate\", \"stddev\", \"owned\", \"trading\", \"wanting\", \"wishing\", \"numcomments\",\n",
    "\"numweights\", \"averageweight\", \"suggested_playerage\", \"suggested_language_dependence\",\n",
    "\"boardgamecategory\", \"bayesaverage\", \"Board Game Rank\", \"median\", \"boardgamedesigner\",\n",
    "\"yearpublished\", \"thumbnail\", \"image\", \"boardgamemechanic\", \"type\", \"primary\", \"suggested_num_players\",\n",
    "\"boardgamepublisher\", \"minplaytime\", \"maxplaytime\", 'minage', 'description']\n",
    "games.drop(columns=columns_to_drop, inplace=True)"
   ]
  },
  {
   "cell_type": "code",
   "execution_count": 4,
   "id": "passing-saskatchewan",
   "metadata": {},
   "outputs": [
    {
     "name": "stderr",
     "output_type": "stream",
     "text": [
      "C:\\ProgramData\\Miniconda3\\envs\\spacy_capstone\\lib\\site-packages\\numpy\\lib\\arraysetops.py:580: FutureWarning: elementwise comparison failed; returning scalar instead, but in the future will perform elementwise comparison\n",
      "  mask |= (ar1 == a)\n"
     ]
    }
   ],
   "source": [
    "#import raw data - 2nd csv\n",
    "games_2 = pd.read_csv('./data/raw/bgg-15m-reviews.csv', index_col=0)"
   ]
  },
  {
   "cell_type": "code",
   "execution_count": 5,
   "id": "through-bride",
   "metadata": {},
   "outputs": [],
   "source": [
    "#anonymize data using Label Encoder\n",
    "#modified from: https://stackoverflow.com/questions/48008334/anonymize-specific-columns-with-pii-in-pandas-dataframe-python\n",
    "label_encoder = LabelEncoder()\n",
    "games_2['user'] = games_2['user'].astype(str)\n",
    "user_anonymzed = label_encoder.fit(games_2['user']).transform(games_2['user'])\n",
    "games_2['user'] = user_anonymzed"
   ]
  },
  {
   "cell_type": "code",
   "execution_count": 6,
   "id": "arranged-stuff",
   "metadata": {},
   "outputs": [
    {
     "data": {
      "text/html": [
       "<div>\n",
       "<style scoped>\n",
       "    .dataframe tbody tr th:only-of-type {\n",
       "        vertical-align: middle;\n",
       "    }\n",
       "\n",
       "    .dataframe tbody tr th {\n",
       "        vertical-align: top;\n",
       "    }\n",
       "\n",
       "    .dataframe thead th {\n",
       "        text-align: right;\n",
       "    }\n",
       "</style>\n",
       "<table border=\"1\" class=\"dataframe\">\n",
       "  <thead>\n",
       "    <tr style=\"text-align: right;\">\n",
       "      <th></th>\n",
       "      <th>user</th>\n",
       "      <th>rating</th>\n",
       "      <th>comment</th>\n",
       "      <th>ID</th>\n",
       "      <th>name</th>\n",
       "    </tr>\n",
       "  </thead>\n",
       "  <tbody>\n",
       "    <tr>\n",
       "      <th>0</th>\n",
       "      <td>162393</td>\n",
       "      <td>10.0</td>\n",
       "      <td>NaN</td>\n",
       "      <td>30549</td>\n",
       "      <td>Pandemic</td>\n",
       "    </tr>\n",
       "    <tr>\n",
       "      <th>1</th>\n",
       "      <td>282186</td>\n",
       "      <td>10.0</td>\n",
       "      <td>Hands down my favorite new game of BGG CON 200...</td>\n",
       "      <td>30549</td>\n",
       "      <td>Pandemic</td>\n",
       "    </tr>\n",
       "  </tbody>\n",
       "</table>\n",
       "</div>"
      ],
      "text/plain": [
       "     user  rating                                            comment     ID  \\\n",
       "0  162393    10.0                                                NaN  30549   \n",
       "1  282186    10.0  Hands down my favorite new game of BGG CON 200...  30549   \n",
       "\n",
       "       name  \n",
       "0  Pandemic  \n",
       "1  Pandemic  "
      ]
     },
     "execution_count": 6,
     "metadata": {},
     "output_type": "execute_result"
    }
   ],
   "source": [
    "games_2.head(2)"
   ]
  },
  {
   "cell_type": "code",
   "execution_count": 7,
   "id": "korean-cycle",
   "metadata": {},
   "outputs": [],
   "source": [
    "#create merged dataframe\n",
    "games_df = pd.merge(games_2, games, on='ID')"
   ]
  },
  {
   "cell_type": "code",
   "execution_count": 8,
   "id": "satisfied-chess",
   "metadata": {},
   "outputs": [
    {
     "data": {
      "text/html": [
       "<div>\n",
       "<style scoped>\n",
       "    .dataframe tbody tr th:only-of-type {\n",
       "        vertical-align: middle;\n",
       "    }\n",
       "\n",
       "    .dataframe tbody tr th {\n",
       "        vertical-align: top;\n",
       "    }\n",
       "\n",
       "    .dataframe thead th {\n",
       "        text-align: right;\n",
       "    }\n",
       "</style>\n",
       "<table border=\"1\" class=\"dataframe\">\n",
       "  <thead>\n",
       "    <tr style=\"text-align: right;\">\n",
       "      <th></th>\n",
       "      <th>user</th>\n",
       "      <th>rating</th>\n",
       "      <th>comment</th>\n",
       "      <th>ID</th>\n",
       "      <th>name</th>\n",
       "      <th>minplayers</th>\n",
       "      <th>maxplayers</th>\n",
       "      <th>playingtime</th>\n",
       "      <th>usersrated</th>\n",
       "      <th>average</th>\n",
       "    </tr>\n",
       "  </thead>\n",
       "  <tbody>\n",
       "    <tr>\n",
       "      <th>0</th>\n",
       "      <td>162393</td>\n",
       "      <td>10.0</td>\n",
       "      <td>NaN</td>\n",
       "      <td>30549</td>\n",
       "      <td>Pandemic</td>\n",
       "      <td>2</td>\n",
       "      <td>4</td>\n",
       "      <td>45</td>\n",
       "      <td>96241</td>\n",
       "      <td>7.61567</td>\n",
       "    </tr>\n",
       "    <tr>\n",
       "      <th>1</th>\n",
       "      <td>282186</td>\n",
       "      <td>10.0</td>\n",
       "      <td>Hands down my favorite new game of BGG CON 200...</td>\n",
       "      <td>30549</td>\n",
       "      <td>Pandemic</td>\n",
       "      <td>2</td>\n",
       "      <td>4</td>\n",
       "      <td>45</td>\n",
       "      <td>96241</td>\n",
       "      <td>7.61567</td>\n",
       "    </tr>\n",
       "    <tr>\n",
       "      <th>2</th>\n",
       "      <td>188488</td>\n",
       "      <td>10.0</td>\n",
       "      <td>I tend to either love or easily tire of co-op ...</td>\n",
       "      <td>30549</td>\n",
       "      <td>Pandemic</td>\n",
       "      <td>2</td>\n",
       "      <td>4</td>\n",
       "      <td>45</td>\n",
       "      <td>96241</td>\n",
       "      <td>7.61567</td>\n",
       "    </tr>\n",
       "  </tbody>\n",
       "</table>\n",
       "</div>"
      ],
      "text/plain": [
       "     user  rating                                            comment     ID  \\\n",
       "0  162393    10.0                                                NaN  30549   \n",
       "1  282186    10.0  Hands down my favorite new game of BGG CON 200...  30549   \n",
       "2  188488    10.0  I tend to either love or easily tire of co-op ...  30549   \n",
       "\n",
       "       name  minplayers  maxplayers  playingtime  usersrated  average  \n",
       "0  Pandemic           2           4           45       96241  7.61567  \n",
       "1  Pandemic           2           4           45       96241  7.61567  \n",
       "2  Pandemic           2           4           45       96241  7.61567  "
      ]
     },
     "execution_count": 8,
     "metadata": {},
     "output_type": "execute_result"
    }
   ],
   "source": [
    "games_df.head(3)"
   ]
  },
  {
   "cell_type": "code",
   "execution_count": 9,
   "id": "whole-staff",
   "metadata": {},
   "outputs": [
    {
     "data": {
      "text/plain": [
       "(15819461, 10)"
      ]
     },
     "execution_count": 9,
     "metadata": {},
     "output_type": "execute_result"
    }
   ],
   "source": [
    "games_df.shape"
   ]
  },
  {
   "cell_type": "code",
   "execution_count": 10,
   "id": "union-negotiation",
   "metadata": {},
   "outputs": [],
   "source": [
    "#take smaller sample size to use in streamlit app\n",
    "games_df_subset = games_df.sample(n=5_000_000, replace=False)"
   ]
  },
  {
   "cell_type": "code",
   "execution_count": 11,
   "id": "bulgarian-interval",
   "metadata": {},
   "outputs": [],
   "source": [
    "#export to csv\n",
    "games_df_subset.to_csv('./data/clean/games_df.csv')"
   ]
  }
 ],
 "metadata": {
  "kernelspec": {
   "display_name": "Python 3",
   "language": "python",
   "name": "python3"
  },
  "language_info": {
   "codemirror_mode": {
    "name": "ipython",
    "version": 3
   },
   "file_extension": ".py",
   "mimetype": "text/x-python",
   "name": "python",
   "nbconvert_exporter": "python",
   "pygments_lexer": "ipython3",
   "version": "3.8.8"
  }
 },
 "nbformat": 4,
 "nbformat_minor": 5
}
