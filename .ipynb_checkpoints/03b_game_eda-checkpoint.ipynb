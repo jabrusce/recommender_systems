{
 "cells": [
  {
   "cell_type": "markdown",
   "id": "annual-reminder",
   "metadata": {},
   "source": [
    "# Board Game Data EDA"
   ]
  },
  {
   "cell_type": "markdown",
   "id": "invisible-chemical",
   "metadata": {},
   "source": [
    "### Import libraries and Data"
   ]
  },
  {
   "cell_type": "code",
   "execution_count": 1,
   "id": "hawaiian-kelly",
   "metadata": {},
   "outputs": [],
   "source": [
    "import pandas as pd\n",
    "import numpy as np\n",
    "import matplotlib.pyplot as plt\n",
    "from scipy import sparse\n",
    "from sklearn.metrics.pairwise import pairwise_distances, cosine_distances, cosine_similarity"
   ]
  },
  {
   "cell_type": "code",
   "execution_count": 2,
   "id": "global-break",
   "metadata": {},
   "outputs": [
    {
     "name": "stderr",
     "output_type": "stream",
     "text": [
      "c:\\programdata\\miniconda3\\envs\\newenv\\lib\\site-packages\\numpy\\lib\\arraysetops.py:583: FutureWarning: elementwise comparison failed; returning scalar instead, but in the future will perform elementwise comparison\n",
      "  mask |= (ar1 == a)\n"
     ]
    }
   ],
   "source": [
    "games_df = pd.read_csv('./data/clean/games_df.csv', index_col=0)"
   ]
  },
  {
   "cell_type": "code",
   "execution_count": 3,
   "id": "confirmed-zimbabwe",
   "metadata": {},
   "outputs": [
    {
     "data": {
      "text/plain": [
       "(5000000, 12)"
      ]
     },
     "execution_count": 3,
     "metadata": {},
     "output_type": "execute_result"
    }
   ],
   "source": [
    "games_df.shape"
   ]
  },
  {
   "cell_type": "code",
   "execution_count": 4,
   "id": "substantial-knitting",
   "metadata": {},
   "outputs": [
    {
     "data": {
      "text/html": [
       "<div>\n",
       "<style scoped>\n",
       "    .dataframe tbody tr th:only-of-type {\n",
       "        vertical-align: middle;\n",
       "    }\n",
       "\n",
       "    .dataframe tbody tr th {\n",
       "        vertical-align: top;\n",
       "    }\n",
       "\n",
       "    .dataframe thead th {\n",
       "        text-align: right;\n",
       "    }\n",
       "</style>\n",
       "<table border=\"1\" class=\"dataframe\">\n",
       "  <thead>\n",
       "    <tr style=\"text-align: right;\">\n",
       "      <th></th>\n",
       "      <th>user</th>\n",
       "      <th>rating</th>\n",
       "      <th>comment</th>\n",
       "      <th>ID</th>\n",
       "      <th>name</th>\n",
       "      <th>description</th>\n",
       "      <th>minplayers</th>\n",
       "      <th>maxplayers</th>\n",
       "      <th>playingtime</th>\n",
       "      <th>minage</th>\n",
       "      <th>usersrated</th>\n",
       "      <th>average</th>\n",
       "    </tr>\n",
       "  </thead>\n",
       "  <tbody>\n",
       "    <tr>\n",
       "      <th>360434</th>\n",
       "      <td>166554</td>\n",
       "      <td>6.0</td>\n",
       "      <td>NaN</td>\n",
       "      <td>68448</td>\n",
       "      <td>7 Wonders</td>\n",
       "      <td>You are the leader of one of the 7 great citie...</td>\n",
       "      <td>2</td>\n",
       "      <td>7</td>\n",
       "      <td>30</td>\n",
       "      <td>10</td>\n",
       "      <td>79873</td>\n",
       "      <td>7.76049</td>\n",
       "    </tr>\n",
       "  </tbody>\n",
       "</table>\n",
       "</div>"
      ],
      "text/plain": [
       "          user  rating comment     ID       name  \\\n",
       "360434  166554     6.0     NaN  68448  7 Wonders   \n",
       "\n",
       "                                              description  minplayers  \\\n",
       "360434  You are the leader of one of the 7 great citie...           2   \n",
       "\n",
       "        maxplayers  playingtime  minage  usersrated  average  \n",
       "360434           7           30      10       79873  7.76049  "
      ]
     },
     "execution_count": 4,
     "metadata": {},
     "output_type": "execute_result"
    }
   ],
   "source": [
    "games_df.head(1)"
   ]
  },
  {
   "cell_type": "markdown",
   "id": "civilian-mercury",
   "metadata": {},
   "source": [
    "### Data Description"
   ]
  },
  {
   "cell_type": "code",
   "execution_count": 5,
   "id": "detailed-material",
   "metadata": {},
   "outputs": [
    {
     "name": "stdout",
     "output_type": "stream",
     "text": [
      "<class 'pandas.core.frame.DataFrame'>\n",
      "Int64Index: 5000000 entries, 360434 to 1511035\n",
      "Data columns (total 12 columns):\n",
      " #   Column       Dtype  \n",
      "---  ------       -----  \n",
      " 0   user         int64  \n",
      " 1   rating       float64\n",
      " 2   comment      object \n",
      " 3   ID           int64  \n",
      " 4   name         object \n",
      " 5   description  object \n",
      " 6   minplayers   int64  \n",
      " 7   maxplayers   int64  \n",
      " 8   playingtime  int64  \n",
      " 9   minage       int64  \n",
      " 10  usersrated   int64  \n",
      " 11  average      float64\n",
      "dtypes: float64(2), int64(7), object(3)\n",
      "memory usage: 495.9+ MB\n"
     ]
    }
   ],
   "source": [
    "games_df.info()"
   ]
  },
  {
   "cell_type": "code",
   "execution_count": 6,
   "id": "august-poultry",
   "metadata": {},
   "outputs": [
    {
     "data": {
      "text/plain": [
       "user                 0\n",
       "rating               0\n",
       "comment        4053473\n",
       "ID                   0\n",
       "name                 0\n",
       "description         23\n",
       "minplayers           0\n",
       "maxplayers           0\n",
       "playingtime          0\n",
       "minage               0\n",
       "usersrated           0\n",
       "average              0\n",
       "dtype: int64"
      ]
     },
     "execution_count": 6,
     "metadata": {},
     "output_type": "execute_result"
    }
   ],
   "source": [
    "games_df.isnull().sum()"
   ]
  },
  {
   "cell_type": "markdown",
   "id": "rental-patrick",
   "metadata": {},
   "source": [
    "### Scores"
   ]
  },
  {
   "cell_type": "code",
   "execution_count": 7,
   "id": "spanish-distributor",
   "metadata": {},
   "outputs": [
    {
     "data": {
      "text/plain": [
       "7.00000    1126204\n",
       "8.00000     948527\n",
       "6.00000     742791\n",
       "9.00000     449138\n",
       "5.00000     340604\n",
       "            ...   \n",
       "7.27370          1\n",
       "2.01111          1\n",
       "3.51400          1\n",
       "8.72300          1\n",
       "9.88800          1\n",
       "Name: rating, Length: 5395, dtype: int64"
      ]
     },
     "execution_count": 7,
     "metadata": {},
     "output_type": "execute_result"
    }
   ],
   "source": [
    "games_df.rating.value_counts()"
   ]
  },
  {
   "cell_type": "code",
   "execution_count": 13,
   "id": "molecular-institute",
   "metadata": {},
   "outputs": [
    {
     "data": {
      "image/png": "[encoded data removed]",
      "text/plain": [
       "<Figure size 288x216 with 1 Axes>"
      ]
     },
     "metadata": {
      "needs_background": "light"
     },
     "output_type": "display_data"
    }
   ],
   "source": [
    "plt.figure(figsize=(4, 3))\n",
    "plt.hist(games_df['rating'])\n",
    "plt.title('Distribution of Ratings')\n",
    "plt.xlabel('rating')\n",
    "plt.ylabel('count')\n",
    "plt.xlim(1);\n",
    "#fairly normal, skewed to the left"
   ]
  },
  {
   "cell_type": "code",
   "execution_count": 14,
   "id": "least-slovenia",
   "metadata": {},
   "outputs": [
    {
     "data": {
      "image/png": "[encoded data removed]",
      "text/plain": [
       "<Figure size 288x216 with 1 Axes>"
      ]
     },
     "metadata": {
      "needs_background": "light"
     },
     "output_type": "display_data"
    }
   ],
   "source": [
    "# Number of reviews per game\n",
    "plt.figure(figsize=(4, 3))\n",
    "plt.hist(games_df['ID']);"
   ]
  },
  {
   "cell_type": "markdown",
   "id": "verbal-prophet",
   "metadata": {},
   "source": [
    "### Unique Values"
   ]
  },
  {
   "cell_type": "code",
   "execution_count": 15,
   "id": "posted-surgery",
   "metadata": {},
   "outputs": [
    {
     "data": {
      "text/plain": [
       "282498"
      ]
     },
     "execution_count": 15,
     "metadata": {},
     "output_type": "execute_result"
    }
   ],
   "source": [
    "# User IDs\n",
    "games_df.user.nunique()"
   ]
  },
  {
   "cell_type": "code",
   "execution_count": 16,
   "id": "checked-sweden",
   "metadata": {},
   "outputs": [
    {
     "data": {
      "text/plain": [
       "18889"
      ]
     },
     "execution_count": 16,
     "metadata": {},
     "output_type": "execute_result"
    }
   ],
   "source": [
    "# Game Name\n",
    "games_df.name.nunique()"
   ]
  }
 ],
 "metadata": {
  "kernelspec": {
   "display_name": "Python 3",
   "language": "python",
   "name": "python3"
  },
  "language_info": {
   "codemirror_mode": {
    "name": "ipython",
    "version": 3
   },
   "file_extension": ".py",
   "mimetype": "text/x-python",
   "name": "python",
   "nbconvert_exporter": "python",
   "pygments_lexer": "ipython3",
   "version": "3.8.5"
  }
 },
 "nbformat": 4,
 "nbformat_minor": 5
}
