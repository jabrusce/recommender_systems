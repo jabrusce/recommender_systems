{
 "cells": [
  {
   "cell_type": "markdown",
   "id": "aquatic-buddy",
   "metadata": {},
   "source": [
    "# Board Game Recommender"
   ]
  },
  {
   "cell_type": "markdown",
   "id": "prospective-circulation",
   "metadata": {},
   "source": [
    "### Import libraries and Data"
   ]
  },
  {
   "cell_type": "code",
   "execution_count": 1,
   "id": "quarterly-belize",
   "metadata": {},
   "outputs": [],
   "source": [
    "import pandas as pd\n",
    "import numpy as np\n",
    "import matplotlib.pyplot as plt\n",
    "from scipy import sparse\n",
    "from sklearn.metrics.pairwise import pairwise_distances, cosine_distances, cosine_similarity"
   ]
  },
  {
   "cell_type": "markdown",
   "id": "liable-qatar",
   "metadata": {},
   "source": [
    "### Import Full dataframe (5M Reviews)"
   ]
  },
  {
   "cell_type": "code",
   "execution_count": 2,
   "id": "other-burns",
   "metadata": {},
   "outputs": [
    {
     "name": "stderr",
     "output_type": "stream",
     "text": [
      "C:\\ProgramData\\Miniconda3\\envs\\spacy_capstone\\lib\\site-packages\\numpy\\lib\\arraysetops.py:580: FutureWarning: elementwise comparison failed; returning scalar instead, but in the future will perform elementwise comparison\n",
      "  mask |= (ar1 == a)\n"
     ]
    }
   ],
   "source": [
    "games_df_full = pd.read_csv('./data/clean/games_df.csv', index_col=0)"
   ]
  },
  {
   "cell_type": "code",
   "execution_count": 3,
   "id": "orange-alexandria",
   "metadata": {},
   "outputs": [
    {
     "data": {
      "text/html": [
       "<div>\n",
       "<style scoped>\n",
       "    .dataframe tbody tr th:only-of-type {\n",
       "        vertical-align: middle;\n",
       "    }\n",
       "\n",
       "    .dataframe tbody tr th {\n",
       "        vertical-align: top;\n",
       "    }\n",
       "\n",
       "    .dataframe thead th {\n",
       "        text-align: right;\n",
       "    }\n",
       "</style>\n",
       "<table border=\"1\" class=\"dataframe\">\n",
       "  <thead>\n",
       "    <tr style=\"text-align: right;\">\n",
       "      <th></th>\n",
       "      <th>user</th>\n",
       "      <th>rating</th>\n",
       "      <th>comment</th>\n",
       "      <th>ID</th>\n",
       "      <th>name</th>\n",
       "      <th>minplayers</th>\n",
       "      <th>maxplayers</th>\n",
       "      <th>playingtime</th>\n",
       "      <th>usersrated</th>\n",
       "      <th>average</th>\n",
       "    </tr>\n",
       "  </thead>\n",
       "  <tbody>\n",
       "    <tr>\n",
       "      <th>8631330</th>\n",
       "      <td>86018</td>\n",
       "      <td>7.0</td>\n",
       "      <td>NaN</td>\n",
       "      <td>112686</td>\n",
       "      <td>Epic Spell Wars of the Battle Wizards: Duel at...</td>\n",
       "      <td>2</td>\n",
       "      <td>6</td>\n",
       "      <td>30</td>\n",
       "      <td>5312</td>\n",
       "      <td>6.5401</td>\n",
       "    </tr>\n",
       "  </tbody>\n",
       "</table>\n",
       "</div>"
      ],
      "text/plain": [
       "          user  rating comment      ID  \\\n",
       "8631330  86018     7.0     NaN  112686   \n",
       "\n",
       "                                                      name  minplayers  \\\n",
       "8631330  Epic Spell Wars of the Battle Wizards: Duel at...           2   \n",
       "\n",
       "         maxplayers  playingtime  usersrated  average  \n",
       "8631330           6           30        5312   6.5401  "
      ]
     },
     "execution_count": 3,
     "metadata": {},
     "output_type": "execute_result"
    }
   ],
   "source": [
    "games_df_full.head(1)"
   ]
  },
  {
   "cell_type": "code",
   "execution_count": 4,
   "id": "general-auckland",
   "metadata": {},
   "outputs": [
    {
     "data": {
      "text/plain": [
       "(5000000, 10)"
      ]
     },
     "execution_count": 4,
     "metadata": {},
     "output_type": "execute_result"
    }
   ],
   "source": [
    "games_df_full.shape"
   ]
  },
  {
   "cell_type": "markdown",
   "id": "expected-sponsorship",
   "metadata": {},
   "source": [
    "### Create a subset of data for recomender due to memory issues/file sizes"
   ]
  },
  {
   "cell_type": "code",
   "execution_count": 5,
   "id": "framed-england",
   "metadata": {},
   "outputs": [],
   "source": [
    "# subset of full dataset for recommender\n",
    "games_df = games_df_full[['name', 'ID', 'user', 'rating']]"
   ]
  },
  {
   "cell_type": "code",
   "execution_count": 6,
   "id": "fitting-product",
   "metadata": {},
   "outputs": [
    {
     "data": {
      "text/plain": [
       "(3754734, 4)"
      ]
     },
     "execution_count": 6,
     "metadata": {},
     "output_type": "execute_result"
    }
   ],
   "source": [
    "#Due to memory issues when creating pivot tables below, reduce the size of the dataframe\n",
    "#Keep only games with more than 500 reviews\n",
    "#modified from: https://stackoverflow.com/questions/51079543/pandas-groupby-apply-vs-transform-with-specific-functions\n",
    "games_df_subset = games_df[games_df.groupby(['name'])['rating'].transform('count') >= 500]\n",
    "games_df_subset.shape"
   ]
  },
  {
   "cell_type": "code",
   "execution_count": 7,
   "id": "communist-jimmy",
   "metadata": {},
   "outputs": [
    {
     "data": {
      "text/plain": [
       "(100000, 4)"
      ]
     },
     "execution_count": 7,
     "metadata": {},
     "output_type": "execute_result"
    }
   ],
   "source": [
    "#Sample 100,000 reviews\n",
    "games_df_subset = games_df_subset.sample(n=100000, replace=False, random_state=123)\n",
    "games_df_subset.shape"
   ]
  },
  {
   "cell_type": "code",
   "execution_count": 8,
   "id": "wanted-spider",
   "metadata": {},
   "outputs": [
    {
     "data": {
      "text/html": [
       "<div>\n",
       "<style scoped>\n",
       "    .dataframe tbody tr th:only-of-type {\n",
       "        vertical-align: middle;\n",
       "    }\n",
       "\n",
       "    .dataframe tbody tr th {\n",
       "        vertical-align: top;\n",
       "    }\n",
       "\n",
       "    .dataframe thead th {\n",
       "        text-align: right;\n",
       "    }\n",
       "</style>\n",
       "<table border=\"1\" class=\"dataframe\">\n",
       "  <thead>\n",
       "    <tr style=\"text-align: right;\">\n",
       "      <th></th>\n",
       "      <th>name</th>\n",
       "      <th>ID</th>\n",
       "      <th>user</th>\n",
       "      <th>rating</th>\n",
       "    </tr>\n",
       "  </thead>\n",
       "  <tbody>\n",
       "    <tr>\n",
       "      <th>452249</th>\n",
       "      <td>Ticket to Ride</td>\n",
       "      <td>9209</td>\n",
       "      <td>327272</td>\n",
       "      <td>9.0</td>\n",
       "    </tr>\n",
       "    <tr>\n",
       "      <th>7815624</th>\n",
       "      <td>Timeline: Inventions</td>\n",
       "      <td>85256</td>\n",
       "      <td>192313</td>\n",
       "      <td>5.5</td>\n",
       "    </tr>\n",
       "  </tbody>\n",
       "</table>\n",
       "</div>"
      ],
      "text/plain": [
       "                         name     ID    user  rating\n",
       "452249         Ticket to Ride   9209  327272     9.0\n",
       "7815624  Timeline: Inventions  85256  192313     5.5"
      ]
     },
     "execution_count": 8,
     "metadata": {},
     "output_type": "execute_result"
    }
   ],
   "source": [
    "games_df_subset.head(2)"
   ]
  },
  {
   "cell_type": "code",
   "execution_count": 9,
   "id": "substantial-cartridge",
   "metadata": {},
   "outputs": [
    {
     "data": {
      "text/plain": [
       "62815"
      ]
     },
     "execution_count": 9,
     "metadata": {},
     "output_type": "execute_result"
    }
   ],
   "source": [
    "games_df_subset.user.nunique()"
   ]
  },
  {
   "cell_type": "code",
   "execution_count": 10,
   "id": "naked-emerald",
   "metadata": {},
   "outputs": [
    {
     "data": {
      "text/plain": [
       "1743"
      ]
     },
     "execution_count": 10,
     "metadata": {},
     "output_type": "execute_result"
    }
   ],
   "source": [
    "games_df_subset.name.nunique()"
   ]
  },
  {
   "cell_type": "markdown",
   "id": "naval-prior",
   "metadata": {},
   "source": [
    "### Prepare recommender using cosine distances"
   ]
  },
  {
   "cell_type": "code",
   "execution_count": 11,
   "id": "gentle-interval",
   "metadata": {},
   "outputs": [],
   "source": [
    "#pivot table from the books_df dataframe\n",
    "pivot_df = pd.pivot_table(games_df_subset, index='name', columns='user', values='rating')\n",
    "#create sparse matrix\n",
    "sparse_df = sparse.csr_matrix(pivot_df.fillna(0))\n",
    "#calculate cosine distances for similarities\n",
    "recommender = pairwise_distances(sparse_df, metric='cosine')\n",
    "#export as a dataframe\n",
    "rec_df = pd.DataFrame(recommender, columns=pivot_df.index, index=pivot_df.index)"
   ]
  },
  {
   "cell_type": "code",
   "execution_count": 12,
   "id": "annoying-baltimore",
   "metadata": {},
   "outputs": [],
   "source": [
    "# get average rating, number of players, playing time, etc to filter by in app, group by game ID\n",
    "games_info = games_df_full.groupby('name').mean()\n",
    "games_info.drop(columns=['user'], inplace=True)\n",
    "games_info.rename(columns={'rating': 'average_rating'}, inplace=True)\n",
    "games_info.head(2)\n",
    "\n",
    "rec_df = pd.merge(left = rec_df, right= games_info, right_index = True, left_index = True)"
   ]
  },
  {
   "cell_type": "markdown",
   "id": "killing-thesis",
   "metadata": {},
   "source": [
    "### Define book Recommender function"
   ]
  },
  {
   "cell_type": "code",
   "execution_count": 13,
   "id": "divided-premises",
   "metadata": {},
   "outputs": [],
   "source": [
    "def game_recommender(game_title, average_rating = 7.5, minplayers = -np.inf, playingtime = np.inf):\n",
    "    '''Users can input a game title, specify what the average rating should be above, specify minplayers and playingtime'''\n",
    "    rec_df2 = rec_df[rec_df['average_rating'] >= average_rating]\n",
    "    rec_df3 = rec_df2[rec_df2['minplayers'] >= minplayers]\n",
    "    rec_df4 = rec_df3[rec_df3['playingtime'] <= playingtime]\n",
    "    return 1- rec_df4[game_title].sort_values()[1:6]"
   ]
  },
  {
   "cell_type": "markdown",
   "id": "legendary-korean",
   "metadata": {},
   "source": [
    "### Example Recommendations"
   ]
  },
  {
   "cell_type": "code",
   "execution_count": 16,
   "id": "assumed-newfoundland",
   "metadata": {},
   "outputs": [
    {
     "data": {
      "text/plain": [
       "name\n",
       "Watergate                            0.014971\n",
       "Paths of Glory                       0.013943\n",
       "Heroes of Normandie                  0.012718\n",
       "Freedom: The Underground Railroad    0.012394\n",
       "Roll Player                          0.012015\n",
       "Name: Monopoly, dtype: float64"
      ]
     },
     "execution_count": 16,
     "metadata": {},
     "output_type": "execute_result"
    }
   ],
   "source": [
    "game_recommender('Monopoly')"
   ]
  },
  {
   "cell_type": "markdown",
   "id": "lucky-produce",
   "metadata": {},
   "source": [
    "- No similar titles in \"Fans also like\" section of boardgamegeek.com"
   ]
  },
  {
   "cell_type": "code",
   "execution_count": 21,
   "id": "coastal-guyana",
   "metadata": {},
   "outputs": [
    {
     "data": {
      "text/plain": [
       "name\n",
       "Nusfjord                          0.027515\n",
       "Batman: Gotham City Chronicles    0.013334\n",
       "Sword & Sorcery                   0.013018\n",
       "Wingspan                          0.012968\n",
       "Lords of Waterdeep                0.012334\n",
       "Name: Terraforming Mars, dtype: float64"
      ]
     },
     "execution_count": 21,
     "metadata": {},
     "output_type": "execute_result"
    }
   ],
   "source": [
    "game_recommender('Terraforming Mars')"
   ]
  },
  {
   "cell_type": "markdown",
   "id": "seeing-guidance",
   "metadata": {},
   "source": [
    "Similar titles in \"Fans also like\" section of boardgamegeek.com:\n",
    "- Wingspan"
   ]
  },
  {
   "cell_type": "code",
   "execution_count": 23,
   "id": "hourly-cannon",
   "metadata": {},
   "outputs": [
    {
     "data": {
      "text/plain": [
       "name\n",
       "Millennium Blades                               0.014159\n",
       "Summoner Wars: Guild Dwarves vs Cave Goblins    0.013410\n",
       "Dominion                                        0.012938\n",
       "Star Wars: Armada                               0.012329\n",
       "Feudum                                          0.012152\n",
       "Name: 7 Wonders, dtype: float64"
      ]
     },
     "execution_count": 23,
     "metadata": {},
     "output_type": "execute_result"
    }
   ],
   "source": [
    "game_recommender('7 Wonders')"
   ]
  },
  {
   "cell_type": "markdown",
   "id": "material-pastor",
   "metadata": {},
   "source": [
    "Similar titles in \"Fans also like\" section of boardgamegeek.com:\n",
    "- Dominion"
   ]
  },
  {
   "cell_type": "code",
   "execution_count": 14,
   "id": "thick-dealer",
   "metadata": {},
   "outputs": [
    {
     "data": {
      "text/plain": [
       "name\n",
       "Smash Up: It's Your Fault!                      0.014927\n",
       "Pipeline                                        0.014022\n",
       "Clank! In! Space!: A Deck-Building Adventure    0.013601\n",
       "Cyclades                                        0.013400\n",
       "Tichu                                           0.012918\n",
       "Name: Cosmic Encounter, dtype: float64"
      ]
     },
     "execution_count": 14,
     "metadata": {},
     "output_type": "execute_result"
    }
   ],
   "source": [
    "game_recommender('Cosmic Encounter')"
   ]
  },
  {
   "cell_type": "markdown",
   "id": "statewide-governor",
   "metadata": {},
   "source": [
    "- No similar titles in \"Fans also like\" section of boardgamegeek.com"
   ]
  },
  {
   "cell_type": "markdown",
   "id": "attended-transcript",
   "metadata": {},
   "source": [
    "Accounting for limited similarities in boardgamegeek's webiste for \"fans also like\":\n",
    "- Dataset had to be scaled down considerably due to memory issues and file size.\n",
    "- Recommender does not take into account type of board game - future work may include adding a board game \"style\" filter."
   ]
  },
  {
   "cell_type": "markdown",
   "id": "floppy-joseph",
   "metadata": {},
   "source": [
    "### Export for streamlit app"
   ]
  },
  {
   "cell_type": "code",
   "execution_count": 15,
   "id": "digital-operations",
   "metadata": {},
   "outputs": [],
   "source": [
    "#add game title, re-arrange for streamlit app\n",
    "rec_df.insert(0, \"game_title\", rec_df.index)\n",
    "\n",
    "# save rec_df for use in streamlit app\n",
    "rec_df.to_pickle('./streamlit_app/data/games.pk1')"
   ]
  }
 ],
 "metadata": {
  "kernelspec": {
   "display_name": "Python 3",
   "language": "python",
   "name": "python3"
  },
  "language_info": {
   "codemirror_mode": {
    "name": "ipython",
    "version": 3
   },
   "file_extension": ".py",
   "mimetype": "text/x-python",
   "name": "python",
   "nbconvert_exporter": "python",
   "pygments_lexer": "ipython3",
   "version": "3.8.8"
  }
 },
 "nbformat": 4,
 "nbformat_minor": 5
}
