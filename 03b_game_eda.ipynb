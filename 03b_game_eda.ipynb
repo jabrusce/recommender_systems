{
 "cells": [
  {
   "cell_type": "markdown",
   "id": "actual-memory",
   "metadata": {},
   "source": [
    "# Board Game Data EDA"
   ]
  },
  {
   "cell_type": "markdown",
   "id": "cognitive-fleece",
   "metadata": {},
   "source": [
    "### Import libraries and Data"
   ]
  },
  {
   "cell_type": "code",
   "execution_count": 1,
   "id": "humanitarian-saudi",
   "metadata": {},
   "outputs": [],
   "source": [
    "import pandas as pd\n",
    "import numpy as np\n",
    "import matplotlib.pyplot as plt"
   ]
  },
  {
   "cell_type": "code",
   "execution_count": 2,
   "id": "economic-orientation",
   "metadata": {},
   "outputs": [
    {
     "name": "stderr",
     "output_type": "stream",
     "text": [
      "C:\\ProgramData\\Miniconda3\\envs\\spacy_capstone\\lib\\site-packages\\numpy\\lib\\arraysetops.py:580: FutureWarning: elementwise comparison failed; returning scalar instead, but in the future will perform elementwise comparison\n",
      "  mask |= (ar1 == a)\n"
     ]
    }
   ],
   "source": [
    "games_df = pd.read_csv('./data/clean/games_df.csv', index_col=0)"
   ]
  },
  {
   "cell_type": "code",
   "execution_count": 3,
   "id": "coordinate-inside",
   "metadata": {},
   "outputs": [
    {
     "data": {
      "text/plain": [
       "(5000000, 10)"
      ]
     },
     "execution_count": 3,
     "metadata": {},
     "output_type": "execute_result"
    }
   ],
   "source": [
    "games_df.shape"
   ]
  },
  {
   "cell_type": "code",
   "execution_count": 4,
   "id": "intense-anime",
   "metadata": {},
   "outputs": [
    {
     "data": {
      "text/html": [
       "<div>\n",
       "<style scoped>\n",
       "    .dataframe tbody tr th:only-of-type {\n",
       "        vertical-align: middle;\n",
       "    }\n",
       "\n",
       "    .dataframe tbody tr th {\n",
       "        vertical-align: top;\n",
       "    }\n",
       "\n",
       "    .dataframe thead th {\n",
       "        text-align: right;\n",
       "    }\n",
       "</style>\n",
       "<table border=\"1\" class=\"dataframe\">\n",
       "  <thead>\n",
       "    <tr style=\"text-align: right;\">\n",
       "      <th></th>\n",
       "      <th>user</th>\n",
       "      <th>rating</th>\n",
       "      <th>comment</th>\n",
       "      <th>ID</th>\n",
       "      <th>name</th>\n",
       "      <th>minplayers</th>\n",
       "      <th>maxplayers</th>\n",
       "      <th>playingtime</th>\n",
       "      <th>usersrated</th>\n",
       "      <th>average</th>\n",
       "    </tr>\n",
       "  </thead>\n",
       "  <tbody>\n",
       "    <tr>\n",
       "      <th>8631330</th>\n",
       "      <td>86018</td>\n",
       "      <td>7.0</td>\n",
       "      <td>NaN</td>\n",
       "      <td>112686</td>\n",
       "      <td>Epic Spell Wars of the Battle Wizards: Duel at...</td>\n",
       "      <td>2</td>\n",
       "      <td>6</td>\n",
       "      <td>30</td>\n",
       "      <td>5312</td>\n",
       "      <td>6.5401</td>\n",
       "    </tr>\n",
       "  </tbody>\n",
       "</table>\n",
       "</div>"
      ],
      "text/plain": [
       "          user  rating comment      ID  \\\n",
       "8631330  86018     7.0     NaN  112686   \n",
       "\n",
       "                                                      name  minplayers  \\\n",
       "8631330  Epic Spell Wars of the Battle Wizards: Duel at...           2   \n",
       "\n",
       "         maxplayers  playingtime  usersrated  average  \n",
       "8631330           6           30        5312   6.5401  "
      ]
     },
     "execution_count": 4,
     "metadata": {},
     "output_type": "execute_result"
    }
   ],
   "source": [
    "games_df.head(1)"
   ]
  },
  {
   "cell_type": "markdown",
   "id": "structural-ancient",
   "metadata": {},
   "source": [
    "### Data Description"
   ]
  },
  {
   "cell_type": "code",
   "execution_count": 5,
   "id": "enormous-safety",
   "metadata": {},
   "outputs": [
    {
     "name": "stdout",
     "output_type": "stream",
     "text": [
      "<class 'pandas.core.frame.DataFrame'>\n",
      "Int64Index: 5000000 entries, 8631330 to 13740505\n",
      "Data columns (total 10 columns):\n",
      " #   Column       Dtype  \n",
      "---  ------       -----  \n",
      " 0   user         int64  \n",
      " 1   rating       float64\n",
      " 2   comment      object \n",
      " 3   ID           int64  \n",
      " 4   name         object \n",
      " 5   minplayers   int64  \n",
      " 6   maxplayers   int64  \n",
      " 7   playingtime  int64  \n",
      " 8   usersrated   int64  \n",
      " 9   average      float64\n",
      "dtypes: float64(2), int64(6), object(2)\n",
      "memory usage: 419.6+ MB\n"
     ]
    }
   ],
   "source": [
    "games_df.info()"
   ]
  },
  {
   "cell_type": "code",
   "execution_count": 6,
   "id": "figured-headquarters",
   "metadata": {},
   "outputs": [
    {
     "data": {
      "text/plain": [
       "user                 0\n",
       "rating               0\n",
       "comment        4053041\n",
       "ID                   0\n",
       "name                 0\n",
       "minplayers           0\n",
       "maxplayers           0\n",
       "playingtime          0\n",
       "usersrated           0\n",
       "average              0\n",
       "dtype: int64"
      ]
     },
     "execution_count": 6,
     "metadata": {},
     "output_type": "execute_result"
    }
   ],
   "source": [
    "games_df.isnull().sum()"
   ]
  },
  {
   "cell_type": "markdown",
   "id": "outside-columbus",
   "metadata": {},
   "source": [
    "### Scores"
   ]
  },
  {
   "cell_type": "code",
   "execution_count": 7,
   "id": "intellectual-syria",
   "metadata": {},
   "outputs": [
    {
     "data": {
      "text/plain": [
       "7.00000    1127256\n",
       "8.00000     948346\n",
       "6.00000     742120\n",
       "9.00000     450181\n",
       "5.00000     340230\n",
       "            ...   \n",
       "9.99200          1\n",
       "8.71397          1\n",
       "8.67778          1\n",
       "8.98900          1\n",
       "9.68800          1\n",
       "Name: rating, Length: 5431, dtype: int64"
      ]
     },
     "execution_count": 7,
     "metadata": {},
     "output_type": "execute_result"
    }
   ],
   "source": [
    "games_df.rating.value_counts()"
   ]
  },
  {
   "cell_type": "code",
   "execution_count": 8,
   "id": "confident-headset",
   "metadata": {},
   "outputs": [
    {
     "data": {
      "image/png": "[encoded data removed]",
      "text/plain": [
       "<Figure size 288x216 with 1 Axes>"
      ]
     },
     "metadata": {
      "needs_background": "light"
     },
     "output_type": "display_data"
    }
   ],
   "source": [
    "plt.figure(figsize=(4, 3))\n",
    "plt.hist(games_df['rating'])\n",
    "plt.title('Distribution of Ratings')\n",
    "plt.xlabel('rating')\n",
    "plt.ylabel('count')\n",
    "plt.xlim(1);\n",
    "#fairly normal, skewed to the left"
   ]
  },
  {
   "cell_type": "code",
   "execution_count": 9,
   "id": "charitable-instrumentation",
   "metadata": {},
   "outputs": [
    {
     "data": {
      "image/png": "[encoded data removed]",
      "text/plain": [
       "<Figure size 432x216 with 1 Axes>"
      ]
     },
     "metadata": {
      "needs_background": "light"
     },
     "output_type": "display_data"
    }
   ],
   "source": [
    "# Number of reviews per game\n",
    "plt.figure(figsize=(6, 3))\n",
    "plt.hist(games_df['ID']);"
   ]
  },
  {
   "cell_type": "markdown",
   "id": "changed-sheffield",
   "metadata": {},
   "source": [
    "### Unique Values"
   ]
  },
  {
   "cell_type": "code",
   "execution_count": 10,
   "id": "valuable-michael",
   "metadata": {},
   "outputs": [
    {
     "data": {
      "text/plain": [
       "283232"
      ]
     },
     "execution_count": 10,
     "metadata": {},
     "output_type": "execute_result"
    }
   ],
   "source": [
    "# User IDs\n",
    "games_df.user.nunique()"
   ]
  },
  {
   "cell_type": "code",
   "execution_count": 11,
   "id": "needed-penalty",
   "metadata": {},
   "outputs": [
    {
     "data": {
      "text/plain": [
       "18889"
      ]
     },
     "execution_count": 11,
     "metadata": {},
     "output_type": "execute_result"
    }
   ],
   "source": [
    "# Game Name\n",
    "games_df.name.nunique()"
   ]
  }
 ],
 "metadata": {
  "kernelspec": {
   "display_name": "Python 3",
   "language": "python",
   "name": "python3"
  },
  "language_info": {
   "codemirror_mode": {
    "name": "ipython",
    "version": 3
   },
   "file_extension": ".py",
   "mimetype": "text/x-python",
   "name": "python",
   "nbconvert_exporter": "python",
   "pygments_lexer": "ipython3",
   "version": "3.8.8"
  }
 },
 "nbformat": 4,
 "nbformat_minor": 5
}
