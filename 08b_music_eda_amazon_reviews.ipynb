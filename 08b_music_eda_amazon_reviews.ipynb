{
 "cells": [
  {
   "cell_type": "markdown",
   "id": "personalized-employee",
   "metadata": {},
   "source": [
    "# Music Recommender Data Cleaning & EDA"
   ]
  },
  {
   "cell_type": "markdown",
   "id": "removed-mathematics",
   "metadata": {},
   "source": [
    "### Import Libraries, Data"
   ]
  },
  {
   "cell_type": "code",
   "execution_count": 61,
   "id": "eastern-afghanistan",
   "metadata": {},
   "outputs": [],
   "source": [
    "import numpy as np\n",
    "import pandas as pd\n",
    "import matplotlib.pyplot as plt\n",
    "import seaborn as sns\n",
    "from sklearn.feature_extraction.text import CountVectorizer"
   ]
  },
  {
   "cell_type": "code",
   "execution_count": 62,
   "id": "appropriate-permission",
   "metadata": {},
   "outputs": [],
   "source": [
    "music_df = pd.read_csv('./data/clean/music_df.csv', index_col=0)"
   ]
  },
  {
   "cell_type": "code",
   "execution_count": 63,
   "id": "subject-furniture",
   "metadata": {},
   "outputs": [
    {
     "data": {
      "text/plain": [
       "(257470, 10)"
      ]
     },
     "execution_count": 63,
     "metadata": {},
     "output_type": "execute_result"
    }
   ],
   "source": [
    "music_df.shape"
   ]
  },
  {
   "cell_type": "code",
   "execution_count": 64,
   "id": "brief-vegetation",
   "metadata": {},
   "outputs": [
    {
     "data": {
      "text/html": [
       "<div>\n",
       "<style scoped>\n",
       "    .dataframe tbody tr th:only-of-type {\n",
       "        vertical-align: middle;\n",
       "    }\n",
       "\n",
       "    .dataframe tbody tr th {\n",
       "        vertical-align: top;\n",
       "    }\n",
       "\n",
       "    .dataframe thead th {\n",
       "        text-align: right;\n",
       "    }\n",
       "</style>\n",
       "<table border=\"1\" class=\"dataframe\">\n",
       "  <thead>\n",
       "    <tr style=\"text-align: right;\">\n",
       "      <th></th>\n",
       "      <th>user_id</th>\n",
       "      <th>amazon-id</th>\n",
       "      <th>content</th>\n",
       "      <th>score</th>\n",
       "      <th>summary</th>\n",
       "      <th>genre</th>\n",
       "      <th>title</th>\n",
       "      <th>artist</th>\n",
       "      <th>first-release-year</th>\n",
       "      <th>related</th>\n",
       "    </tr>\n",
       "  </thead>\n",
       "  <tbody>\n",
       "    <tr>\n",
       "      <th>0</th>\n",
       "      <td>A1OFY4ATO7D13W</td>\n",
       "      <td>0026197898</td>\n",
       "      <td>Buy this album. Now.  Don't worry about the re...</td>\n",
       "      <td>5</td>\n",
       "      <td>PITCHFORK Eat your heart out!</td>\n",
       "      <td>Alternative Rock</td>\n",
       "      <td>Southern Fashion</td>\n",
       "      <td>The Sudden Passion</td>\n",
       "      <td>2012.0</td>\n",
       "      <td>NaN</td>\n",
       "    </tr>\n",
       "  </tbody>\n",
       "</table>\n",
       "</div>"
      ],
      "text/plain": [
       "          user_id   amazon-id  \\\n",
       "0  A1OFY4ATO7D13W  0026197898   \n",
       "\n",
       "                                             content  score  \\\n",
       "0  Buy this album. Now.  Don't worry about the re...      5   \n",
       "\n",
       "                         summary             genre             title  \\\n",
       "0  PITCHFORK Eat your heart out!  Alternative Rock  Southern Fashion   \n",
       "\n",
       "               artist  first-release-year related  \n",
       "0  The Sudden Passion              2012.0     NaN  "
      ]
     },
     "execution_count": 64,
     "metadata": {},
     "output_type": "execute_result"
    }
   ],
   "source": [
    "music_df.head(1)"
   ]
  },
  {
   "cell_type": "markdown",
   "id": "after-arrival",
   "metadata": {},
   "source": [
    "### Data Description"
   ]
  },
  {
   "cell_type": "code",
   "execution_count": 65,
   "id": "minus-sociology",
   "metadata": {},
   "outputs": [
    {
     "name": "stdout",
     "output_type": "stream",
     "text": [
      "<class 'pandas.core.frame.DataFrame'>\n",
      "Int64Index: 257470 entries, 0 to 263524\n",
      "Data columns (total 10 columns):\n",
      " #   Column              Non-Null Count   Dtype  \n",
      "---  ------              --------------   -----  \n",
      " 0   user_id             257470 non-null  object \n",
      " 1   amazon-id           257470 non-null  object \n",
      " 2   content             257452 non-null  object \n",
      " 3   score               257470 non-null  int64  \n",
      " 4   summary             257466 non-null  object \n",
      " 5   genre               257470 non-null  object \n",
      " 6   title               257467 non-null  object \n",
      " 7   artist              257470 non-null  object \n",
      " 8   first-release-year  139480 non-null  float64\n",
      " 9   related             212037 non-null  object \n",
      "dtypes: float64(1), int64(1), object(8)\n",
      "memory usage: 21.6+ MB\n"
     ]
    }
   ],
   "source": [
    "music_df.info()"
   ]
  },
  {
   "cell_type": "code",
   "execution_count": 66,
   "id": "portable-energy",
   "metadata": {},
   "outputs": [
    {
     "data": {
      "text/plain": [
       "user_id                    0\n",
       "amazon-id                  0\n",
       "content                   18\n",
       "score                      0\n",
       "summary                    4\n",
       "genre                      0\n",
       "title                      3\n",
       "artist                     0\n",
       "first-release-year    117990\n",
       "related                45433\n",
       "dtype: int64"
      ]
     },
     "execution_count": 66,
     "metadata": {},
     "output_type": "execute_result"
    }
   ],
   "source": [
    "music_df.isnull().sum()"
   ]
  },
  {
   "cell_type": "code",
   "execution_count": 67,
   "id": "digital-respect",
   "metadata": {},
   "outputs": [],
   "source": [
    "#drop duplicates\n",
    "music_df.dropna(subset=['content'], inplace=True)\n",
    "music_df.dropna(subset=['title'], inplace=True)"
   ]
  },
  {
   "cell_type": "markdown",
   "id": "unsigned-bulletin",
   "metadata": {},
   "source": [
    "### Scores"
   ]
  },
  {
   "cell_type": "code",
   "execution_count": 68,
   "id": "reported-reputation",
   "metadata": {},
   "outputs": [
    {
     "data": {
      "image/png": "[encoded data removed]",
      "text/plain": [
       "<Figure size 432x288 with 1 Axes>"
      ]
     },
     "metadata": {
      "needs_background": "light"
     },
     "output_type": "display_data"
    }
   ],
   "source": [
    "plt.figure(figsize=(6, 4))\n",
    "plt.hist(music_df['score'])\n",
    "plt.title('Distribution of Scores')\n",
    "plt.xlabel('score')\n",
    "plt.ylabel('count');\n",
    "#imbalanced, skewed to the left"
   ]
  },
  {
   "cell_type": "markdown",
   "id": "willing-homework",
   "metadata": {},
   "source": [
    "### Genres"
   ]
  },
  {
   "cell_type": "code",
   "execution_count": 69,
   "id": "fixed-webmaster",
   "metadata": {},
   "outputs": [
    {
     "data": {
      "text/plain": [
       "Pop                   87127\n",
       "Rock                  40662\n",
       "Classical             30900\n",
       "Latin Music           18058\n",
       "Jazz                  13759\n",
       "Dance & Electronic    12922\n",
       "New Age               10033\n",
       "Country                9281\n",
       "Alternative Rock       7823\n",
       "Folk                   5748\n",
       "Rap & Hip-Hop          5329\n",
       "Metal                  5203\n",
       "R&B                    4824\n",
       "Blues                  2383\n",
       "Gospel                 2317\n",
       "Reggae                 1080\n",
       "Name: genre, dtype: int64"
      ]
     },
     "execution_count": 69,
     "metadata": {},
     "output_type": "execute_result"
    }
   ],
   "source": [
    "music_df['genre'].value_counts()"
   ]
  },
  {
   "cell_type": "code",
   "execution_count": 71,
   "id": "enormous-tobago",
   "metadata": {},
   "outputs": [
    {
     "data": {
      "image/png": "[encoded data removed]",
      "text/plain": [
       "<Figure size 432x288 with 1 Axes>"
      ]
     },
     "metadata": {
      "needs_background": "light"
     },
     "output_type": "display_data"
    }
   ],
   "source": [
    "genres = music_df.groupby('genre')['score']\n",
    "for genre in genres:\n",
    "    plt.hist(genre[1], bins=10, alpha=0.2, density=True)\n",
    "#no one genre stands out for amount of ratings"
   ]
  },
  {
   "cell_type": "code",
   "execution_count": 72,
   "id": "preliminary-violation",
   "metadata": {},
   "outputs": [
    {
     "data": {
      "image/png": "[encoded data removed]",
      "text/plain": [
       "<Figure size 288x288 with 2 Axes>"
      ]
     },
     "metadata": {
      "needs_background": "light"
     },
     "output_type": "display_data"
    }
   ],
   "source": [
    "genre_df = pd.get_dummies(music_df['genre'])\n",
    "genre_df['score'] = music_df['score']\n",
    "\n",
    "plt.figure(figsize = (4, 4))\n",
    "sns.heatmap(genre_df.corr()[[\"score\"]], annot=True);\n",
    "#not much correlation between genres and scores"
   ]
  },
  {
   "cell_type": "markdown",
   "id": "outside-retro",
   "metadata": {},
   "source": [
    "### Reviews (content)"
   ]
  },
  {
   "cell_type": "code",
   "execution_count": 74,
   "id": "express-return",
   "metadata": {},
   "outputs": [],
   "source": [
    "# Review length\n",
    "music_df['review_length'] = [len(i) for i in music_df['content']]\n",
    "music_df['review_word_count'] = music_df['content'].str.split().apply(len)"
   ]
  },
  {
   "cell_type": "code",
   "execution_count": 75,
   "id": "bigger-capitol",
   "metadata": {},
   "outputs": [
    {
     "data": {
      "image/png": "[encoded data removed]",
      "text/plain": [
       "<Figure size 720x432 with 2 Axes>"
      ]
     },
     "metadata": {
      "needs_background": "light"
     },
     "output_type": "display_data"
    }
   ],
   "source": [
    "fig = plt.figure(figsize = (10, 6))\n",
    "\n",
    "ax = fig.add_subplot(2, 2, 1)\n",
    "sns.histplot(music_df['review_length'], ax=ax)\n",
    "plt.title('review length')\n",
    "plt.xlim([0, 2000])\n",
    "\n",
    "ax = fig.add_subplot(2, 2, 2)\n",
    "sns.histplot(music_df['review_word_count'], ax=ax)\n",
    "plt.title('review word count')\n",
    "plt.xlim([0, 1000]);"
   ]
  },
  {
   "cell_type": "code",
   "execution_count": 55,
   "id": "packed-speed",
   "metadata": {},
   "outputs": [],
   "source": [
    "#both review length and review word count are skewed to the right"
   ]
  },
  {
   "cell_type": "code",
   "execution_count": 76,
   "id": "sticky-stomach",
   "metadata": {},
   "outputs": [
    {
     "data": {
      "text/plain": [
       "92003    5882\n",
       "1267     4698\n",
       "60909    4378\n",
       "Name: review_word_count, dtype: int64"
      ]
     },
     "execution_count": 76,
     "metadata": {},
     "output_type": "execute_result"
    }
   ],
   "source": [
    "music_df['review_word_count'].nlargest(3)"
   ]
  },
  {
   "cell_type": "code",
   "execution_count": 77,
   "id": "excited-institution",
   "metadata": {},
   "outputs": [
    {
     "data": {
      "text/html": [
       "<div>\n",
       "<style scoped>\n",
       "    .dataframe tbody tr th:only-of-type {\n",
       "        vertical-align: middle;\n",
       "    }\n",
       "\n",
       "    .dataframe tbody tr th {\n",
       "        vertical-align: top;\n",
       "    }\n",
       "\n",
       "    .dataframe thead th {\n",
       "        text-align: right;\n",
       "    }\n",
       "</style>\n",
       "<table border=\"1\" class=\"dataframe\">\n",
       "  <thead>\n",
       "    <tr style=\"text-align: right;\">\n",
       "      <th></th>\n",
       "      <th>user_id</th>\n",
       "      <th>amazon-id</th>\n",
       "      <th>content</th>\n",
       "      <th>score</th>\n",
       "      <th>summary</th>\n",
       "      <th>genre</th>\n",
       "      <th>title</th>\n",
       "      <th>artist</th>\n",
       "      <th>first-release-year</th>\n",
       "      <th>related</th>\n",
       "      <th>review_length</th>\n",
       "      <th>review_word_count</th>\n",
       "    </tr>\n",
       "  </thead>\n",
       "  <tbody>\n",
       "    <tr>\n",
       "      <th>1267</th>\n",
       "      <td>A2BMDY4WJIDGG7</td>\n",
       "      <td>1858705231</td>\n",
       "      <td>The long awaited new Rush album is finally her...</td>\n",
       "      <td>5</td>\n",
       "      <td>Rush embark on uncharted territories with a co...</td>\n",
       "      <td>Rock</td>\n",
       "      <td>Clockwork Angels: UK Fan Pack</td>\n",
       "      <td>Rush</td>\n",
       "      <td>NaN</td>\n",
       "      <td>{'also_bought': ['B000NVIXFK', 'B00E9P959O', '...</td>\n",
       "      <td>26775</td>\n",
       "      <td>4698</td>\n",
       "    </tr>\n",
       "    <tr>\n",
       "      <th>24180</th>\n",
       "      <td>APPV1ZDETO7B</td>\n",
       "      <td>B000002UAB</td>\n",
       "      <td>This review goes hand in hand with my review o...</td>\n",
       "      <td>5</td>\n",
       "      <td>A \"Different\" Review for a Novice Generation</td>\n",
       "      <td>Rock</td>\n",
       "      <td>With the Beatles</td>\n",
       "      <td>The Beatles</td>\n",
       "      <td>1963.0</td>\n",
       "      <td>{'also_bought': ['B0025KVLRO', 'B0025KVLSI', '...</td>\n",
       "      <td>16975</td>\n",
       "      <td>3015</td>\n",
       "    </tr>\n",
       "  </tbody>\n",
       "</table>\n",
       "</div>"
      ],
      "text/plain": [
       "              user_id   amazon-id  \\\n",
       "1267   A2BMDY4WJIDGG7  1858705231   \n",
       "24180    APPV1ZDETO7B  B000002UAB   \n",
       "\n",
       "                                                 content  score  \\\n",
       "1267   The long awaited new Rush album is finally her...      5   \n",
       "24180  This review goes hand in hand with my review o...      5   \n",
       "\n",
       "                                                 summary genre  \\\n",
       "1267   Rush embark on uncharted territories with a co...  Rock   \n",
       "24180       A \"Different\" Review for a Novice Generation  Rock   \n",
       "\n",
       "                               title       artist  first-release-year  \\\n",
       "1267   Clockwork Angels: UK Fan Pack         Rush                 NaN   \n",
       "24180              With the Beatles   The Beatles              1963.0   \n",
       "\n",
       "                                                 related  review_length  \\\n",
       "1267   {'also_bought': ['B000NVIXFK', 'B00E9P959O', '...          26775   \n",
       "24180  {'also_bought': ['B0025KVLRO', 'B0025KVLSI', '...          16975   \n",
       "\n",
       "       review_word_count  \n",
       "1267                4698  \n",
       "24180               3015  "
      ]
     },
     "execution_count": 77,
     "metadata": {},
     "output_type": "execute_result"
    }
   ],
   "source": [
    "music_df.loc[music_df['review_word_count'] > 3000][:2]"
   ]
  },
  {
   "cell_type": "markdown",
   "id": "textile-sharp",
   "metadata": {},
   "source": [
    "### Word Counts, Bigrams, Trigrams"
   ]
  },
  {
   "cell_type": "code",
   "execution_count": 78,
   "id": "ranking-cherry",
   "metadata": {},
   "outputs": [
    {
     "data": {
      "image/png": "[encoded data removed]",
      "text/plain": [
       "<Figure size 432x288 with 1 Axes>"
      ]
     },
     "metadata": {
      "needs_background": "light"
     },
     "output_type": "display_data"
    }
   ],
   "source": [
    "#most common words\n",
    "cvect = CountVectorizer(stop_words='english')\n",
    "words = music_df['content'].sample(n=2000)\n",
    "words_vect = cvect.fit_transform(words)\n",
    "words_df = pd.DataFrame(words_vect.toarray(), columns=cvect.get_feature_names())\n",
    "words_df.sum().sort_values(ascending=False).head(15).plot(kind='barh').invert_yaxis();"
   ]
  },
  {
   "cell_type": "code",
   "execution_count": 79,
   "id": "fleet-management",
   "metadata": {},
   "outputs": [
    {
     "data": {
      "image/png": "[encoded data removed]",
      "text/plain": [
       "<Figure size 432x288 with 1 Axes>"
      ]
     },
     "metadata": {
      "needs_background": "light"
     },
     "output_type": "display_data"
    }
   ],
   "source": [
    "#most common bigrams\n",
    "#note this is from sample of data due to large vector size\n",
    "cvect_bigrams = CountVectorizer(ngram_range = (2, 2), stop_words='english')\n",
    "words = music_df['content'].sample(n=2000)\n",
    "words_vect_bigrams = cvect_bigrams.fit_transform(words)\n",
    "words_vect_bigrams_df = pd.DataFrame(words_vect_bigrams.toarray(), columns=cvect_bigrams.get_feature_names())\n",
    "words_vect_bigrams_df.sum().sort_values(ascending=False).head(15).plot(kind='barh').invert_yaxis();"
   ]
  },
  {
   "cell_type": "code",
   "execution_count": 80,
   "id": "appreciated-daniel",
   "metadata": {},
   "outputs": [
    {
     "data": {
      "image/png": "[encoded data removed]",
      "text/plain": [
       "<Figure size 432x288 with 1 Axes>"
      ]
     },
     "metadata": {
      "needs_background": "light"
     },
     "output_type": "display_data"
    }
   ],
   "source": [
    "#most common trigrams\n",
    "#note this is from sample of data due to large vector size\n",
    "cvect_trigrams = CountVectorizer(ngram_range = (3, 3), stop_words='english')\n",
    "words = music_df['content'].sample(n=2000)\n",
    "words_vect_trigrams = cvect_trigrams.fit_transform(words)\n",
    "words_vect_trigrams_df = pd.DataFrame(words_vect_trigrams.toarray(), columns=cvect_trigrams.get_feature_names())\n",
    "words_vect_trigrams_df.sum().sort_values(ascending=False).head(15).plot(kind='barh').invert_yaxis();"
   ]
  }
 ],
 "metadata": {
  "kernelspec": {
   "display_name": "Python 3",
   "language": "python",
   "name": "python3"
  },
  "language_info": {
   "codemirror_mode": {
    "name": "ipython",
    "version": 3
   },
   "file_extension": ".py",
   "mimetype": "text/x-python",
   "name": "python",
   "nbconvert_exporter": "python",
   "pygments_lexer": "ipython3",
   "version": "3.8.5"
  }
 },
 "nbformat": 4,
 "nbformat_minor": 5
}
