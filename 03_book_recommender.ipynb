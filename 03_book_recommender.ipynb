{
 "cells": [
  {
   "cell_type": "markdown",
   "id": "assumed-calibration",
   "metadata": {},
   "source": [
    "# Book Recommender"
   ]
  },
  {
   "cell_type": "markdown",
   "id": "crude-aspect",
   "metadata": {},
   "source": [
    "### Import libraries and Data"
   ]
  },
  {
   "cell_type": "code",
   "execution_count": 1,
   "id": "turned-engine",
   "metadata": {},
   "outputs": [],
   "source": [
    "import pandas as pd\n",
    "import numpy as np\n",
    "import matplotlib.pyplot as plt\n",
    "from scipy import sparse\n",
    "from sklearn.metrics.pairwise import pairwise_distances, cosine_distances, cosine_similarity"
   ]
  },
  {
   "cell_type": "code",
   "execution_count": 2,
   "id": "underlying-immunology",
   "metadata": {},
   "outputs": [],
   "source": [
    "books_df = pd.read_csv('./data/clean/books_df.csv', index_col=0)"
   ]
  },
  {
   "cell_type": "code",
   "execution_count": 3,
   "id": "polished-elimination",
   "metadata": {},
   "outputs": [
    {
     "data": {
      "text/html": [
       "<div>\n",
       "<style scoped>\n",
       "    .dataframe tbody tr th:only-of-type {\n",
       "        vertical-align: middle;\n",
       "    }\n",
       "\n",
       "    .dataframe tbody tr th {\n",
       "        vertical-align: top;\n",
       "    }\n",
       "\n",
       "    .dataframe thead th {\n",
       "        text-align: right;\n",
       "    }\n",
       "</style>\n",
       "<table border=\"1\" class=\"dataframe\">\n",
       "  <thead>\n",
       "    <tr style=\"text-align: right;\">\n",
       "      <th></th>\n",
       "      <th>book_name</th>\n",
       "      <th>book_id</th>\n",
       "      <th>user_id</th>\n",
       "      <th>rating</th>\n",
       "    </tr>\n",
       "  </thead>\n",
       "  <tbody>\n",
       "    <tr>\n",
       "      <th>0</th>\n",
       "      <td>Agile Web Development with Rails: A Pragmatic ...</td>\n",
       "      <td>2232</td>\n",
       "      <td>1</td>\n",
       "      <td>5</td>\n",
       "    </tr>\n",
       "  </tbody>\n",
       "</table>\n",
       "</div>"
      ],
      "text/plain": [
       "                                           book_name  book_id  user_id  rating\n",
       "0  Agile Web Development with Rails: A Pragmatic ...     2232        1       5"
      ]
     },
     "execution_count": 3,
     "metadata": {},
     "output_type": "execute_result"
    }
   ],
   "source": [
    "books_df.head(1)"
   ]
  },
  {
   "cell_type": "markdown",
   "id": "representative-prison",
   "metadata": {},
   "source": [
    "### Prepare recommender using cosine distances"
   ]
  },
  {
   "cell_type": "code",
   "execution_count": 4,
   "id": "working-beaver",
   "metadata": {},
   "outputs": [],
   "source": [
    "#pivot table from the books_df dataframe\n",
    "pivot_df = pd.pivot_table(books_df, index='book_name', columns='user_id', values='rating')\n",
    "#create sparse matrix\n",
    "sparse_df = sparse.csr_matrix(pivot_df.fillna(0))\n",
    "#calculate cosine distances for similarities\n",
    "recommender = pairwise_distances(sparse_df, metric='cosine')\n",
    "#export as a dataframe\n",
    "rec_df = pd.DataFrame(recommender, columns=pivot_df.index, index=pivot_df.index)"
   ]
  },
  {
   "cell_type": "markdown",
   "id": "innocent-immunology",
   "metadata": {},
   "source": [
    "### Define book Recommender function"
   ]
  },
  {
   "cell_type": "code",
   "execution_count": 5,
   "id": "radical-printer",
   "metadata": {},
   "outputs": [],
   "source": [
    "def book_recommender(book_title):\n",
    "    return 1- rec_df[book_title].sort_values()[1:6]"
   ]
  },
  {
   "cell_type": "code",
   "execution_count": 6,
   "id": "illegal-trance",
   "metadata": {},
   "outputs": [
    {
     "data": {
      "text/plain": [
       "book_name\n",
       "Animal Farm               0.567584\n",
       "Brave New World           0.543643\n",
       "Lord of the Flies         0.539524\n",
       "The Catcher in the Rye    0.526647\n",
       "Fahrenheit 451            0.505689\n",
       "Name: 1984, dtype: float64"
      ]
     },
     "execution_count": 6,
     "metadata": {},
     "output_type": "execute_result"
    }
   ],
   "source": [
    "#Using the recommender function, input a book title to give cosine similarities, sorted\n",
    "book_recommender('1984')"
   ]
  },
  {
   "cell_type": "code",
   "execution_count": 7,
   "id": "official-economy",
   "metadata": {},
   "outputs": [],
   "source": [
    "#add book name, re-arrange for streamlit app\n",
    "rec_df.insert(0, \"book_name\", rec_df.index)\n",
    "\n",
    "# save rec_df for use in streamlit app\n",
    "rec_df.to_pickle('./streamlit_app/data/books.pk1')"
   ]
  }
 ],
 "metadata": {
  "kernelspec": {
   "display_name": "Python 3",
   "language": "python",
   "name": "python3"
  },
  "language_info": {
   "codemirror_mode": {
    "name": "ipython",
    "version": 3
   },
   "file_extension": ".py",
   "mimetype": "text/x-python",
   "name": "python",
   "nbconvert_exporter": "python",
   "pygments_lexer": "ipython3",
   "version": "3.8.5"
  }
 },
 "nbformat": 4,
 "nbformat_minor": 5
}
