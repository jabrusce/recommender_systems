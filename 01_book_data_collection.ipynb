{
 "cells": [
  {
   "cell_type": "markdown",
   "id": "protected-vision",
   "metadata": {},
   "source": [
    "# Book Ratings Data Collection & Cleaning"
   ]
  },
  {
   "cell_type": "markdown",
   "id": "bright-valve",
   "metadata": {},
   "source": [
    "### Import libraries and datasets"
   ]
  },
  {
   "cell_type": "code",
   "execution_count": 1,
   "id": "hungry-interference",
   "metadata": {},
   "outputs": [],
   "source": [
    "import pandas as pd\n",
    "import numpy as np\n",
    "import matplotlib.pyplot as plt\n",
    "from scipy import sparse"
   ]
  },
  {
   "cell_type": "code",
   "execution_count": 34,
   "id": "biblical-issue",
   "metadata": {},
   "outputs": [
    {
     "data": {
      "text/html": [
       "<div>\n",
       "<style scoped>\n",
       "    .dataframe tbody tr th:only-of-type {\n",
       "        vertical-align: middle;\n",
       "    }\n",
       "\n",
       "    .dataframe tbody tr th {\n",
       "        vertical-align: top;\n",
       "    }\n",
       "\n",
       "    .dataframe thead th {\n",
       "        text-align: right;\n",
       "    }\n",
       "</style>\n",
       "<table border=\"1\" class=\"dataframe\">\n",
       "  <thead>\n",
       "    <tr style=\"text-align: right;\">\n",
       "      <th></th>\n",
       "      <th>ID</th>\n",
       "      <th>Name</th>\n",
       "      <th>Rating</th>\n",
       "    </tr>\n",
       "  </thead>\n",
       "  <tbody>\n",
       "    <tr>\n",
       "      <th>0</th>\n",
       "      <td>1</td>\n",
       "      <td>Agile Web Development with Rails: A Pragmatic ...</td>\n",
       "      <td>it was amazing</td>\n",
       "    </tr>\n",
       "    <tr>\n",
       "      <th>1</th>\n",
       "      <td>1</td>\n",
       "      <td>The Restaurant at the End of the Universe (Hit...</td>\n",
       "      <td>it was amazing</td>\n",
       "    </tr>\n",
       "  </tbody>\n",
       "</table>\n",
       "</div>"
      ],
      "text/plain": [
       "   ID                                               Name          Rating\n",
       "0   1  Agile Web Development with Rails: A Pragmatic ...  it was amazing\n",
       "1   1  The Restaurant at the End of the Universe (Hit...  it was amazing"
      ]
     },
     "execution_count": 34,
     "metadata": {},
     "output_type": "execute_result"
    }
   ],
   "source": [
    "#import raw data\n",
    "books = pd.read_csv('./data/raw/user_rating_0_to_1000.csv')\n",
    "books.head(2)"
   ]
  },
  {
   "cell_type": "code",
   "execution_count": 35,
   "id": "aging-survival",
   "metadata": {},
   "outputs": [
    {
     "data": {
      "text/plain": [
       "really liked it                      20282\n",
       "it was amazing                       14108\n",
       "liked it                             13155\n",
       "it was ok                             3349\n",
       "did not like it                        748\n",
       "This user doesn't have any rating      303\n",
       "Name: Rating, dtype: int64"
      ]
     },
     "execution_count": 35,
     "metadata": {},
     "output_type": "execute_result"
    }
   ],
   "source": [
    "#set 1-5 values for user reviews\n",
    "books['Rating'].value_counts()"
   ]
  },
  {
   "cell_type": "code",
   "execution_count": 39,
   "id": "heavy-chess",
   "metadata": {},
   "outputs": [],
   "source": [
    "books['Rating'].replace('it was amazing', 5, inplace=True)\n",
    "books['Rating'].replace('really liked it', 4, inplace=True)\n",
    "books['Rating'].replace('liked it', 3, inplace=True)\n",
    "books['Rating'].replace('it was ok', 2, inplace=True)\n",
    "books['Rating'].replace('did not like it', 1, inplace=True)\n",
    "books['Rating'].replace(\"This user doesn't have any rating\", 0, inplace=True)"
   ]
  },
  {
   "cell_type": "code",
   "execution_count": 40,
   "id": "metric-survival",
   "metadata": {},
   "outputs": [
    {
     "data": {
      "text/plain": [
       "4    20282\n",
       "5    14108\n",
       "3    13155\n",
       "2     3349\n",
       "1      748\n",
       "0      303\n",
       "Name: Rating, dtype: int64"
      ]
     },
     "execution_count": 40,
     "metadata": {},
     "output_type": "execute_result"
    }
   ],
   "source": [
    "books['Rating'].value_counts()"
   ]
  },
  {
   "cell_type": "code",
   "execution_count": 41,
   "id": "minus-pavilion",
   "metadata": {},
   "outputs": [
    {
     "data": {
      "text/html": [
       "<div>\n",
       "<style scoped>\n",
       "    .dataframe tbody tr th:only-of-type {\n",
       "        vertical-align: middle;\n",
       "    }\n",
       "\n",
       "    .dataframe tbody tr th {\n",
       "        vertical-align: top;\n",
       "    }\n",
       "\n",
       "    .dataframe thead th {\n",
       "        text-align: right;\n",
       "    }\n",
       "</style>\n",
       "<table border=\"1\" class=\"dataframe\">\n",
       "  <thead>\n",
       "    <tr style=\"text-align: right;\">\n",
       "      <th></th>\n",
       "      <th>ID</th>\n",
       "      <th>Name</th>\n",
       "      <th>Rating</th>\n",
       "      <th>book_id</th>\n",
       "    </tr>\n",
       "  </thead>\n",
       "  <tbody>\n",
       "    <tr>\n",
       "      <th>44309</th>\n",
       "      <td>868</td>\n",
       "      <td>The Test</td>\n",
       "      <td>5</td>\n",
       "      <td>0</td>\n",
       "    </tr>\n",
       "    <tr>\n",
       "      <th>33471</th>\n",
       "      <td>617</td>\n",
       "      <td>I Don't Want to Talk About It: Overcoming the ...</td>\n",
       "      <td>5</td>\n",
       "      <td>1</td>\n",
       "    </tr>\n",
       "    <tr>\n",
       "      <th>50995</th>\n",
       "      <td>951</td>\n",
       "      <td>El Libro de Arena</td>\n",
       "      <td>4</td>\n",
       "      <td>2</td>\n",
       "    </tr>\n",
       "    <tr>\n",
       "      <th>32183</th>\n",
       "      <td>592</td>\n",
       "      <td>The Tuscan Child</td>\n",
       "      <td>4</td>\n",
       "      <td>3</td>\n",
       "    </tr>\n",
       "    <tr>\n",
       "      <th>40059</th>\n",
       "      <td>751</td>\n",
       "      <td>French Women for All Seasons: A Year of Secret...</td>\n",
       "      <td>4</td>\n",
       "      <td>4</td>\n",
       "    </tr>\n",
       "    <tr>\n",
       "      <th>...</th>\n",
       "      <td>...</td>\n",
       "      <td>...</td>\n",
       "      <td>...</td>\n",
       "      <td>...</td>\n",
       "    </tr>\n",
       "    <tr>\n",
       "      <th>40566</th>\n",
       "      <td>768</td>\n",
       "      <td>Crucible (Sigma Force, #14)</td>\n",
       "      <td>3</td>\n",
       "      <td>24089</td>\n",
       "    </tr>\n",
       "    <tr>\n",
       "      <th>25452</th>\n",
       "      <td>441</td>\n",
       "      <td>Just One Evil Act (Inspector Lynley, #18)</td>\n",
       "      <td>4</td>\n",
       "      <td>24090</td>\n",
       "    </tr>\n",
       "    <tr>\n",
       "      <th>48062</th>\n",
       "      <td>913</td>\n",
       "      <td>Lancha rápida</td>\n",
       "      <td>3</td>\n",
       "      <td>24091</td>\n",
       "    </tr>\n",
       "    <tr>\n",
       "      <th>48914</th>\n",
       "      <td>923</td>\n",
       "      <td>No society: El fin de la clase media occidental</td>\n",
       "      <td>2</td>\n",
       "      <td>24092</td>\n",
       "    </tr>\n",
       "    <tr>\n",
       "      <th>47088</th>\n",
       "      <td>897</td>\n",
       "      <td>Inside Steve's Brain</td>\n",
       "      <td>3</td>\n",
       "      <td>24093</td>\n",
       "    </tr>\n",
       "  </tbody>\n",
       "</table>\n",
       "<p>51945 rows × 4 columns</p>\n",
       "</div>"
      ],
      "text/plain": [
       "        ID                                               Name  Rating  book_id\n",
       "44309  868                                           The Test       5        0\n",
       "33471  617  I Don't Want to Talk About It: Overcoming the ...       5        1\n",
       "50995  951                                  El Libro de Arena       4        2\n",
       "32183  592                                   The Tuscan Child       4        3\n",
       "40059  751  French Women for All Seasons: A Year of Secret...       4        4\n",
       "...    ...                                                ...     ...      ...\n",
       "40566  768                        Crucible (Sigma Force, #14)       3    24089\n",
       "25452  441          Just One Evil Act (Inspector Lynley, #18)       4    24090\n",
       "48062  913                                      Lancha rápida       3    24091\n",
       "48914  923    No society: El fin de la clase media occidental       2    24092\n",
       "47088  897                               Inside Steve's Brain       3    24093\n",
       "\n",
       "[51945 rows x 4 columns]"
      ]
     },
     "execution_count": 41,
     "metadata": {},
     "output_type": "execute_result"
    }
   ],
   "source": [
    "#create book ratings dataframe for app\n",
    "# https://stackoverflow.com/questions/42350029/assign-a-number-to-each-unique-value-in-a-list\n",
    "book_names = books['Name']\n",
    "dictionary = {i: indi for indi, i in enumerate(set(book_names))}\n",
    "numbers = [dictionary[n] for n in book_names]\n",
    "books['book_id'] = numbers\n",
    "books.sort_values(by=['book_id'])"
   ]
  },
  {
   "cell_type": "code",
   "execution_count": 45,
   "id": "brave-music",
   "metadata": {},
   "outputs": [],
   "source": [
    "#create recommender dataframe\n",
    "recommender_df = books[['book_id', 'Name', 'ID', 'Rating']]\n",
    "recommender_df.rename(columns={'ID': 'user_id', 'Name': 'book_name', 'Rating': 'rating'}, inplace=True)\n",
    "#reorder for streamlit app\n",
    "recommender_df = recomender_df[['book_name', 'book_id', 'user_id', 'rating']]"
   ]
  },
  {
   "cell_type": "code",
   "execution_count": 46,
   "id": "pleasant-alliance",
   "metadata": {},
   "outputs": [
    {
     "data": {
      "text/html": [
       "<div>\n",
       "<style scoped>\n",
       "    .dataframe tbody tr th:only-of-type {\n",
       "        vertical-align: middle;\n",
       "    }\n",
       "\n",
       "    .dataframe tbody tr th {\n",
       "        vertical-align: top;\n",
       "    }\n",
       "\n",
       "    .dataframe thead th {\n",
       "        text-align: right;\n",
       "    }\n",
       "</style>\n",
       "<table border=\"1\" class=\"dataframe\">\n",
       "  <thead>\n",
       "    <tr style=\"text-align: right;\">\n",
       "      <th></th>\n",
       "      <th>book_name</th>\n",
       "      <th>book_id</th>\n",
       "      <th>user_id</th>\n",
       "      <th>rating</th>\n",
       "    </tr>\n",
       "  </thead>\n",
       "  <tbody>\n",
       "    <tr>\n",
       "      <th>0</th>\n",
       "      <td>Agile Web Development with Rails: A Pragmatic ...</td>\n",
       "      <td>2232</td>\n",
       "      <td>1</td>\n",
       "      <td>5</td>\n",
       "    </tr>\n",
       "    <tr>\n",
       "      <th>1</th>\n",
       "      <td>The Restaurant at the End of the Universe (Hit...</td>\n",
       "      <td>6997</td>\n",
       "      <td>1</td>\n",
       "      <td>5</td>\n",
       "    </tr>\n",
       "  </tbody>\n",
       "</table>\n",
       "</div>"
      ],
      "text/plain": [
       "                                           book_name  book_id  user_id  rating\n",
       "0  Agile Web Development with Rails: A Pragmatic ...     2232        1       5\n",
       "1  The Restaurant at the End of the Universe (Hit...     6997        1       5"
      ]
     },
     "execution_count": 46,
     "metadata": {},
     "output_type": "execute_result"
    }
   ],
   "source": [
    "recommender_df.head(2)"
   ]
  },
  {
   "cell_type": "code",
   "execution_count": 48,
   "id": "precious-freeware",
   "metadata": {},
   "outputs": [],
   "source": [
    "#export dataframe\n",
    "recommender_df.to_csv('./data/clean/books_df.csv')"
   ]
  }
 ],
 "metadata": {
  "kernelspec": {
   "display_name": "Python 3",
   "language": "python",
   "name": "python3"
  },
  "language_info": {
   "codemirror_mode": {
    "name": "ipython",
    "version": 3
   },
   "file_extension": ".py",
   "mimetype": "text/x-python",
   "name": "python",
   "nbconvert_exporter": "python",
   "pygments_lexer": "ipython3",
   "version": "3.8.5"
  }
 },
 "nbformat": 4,
 "nbformat_minor": 5
}
