{
 "cells": [
  {
   "cell_type": "markdown",
   "id": "dying-column",
   "metadata": {},
   "source": [
    "# Music Recommender Data Collection"
   ]
  },
  {
   "cell_type": "markdown",
   "id": "welcome-diameter",
   "metadata": {},
   "source": [
    "#### Import Libraries and Data"
   ]
  },
  {
   "cell_type": "code",
   "execution_count": 1,
   "id": "fatty-restaurant",
   "metadata": {},
   "outputs": [],
   "source": [
    "import numpy as np\n",
    "import pandas as pd\n",
    "import sqlite3 as sql"
   ]
  },
  {
   "cell_type": "markdown",
   "id": "annoying-orlando",
   "metadata": {},
   "source": [
    "Note: Data collected from Pitchfork Reviews (Kaggle)\n",
    "https://www.kaggle.com/nolanbconaway/pitchfork-data"
   ]
  },
  {
   "cell_type": "code",
   "execution_count": 2,
   "id": "generic-coupon",
   "metadata": {},
   "outputs": [],
   "source": [
    "#import from sql\n",
    "db = sql.connect('./data/raw/pitchfork_reviews.sqlite')"
   ]
  },
  {
   "cell_type": "code",
   "execution_count": 3,
   "id": "formed-passion",
   "metadata": {},
   "outputs": [
    {
     "data": {
      "text/html": [
       "<div>\n",
       "<style scoped>\n",
       "    .dataframe tbody tr th:only-of-type {\n",
       "        vertical-align: middle;\n",
       "    }\n",
       "\n",
       "    .dataframe tbody tr th {\n",
       "        vertical-align: top;\n",
       "    }\n",
       "\n",
       "    .dataframe thead th {\n",
       "        text-align: right;\n",
       "    }\n",
       "</style>\n",
       "<table border=\"1\" class=\"dataframe\">\n",
       "  <thead>\n",
       "    <tr style=\"text-align: right;\">\n",
       "      <th></th>\n",
       "      <th>reviewid</th>\n",
       "      <th>score</th>\n",
       "      <th>title</th>\n",
       "      <th>artist</th>\n",
       "      <th>url</th>\n",
       "    </tr>\n",
       "  </thead>\n",
       "  <tbody>\n",
       "    <tr>\n",
       "      <th>0</th>\n",
       "      <td>22703</td>\n",
       "      <td>9.3</td>\n",
       "      <td>mezzanine</td>\n",
       "      <td>massive attack</td>\n",
       "      <td>http://pitchfork.com/reviews/albums/22703-mezz...</td>\n",
       "    </tr>\n",
       "  </tbody>\n",
       "</table>\n",
       "</div>"
      ],
      "text/plain": [
       "   reviewid  score      title          artist  \\\n",
       "0     22703    9.3  mezzanine  massive attack   \n",
       "\n",
       "                                                 url  \n",
       "0  http://pitchfork.com/reviews/albums/22703-mezz...  "
      ]
     },
     "execution_count": 3,
     "metadata": {},
     "output_type": "execute_result"
    }
   ],
   "source": [
    "#import scores data from sql\n",
    "scores = pd.read_sql('SELECT reviewid, score, title, artist, url FROM reviews', db)\n",
    "scores.head(1)"
   ]
  },
  {
   "cell_type": "code",
   "execution_count": 4,
   "id": "ongoing-antenna",
   "metadata": {},
   "outputs": [
    {
     "data": {
      "text/html": [
       "<div>\n",
       "<style scoped>\n",
       "    .dataframe tbody tr th:only-of-type {\n",
       "        vertical-align: middle;\n",
       "    }\n",
       "\n",
       "    .dataframe tbody tr th {\n",
       "        vertical-align: top;\n",
       "    }\n",
       "\n",
       "    .dataframe thead th {\n",
       "        text-align: right;\n",
       "    }\n",
       "</style>\n",
       "<table border=\"1\" class=\"dataframe\">\n",
       "  <thead>\n",
       "    <tr style=\"text-align: right;\">\n",
       "      <th></th>\n",
       "      <th>reviewid</th>\n",
       "      <th>content</th>\n",
       "    </tr>\n",
       "  </thead>\n",
       "  <tbody>\n",
       "    <tr>\n",
       "      <th>0</th>\n",
       "      <td>22703</td>\n",
       "      <td>“Trip-hop” eventually became a ’90s punchline,...</td>\n",
       "    </tr>\n",
       "  </tbody>\n",
       "</table>\n",
       "</div>"
      ],
      "text/plain": [
       "   reviewid                                            content\n",
       "0     22703  “Trip-hop” eventually became a ’90s punchline,..."
      ]
     },
     "execution_count": 4,
     "metadata": {},
     "output_type": "execute_result"
    }
   ],
   "source": [
    "#import content data from sql\n",
    "content = pd.read_sql('SELECT reviewid, content FROM content', db)\n",
    "content.head(1)"
   ]
  },
  {
   "cell_type": "code",
   "execution_count": 5,
   "id": "religious-board",
   "metadata": {},
   "outputs": [
    {
     "data": {
      "text/html": [
       "<div>\n",
       "<style scoped>\n",
       "    .dataframe tbody tr th:only-of-type {\n",
       "        vertical-align: middle;\n",
       "    }\n",
       "\n",
       "    .dataframe tbody tr th {\n",
       "        vertical-align: top;\n",
       "    }\n",
       "\n",
       "    .dataframe thead th {\n",
       "        text-align: right;\n",
       "    }\n",
       "</style>\n",
       "<table border=\"1\" class=\"dataframe\">\n",
       "  <thead>\n",
       "    <tr style=\"text-align: right;\">\n",
       "      <th></th>\n",
       "      <th>reviewid</th>\n",
       "      <th>genre</th>\n",
       "    </tr>\n",
       "  </thead>\n",
       "  <tbody>\n",
       "    <tr>\n",
       "      <th>0</th>\n",
       "      <td>22703</td>\n",
       "      <td>electronic</td>\n",
       "    </tr>\n",
       "  </tbody>\n",
       "</table>\n",
       "</div>"
      ],
      "text/plain": [
       "   reviewid       genre\n",
       "0     22703  electronic"
      ]
     },
     "execution_count": 5,
     "metadata": {},
     "output_type": "execute_result"
    }
   ],
   "source": [
    "#import genre data from sql\n",
    "genres = pd.read_sql('SELECT reviewid, genre FROM genres', db)\n",
    "genres.head(1)"
   ]
  },
  {
   "cell_type": "code",
   "execution_count": 6,
   "id": "amateur-heaven",
   "metadata": {},
   "outputs": [
    {
     "data": {
      "text/html": [
       "<div>\n",
       "<style scoped>\n",
       "    .dataframe tbody tr th:only-of-type {\n",
       "        vertical-align: middle;\n",
       "    }\n",
       "\n",
       "    .dataframe tbody tr th {\n",
       "        vertical-align: top;\n",
       "    }\n",
       "\n",
       "    .dataframe thead th {\n",
       "        text-align: right;\n",
       "    }\n",
       "</style>\n",
       "<table border=\"1\" class=\"dataframe\">\n",
       "  <thead>\n",
       "    <tr style=\"text-align: right;\">\n",
       "      <th></th>\n",
       "      <th>reviewid</th>\n",
       "      <th>year</th>\n",
       "    </tr>\n",
       "  </thead>\n",
       "  <tbody>\n",
       "    <tr>\n",
       "      <th>0</th>\n",
       "      <td>22703</td>\n",
       "      <td>1998.0</td>\n",
       "    </tr>\n",
       "  </tbody>\n",
       "</table>\n",
       "</div>"
      ],
      "text/plain": [
       "   reviewid    year\n",
       "0     22703  1998.0"
      ]
     },
     "execution_count": 6,
     "metadata": {},
     "output_type": "execute_result"
    }
   ],
   "source": [
    "#import year data from sql\n",
    "year = pd.read_sql('SELECT reviewid, year FROM years', db)\n",
    "year.head(1)"
   ]
  },
  {
   "cell_type": "markdown",
   "id": "beginning-instrument",
   "metadata": {},
   "source": [
    "#### Create merged dataframe with all music review data"
   ]
  },
  {
   "cell_type": "code",
   "execution_count": 7,
   "id": "legendary-associate",
   "metadata": {},
   "outputs": [],
   "source": [
    "#merge all data on reviewid\n",
    "merged = pd.merge(scores, content, on='reviewid')\n",
    "merged2 = pd.merge(merged, genres, on='reviewid')\n",
    "merged3 = pd.merge(merged2, year, on='reviewid')"
   ]
  },
  {
   "cell_type": "code",
   "execution_count": 8,
   "id": "closing-samoa",
   "metadata": {},
   "outputs": [
    {
     "data": {
      "text/plain": [
       "(23633, 8)"
      ]
     },
     "execution_count": 8,
     "metadata": {},
     "output_type": "execute_result"
    }
   ],
   "source": [
    "merged3.shape"
   ]
  },
  {
   "cell_type": "code",
   "execution_count": 9,
   "id": "intended-warrant",
   "metadata": {},
   "outputs": [
    {
     "data": {
      "text/html": [
       "<div>\n",
       "<style scoped>\n",
       "    .dataframe tbody tr th:only-of-type {\n",
       "        vertical-align: middle;\n",
       "    }\n",
       "\n",
       "    .dataframe tbody tr th {\n",
       "        vertical-align: top;\n",
       "    }\n",
       "\n",
       "    .dataframe thead th {\n",
       "        text-align: right;\n",
       "    }\n",
       "</style>\n",
       "<table border=\"1\" class=\"dataframe\">\n",
       "  <thead>\n",
       "    <tr style=\"text-align: right;\">\n",
       "      <th></th>\n",
       "      <th>reviewid</th>\n",
       "      <th>score</th>\n",
       "      <th>title</th>\n",
       "      <th>artist</th>\n",
       "      <th>url</th>\n",
       "      <th>content</th>\n",
       "      <th>genre</th>\n",
       "      <th>year</th>\n",
       "    </tr>\n",
       "  </thead>\n",
       "  <tbody>\n",
       "    <tr>\n",
       "      <th>0</th>\n",
       "      <td>22703</td>\n",
       "      <td>9.3</td>\n",
       "      <td>mezzanine</td>\n",
       "      <td>massive attack</td>\n",
       "      <td>http://pitchfork.com/reviews/albums/22703-mezz...</td>\n",
       "      <td>“Trip-hop” eventually became a ’90s punchline,...</td>\n",
       "      <td>electronic</td>\n",
       "      <td>1998.0</td>\n",
       "    </tr>\n",
       "  </tbody>\n",
       "</table>\n",
       "</div>"
      ],
      "text/plain": [
       "   reviewid  score      title          artist  \\\n",
       "0     22703    9.3  mezzanine  massive attack   \n",
       "\n",
       "                                                 url  \\\n",
       "0  http://pitchfork.com/reviews/albums/22703-mezz...   \n",
       "\n",
       "                                             content       genre    year  \n",
       "0  “Trip-hop” eventually became a ’90s punchline,...  electronic  1998.0  "
      ]
     },
     "execution_count": 9,
     "metadata": {},
     "output_type": "execute_result"
    }
   ],
   "source": [
    "merged3.head(1)"
   ]
  },
  {
   "cell_type": "code",
   "execution_count": 10,
   "id": "played-archive",
   "metadata": {},
   "outputs": [
    {
     "data": {
      "text/plain": [
       "reviewid       0\n",
       "score          0\n",
       "title          0\n",
       "artist         0\n",
       "url            0\n",
       "content        0\n",
       "genre       2465\n",
       "year         524\n",
       "dtype: int64"
      ]
     },
     "execution_count": 10,
     "metadata": {},
     "output_type": "execute_result"
    }
   ],
   "source": [
    "#check for missing values\n",
    "merged3.isnull().sum()"
   ]
  },
  {
   "cell_type": "code",
   "execution_count": 11,
   "id": "developed-chemistry",
   "metadata": {},
   "outputs": [
    {
     "data": {
      "text/plain": [
       "(23633, 8)"
      ]
     },
     "execution_count": 11,
     "metadata": {},
     "output_type": "execute_result"
    }
   ],
   "source": [
    "merged3.shape"
   ]
  },
  {
   "cell_type": "code",
   "execution_count": 12,
   "id": "separate-trading",
   "metadata": {},
   "outputs": [],
   "source": [
    "#drop any null values or duplicates"
   ]
  },
  {
   "cell_type": "code",
   "execution_count": 13,
   "id": "verified-dallas",
   "metadata": {},
   "outputs": [],
   "source": [
    "merged3.dropna(subset=['artist'], inplace=True)\n",
    "merged3.dropna(subset=['title'], inplace=True)\n",
    "merged3.dropna(subset=['content'], inplace=True)"
   ]
  },
  {
   "cell_type": "code",
   "execution_count": 14,
   "id": "strong-sympathy",
   "metadata": {},
   "outputs": [],
   "source": [
    "merged3.drop_duplicates(subset=['content'], inplace=True)\n",
    "merged3.dropna(axis=0, subset=['content'], inplace=True)"
   ]
  },
  {
   "cell_type": "code",
   "execution_count": 15,
   "id": "super-serbia",
   "metadata": {},
   "outputs": [],
   "source": [
    "#export to csv\n",
    "merged3.to_csv('./data/clean/pitchfork.csv', index=False)"
   ]
  }
 ],
 "metadata": {
  "kernelspec": {
   "display_name": "Python 3",
   "language": "python",
   "name": "python3"
  },
  "language_info": {
   "codemirror_mode": {
    "name": "ipython",
    "version": 3
   },
   "file_extension": ".py",
   "mimetype": "text/x-python",
   "name": "python",
   "nbconvert_exporter": "python",
   "pygments_lexer": "ipython3",
   "version": "3.8.5"
  }
 },
 "nbformat": 4,
 "nbformat_minor": 5
}
