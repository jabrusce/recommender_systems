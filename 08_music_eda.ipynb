{
 "cells": [
  {
   "cell_type": "markdown",
   "id": "dense-calcium",
   "metadata": {},
   "source": [
    "# Music Recommender Data Cleaning & EDA"
   ]
  },
  {
   "cell_type": "markdown",
   "id": "cultural-neutral",
   "metadata": {},
   "source": [
    "### Import Libraries, Data"
   ]
  },
  {
   "cell_type": "code",
   "execution_count": 1,
   "id": "linear-kidney",
   "metadata": {},
   "outputs": [],
   "source": [
    "import numpy as np\n",
    "import pandas as pd\n",
    "import matplotlib.pyplot as plt\n",
    "import seaborn as sns\n",
    "from sklearn.feature_extraction.text import CountVectorizer"
   ]
  },
  {
   "cell_type": "code",
   "execution_count": 2,
   "id": "american-clarity",
   "metadata": {},
   "outputs": [],
   "source": [
    "music_df = pd.read_csv('./data/clean/music_df.csv')"
   ]
  },
  {
   "cell_type": "code",
   "execution_count": 3,
   "id": "special-gibraltar",
   "metadata": {},
   "outputs": [
    {
     "data": {
      "text/plain": [
       "(18379, 8)"
      ]
     },
     "execution_count": 3,
     "metadata": {},
     "output_type": "execute_result"
    }
   ],
   "source": [
    "music_df.shape"
   ]
  },
  {
   "cell_type": "code",
   "execution_count": 4,
   "id": "reported-position",
   "metadata": {},
   "outputs": [
    {
     "data": {
      "text/html": [
       "<div>\n",
       "<style scoped>\n",
       "    .dataframe tbody tr th:only-of-type {\n",
       "        vertical-align: middle;\n",
       "    }\n",
       "\n",
       "    .dataframe tbody tr th {\n",
       "        vertical-align: top;\n",
       "    }\n",
       "\n",
       "    .dataframe thead th {\n",
       "        text-align: right;\n",
       "    }\n",
       "</style>\n",
       "<table border=\"1\" class=\"dataframe\">\n",
       "  <thead>\n",
       "    <tr style=\"text-align: right;\">\n",
       "      <th></th>\n",
       "      <th>reviewid</th>\n",
       "      <th>score</th>\n",
       "      <th>title</th>\n",
       "      <th>artist</th>\n",
       "      <th>url</th>\n",
       "      <th>content</th>\n",
       "      <th>genre</th>\n",
       "      <th>year</th>\n",
       "    </tr>\n",
       "  </thead>\n",
       "  <tbody>\n",
       "    <tr>\n",
       "      <th>0</th>\n",
       "      <td>22703</td>\n",
       "      <td>9.3</td>\n",
       "      <td>mezzanine</td>\n",
       "      <td>massive attack</td>\n",
       "      <td>http://pitchfork.com/reviews/albums/22703-mezz...</td>\n",
       "      <td>“Trip-hop” eventually became a ’90s punchline,...</td>\n",
       "      <td>electronic</td>\n",
       "      <td>1998.0</td>\n",
       "    </tr>\n",
       "  </tbody>\n",
       "</table>\n",
       "</div>"
      ],
      "text/plain": [
       "   reviewid  score      title          artist  \\\n",
       "0     22703    9.3  mezzanine  massive attack   \n",
       "\n",
       "                                                 url  \\\n",
       "0  http://pitchfork.com/reviews/albums/22703-mezz...   \n",
       "\n",
       "                                             content       genre    year  \n",
       "0  “Trip-hop” eventually became a ’90s punchline,...  electronic  1998.0  "
      ]
     },
     "execution_count": 4,
     "metadata": {},
     "output_type": "execute_result"
    }
   ],
   "source": [
    "music_df.head(1)"
   ]
  },
  {
   "cell_type": "markdown",
   "id": "express-league",
   "metadata": {},
   "source": [
    "### Data Description"
   ]
  },
  {
   "cell_type": "code",
   "execution_count": 5,
   "id": "indoor-coast",
   "metadata": {},
   "outputs": [
    {
     "name": "stdout",
     "output_type": "stream",
     "text": [
      "<class 'pandas.core.frame.DataFrame'>\n",
      "RangeIndex: 18379 entries, 0 to 18378\n",
      "Data columns (total 8 columns):\n",
      " #   Column    Non-Null Count  Dtype  \n",
      "---  ------    --------------  -----  \n",
      " 0   reviewid  18379 non-null  int64  \n",
      " 1   score     18379 non-null  float64\n",
      " 2   title     18377 non-null  object \n",
      " 3   artist    18377 non-null  object \n",
      " 4   url       18379 non-null  object \n",
      " 5   content   18378 non-null  object \n",
      " 6   genre     16016 non-null  object \n",
      " 7   year      17973 non-null  float64\n",
      "dtypes: float64(2), int64(1), object(5)\n",
      "memory usage: 1.1+ MB\n"
     ]
    }
   ],
   "source": [
    "music_df.info()"
   ]
  },
  {
   "cell_type": "code",
   "execution_count": 6,
   "id": "joint-investigation",
   "metadata": {},
   "outputs": [
    {
     "data": {
      "text/plain": [
       "reviewid       0\n",
       "score          0\n",
       "title          2\n",
       "artist         2\n",
       "url            0\n",
       "content        1\n",
       "genre       2363\n",
       "year         406\n",
       "dtype: int64"
      ]
     },
     "execution_count": 6,
     "metadata": {},
     "output_type": "execute_result"
    }
   ],
   "source": [
    "music_df.isnull().sum()"
   ]
  },
  {
   "cell_type": "code",
   "execution_count": 7,
   "id": "opponent-spirit",
   "metadata": {},
   "outputs": [],
   "source": [
    "#drop any null values - only dropping less than 20 out of the large amount of data\n",
    "music_df.dropna(subset=['artist'], inplace=True)\n",
    "music_df.dropna(subset=['title'], inplace=True)\n",
    "music_df.dropna(subset=['content'], inplace=True)"
   ]
  },
  {
   "cell_type": "markdown",
   "id": "circular-criminal",
   "metadata": {},
   "source": [
    "### Scores"
   ]
  },
  {
   "cell_type": "code",
   "execution_count": 8,
   "id": "intended-dealer",
   "metadata": {},
   "outputs": [
    {
     "data": {
      "image/png": "[encoded data removed]",
      "text/plain": [
       "<Figure size 432x288 with 1 Axes>"
      ]
     },
     "metadata": {
      "needs_background": "light"
     },
     "output_type": "display_data"
    }
   ],
   "source": [
    "plt.figure(figsize=(6, 4))\n",
    "plt.hist(music_df['score'])\n",
    "plt.title('Distribution of Scores')\n",
    "plt.xlabel('score')\n",
    "plt.ylabel('count');\n",
    "#fairly normal, skewed to the left"
   ]
  },
  {
   "cell_type": "markdown",
   "id": "fatal-uzbekistan",
   "metadata": {},
   "source": [
    "### Genres"
   ]
  },
  {
   "cell_type": "code",
   "execution_count": 9,
   "id": "referenced-classroom",
   "metadata": {},
   "outputs": [
    {
     "data": {
      "text/plain": [
       "rock            9430\n",
       "electronic      1992\n",
       "rap             1488\n",
       "pop/r&b         1087\n",
       "folk/country     574\n",
       "experimental     562\n",
       "metal            357\n",
       "jazz             341\n",
       "global           183\n",
       "Name: genre, dtype: int64"
      ]
     },
     "execution_count": 9,
     "metadata": {},
     "output_type": "execute_result"
    }
   ],
   "source": [
    "music_df['genre'].value_counts()"
   ]
  },
  {
   "cell_type": "code",
   "execution_count": 10,
   "id": "intelligent-legislation",
   "metadata": {},
   "outputs": [
    {
     "data": {
      "image/png": "[encoded data removed]",
      "text/plain": [
       "<Figure size 432x288 with 1 Axes>"
      ]
     },
     "metadata": {
      "needs_background": "light"
     },
     "output_type": "display_data"
    }
   ],
   "source": [
    "genres = music_df.groupby('genre')['score']\n",
    "for genre in genres:\n",
    "    plt.hist(genre[1], bins=10, alpha=0.2, density=True)\n",
    "#no one genre stands out for amount of ratings"
   ]
  },
  {
   "cell_type": "code",
   "execution_count": 11,
   "id": "tracked-martin",
   "metadata": {},
   "outputs": [
    {
     "data": {
      "image/png": "[encoded data removed]",
      "text/plain": [
       "<Figure size 288x216 with 2 Axes>"
      ]
     },
     "metadata": {
      "needs_background": "light"
     },
     "output_type": "display_data"
    }
   ],
   "source": [
    "genre_df = pd.get_dummies(music_df['genre'])\n",
    "genre_df['score'] = music_df['score']\n",
    "\n",
    "plt.figure(figsize = (4, 3))\n",
    "sns.heatmap(genre_df.corr()[[\"score\"]], annot=True);\n",
    "#not much correlation between genres and scores"
   ]
  },
  {
   "cell_type": "markdown",
   "id": "sophisticated-conspiracy",
   "metadata": {},
   "source": [
    "### Reviews (content)"
   ]
  },
  {
   "cell_type": "code",
   "execution_count": 12,
   "id": "electrical-aerospace",
   "metadata": {},
   "outputs": [],
   "source": [
    "# Review length\n",
    "music_df['review_length'] = [len(i) for i in music_df['content']]\n",
    "music_df['review_word_count'] = music_df['content'].str.split().apply(len)"
   ]
  },
  {
   "cell_type": "code",
   "execution_count": 13,
   "id": "dominican-foster",
   "metadata": {},
   "outputs": [
    {
     "data": {
      "image/png": "[encoded data removed]",
      "text/plain": [
       "<Figure size 720x432 with 2 Axes>"
      ]
     },
     "metadata": {
      "needs_background": "light"
     },
     "output_type": "display_data"
    }
   ],
   "source": [
    "fig = plt.figure(figsize = (10, 6))\n",
    "\n",
    "ax = fig.add_subplot(2, 2, 1)\n",
    "sns.histplot(music_df['review_length'], ax=ax)\n",
    "plt.title('review length')\n",
    "\n",
    "ax = fig.add_subplot(2, 2, 2)\n",
    "sns.histplot(music_df['review_word_count'], ax=ax)\n",
    "plt.title('review word count');"
   ]
  },
  {
   "cell_type": "code",
   "execution_count": 14,
   "id": "conservative-neighborhood",
   "metadata": {},
   "outputs": [],
   "source": [
    "#both review length and review word count are fairly normal, skewed to the right"
   ]
  },
  {
   "cell_type": "code",
   "execution_count": 15,
   "id": "accessible-spencer",
   "metadata": {},
   "outputs": [
    {
     "data": {
      "text/plain": [
       "503     3688\n",
       "104     3576\n",
       "5971    3021\n",
       "Name: review_word_count, dtype: int64"
      ]
     },
     "execution_count": 15,
     "metadata": {},
     "output_type": "execute_result"
    }
   ],
   "source": [
    "music_df['review_word_count'].nlargest(3)"
   ]
  },
  {
   "cell_type": "code",
   "execution_count": 16,
   "id": "least-shame",
   "metadata": {},
   "outputs": [
    {
     "data": {
      "text/html": [
       "<div>\n",
       "<style scoped>\n",
       "    .dataframe tbody tr th:only-of-type {\n",
       "        vertical-align: middle;\n",
       "    }\n",
       "\n",
       "    .dataframe tbody tr th {\n",
       "        vertical-align: top;\n",
       "    }\n",
       "\n",
       "    .dataframe thead th {\n",
       "        text-align: right;\n",
       "    }\n",
       "</style>\n",
       "<table border=\"1\" class=\"dataframe\">\n",
       "  <thead>\n",
       "    <tr style=\"text-align: right;\">\n",
       "      <th></th>\n",
       "      <th>reviewid</th>\n",
       "      <th>score</th>\n",
       "      <th>title</th>\n",
       "      <th>artist</th>\n",
       "      <th>url</th>\n",
       "      <th>content</th>\n",
       "      <th>genre</th>\n",
       "      <th>year</th>\n",
       "      <th>review_length</th>\n",
       "      <th>review_word_count</th>\n",
       "    </tr>\n",
       "  </thead>\n",
       "  <tbody>\n",
       "    <tr>\n",
       "      <th>104</th>\n",
       "      <td>22561</td>\n",
       "      <td>9.5</td>\n",
       "      <td>death certificate</td>\n",
       "      <td>ice cube</td>\n",
       "      <td>http://pitchfork.com/reviews/albums/22561-deat...</td>\n",
       "      <td>Ice Cube left N.W.A. in late 1989 over a royal...</td>\n",
       "      <td>rap</td>\n",
       "      <td>1991.0</td>\n",
       "      <td>22419</td>\n",
       "      <td>3576</td>\n",
       "    </tr>\n",
       "    <tr>\n",
       "      <th>503</th>\n",
       "      <td>22044</td>\n",
       "      <td>8.6</td>\n",
       "      <td>dangerous</td>\n",
       "      <td>michael jackson</td>\n",
       "      <td>http://pitchfork.com/reviews/albums/22044-dang...</td>\n",
       "      <td>On the night of November 14, 1991, 500 million...</td>\n",
       "      <td>pop/r&amp;b</td>\n",
       "      <td>1991.0</td>\n",
       "      <td>22171</td>\n",
       "      <td>3688</td>\n",
       "    </tr>\n",
       "  </tbody>\n",
       "</table>\n",
       "</div>"
      ],
      "text/plain": [
       "     reviewid  score              title           artist  \\\n",
       "104     22561    9.5  death certificate         ice cube   \n",
       "503     22044    8.6          dangerous  michael jackson   \n",
       "\n",
       "                                                   url  \\\n",
       "104  http://pitchfork.com/reviews/albums/22561-deat...   \n",
       "503  http://pitchfork.com/reviews/albums/22044-dang...   \n",
       "\n",
       "                                               content    genre    year  \\\n",
       "104  Ice Cube left N.W.A. in late 1989 over a royal...      rap  1991.0   \n",
       "503  On the night of November 14, 1991, 500 million...  pop/r&b  1991.0   \n",
       "\n",
       "     review_length  review_word_count  \n",
       "104          22419               3576  \n",
       "503          22171               3688  "
      ]
     },
     "execution_count": 16,
     "metadata": {},
     "output_type": "execute_result"
    }
   ],
   "source": [
    "music_df.loc[music_df['review_word_count'] > 3000][:2]"
   ]
  },
  {
   "cell_type": "markdown",
   "id": "surface-spare",
   "metadata": {},
   "source": [
    "### Word Counts, Bigrams, Trigrams"
   ]
  },
  {
   "cell_type": "code",
   "execution_count": 17,
   "id": "olympic-constant",
   "metadata": {},
   "outputs": [
    {
     "data": {
      "image/png": "[encoded data removed]",
      "text/plain": [
       "<Figure size 432x288 with 1 Axes>"
      ]
     },
     "metadata": {
      "needs_background": "light"
     },
     "output_type": "display_data"
    }
   ],
   "source": [
    "#most common words\n",
    "cvect = CountVectorizer(stop_words='english')\n",
    "words = music_df['content'].sample(n=2000)\n",
    "words_vect = cvect.fit_transform(words)\n",
    "words_df = pd.DataFrame(words_vect.toarray(), columns=cvect.get_feature_names())\n",
    "words_df.sum().sort_values(ascending=False).head(15).plot(kind='barh').invert_yaxis();"
   ]
  },
  {
   "cell_type": "code",
   "execution_count": 18,
   "id": "extensive-dryer",
   "metadata": {},
   "outputs": [
    {
     "data": {
      "image/png": "[encoded data removed]",
      "text/plain": [
       "<Figure size 432x288 with 1 Axes>"
      ]
     },
     "metadata": {
      "needs_background": "light"
     },
     "output_type": "display_data"
    }
   ],
   "source": [
    "#most common bigrams\n",
    "#note this is from sample of data due to large vector size\n",
    "cvect_bigrams = CountVectorizer(ngram_range = (2, 2), stop_words='english')\n",
    "words = music_df['content'].sample(n=2000)\n",
    "words_vect_bigrams = cvect_bigrams.fit_transform(words)\n",
    "words_vect_bigrams_df = pd.DataFrame(words_vect_bigrams.toarray(), columns=cvect_bigrams.get_feature_names())\n",
    "words_vect_bigrams_df.sum().sort_values(ascending=False).head(15).plot(kind='barh').invert_yaxis();"
   ]
  },
  {
   "cell_type": "code",
   "execution_count": 19,
   "id": "mounted-dublin",
   "metadata": {},
   "outputs": [
    {
     "ename": "MemoryError",
     "evalue": "Unable to allocate 10.4 GiB for an array with shape (2000, 699916) and data type int64",
     "output_type": "error",
     "traceback": [
      "\u001b[1;31m---------------------------------------------------------------------------\u001b[0m",
      "\u001b[1;31mMemoryError\u001b[0m                               Traceback (most recent call last)",
      "\u001b[1;32m<ipython-input-19-cd6e51b0dd5e>\u001b[0m in \u001b[0;36m<module>\u001b[1;34m\u001b[0m\n\u001b[0;32m      4\u001b[0m \u001b[0mwords\u001b[0m \u001b[1;33m=\u001b[0m \u001b[0mmusic_df\u001b[0m\u001b[1;33m[\u001b[0m\u001b[1;34m'content'\u001b[0m\u001b[1;33m]\u001b[0m\u001b[1;33m.\u001b[0m\u001b[0msample\u001b[0m\u001b[1;33m(\u001b[0m\u001b[0mn\u001b[0m\u001b[1;33m=\u001b[0m\u001b[1;36m2000\u001b[0m\u001b[1;33m)\u001b[0m\u001b[1;33m\u001b[0m\u001b[1;33m\u001b[0m\u001b[0m\n\u001b[0;32m      5\u001b[0m \u001b[0mwords_vect_trigrams\u001b[0m \u001b[1;33m=\u001b[0m \u001b[0mcvect_trigrams\u001b[0m\u001b[1;33m.\u001b[0m\u001b[0mfit_transform\u001b[0m\u001b[1;33m(\u001b[0m\u001b[0mwords\u001b[0m\u001b[1;33m)\u001b[0m\u001b[1;33m\u001b[0m\u001b[1;33m\u001b[0m\u001b[0m\n\u001b[1;32m----> 6\u001b[1;33m \u001b[0mwords_vect_trigrams_df\u001b[0m \u001b[1;33m=\u001b[0m \u001b[0mpd\u001b[0m\u001b[1;33m.\u001b[0m\u001b[0mDataFrame\u001b[0m\u001b[1;33m(\u001b[0m\u001b[0mwords_vect_trigrams\u001b[0m\u001b[1;33m.\u001b[0m\u001b[0mtoarray\u001b[0m\u001b[1;33m(\u001b[0m\u001b[1;33m)\u001b[0m\u001b[1;33m,\u001b[0m \u001b[0mcolumns\u001b[0m\u001b[1;33m=\u001b[0m\u001b[0mcvect_trigrams\u001b[0m\u001b[1;33m.\u001b[0m\u001b[0mget_feature_names\u001b[0m\u001b[1;33m(\u001b[0m\u001b[1;33m)\u001b[0m\u001b[1;33m)\u001b[0m\u001b[1;33m\u001b[0m\u001b[1;33m\u001b[0m\u001b[0m\n\u001b[0m\u001b[0;32m      7\u001b[0m \u001b[0mwords_vect_trigrams_df\u001b[0m\u001b[1;33m.\u001b[0m\u001b[0msum\u001b[0m\u001b[1;33m(\u001b[0m\u001b[1;33m)\u001b[0m\u001b[1;33m.\u001b[0m\u001b[0msort_values\u001b[0m\u001b[1;33m(\u001b[0m\u001b[0mascending\u001b[0m\u001b[1;33m=\u001b[0m\u001b[1;32mFalse\u001b[0m\u001b[1;33m)\u001b[0m\u001b[1;33m.\u001b[0m\u001b[0mhead\u001b[0m\u001b[1;33m(\u001b[0m\u001b[1;36m15\u001b[0m\u001b[1;33m)\u001b[0m\u001b[1;33m.\u001b[0m\u001b[0mplot\u001b[0m\u001b[1;33m(\u001b[0m\u001b[0mkind\u001b[0m\u001b[1;33m=\u001b[0m\u001b[1;34m'barh'\u001b[0m\u001b[1;33m)\u001b[0m\u001b[1;33m.\u001b[0m\u001b[0minvert_yaxis\u001b[0m\u001b[1;33m(\u001b[0m\u001b[1;33m)\u001b[0m\u001b[1;33m;\u001b[0m\u001b[1;33m\u001b[0m\u001b[1;33m\u001b[0m\u001b[0m\n",
      "\u001b[1;32mc:\\programdata\\miniconda3\\envs\\newenv\\lib\\site-packages\\scipy\\sparse\\compressed.py\u001b[0m in \u001b[0;36mtoarray\u001b[1;34m(self, order, out)\u001b[0m\n\u001b[0;32m   1029\u001b[0m         \u001b[1;32mif\u001b[0m \u001b[0mout\u001b[0m \u001b[1;32mis\u001b[0m \u001b[1;32mNone\u001b[0m \u001b[1;32mand\u001b[0m \u001b[0morder\u001b[0m \u001b[1;32mis\u001b[0m \u001b[1;32mNone\u001b[0m\u001b[1;33m:\u001b[0m\u001b[1;33m\u001b[0m\u001b[1;33m\u001b[0m\u001b[0m\n\u001b[0;32m   1030\u001b[0m             \u001b[0morder\u001b[0m \u001b[1;33m=\u001b[0m \u001b[0mself\u001b[0m\u001b[1;33m.\u001b[0m\u001b[0m_swap\u001b[0m\u001b[1;33m(\u001b[0m\u001b[1;34m'cf'\u001b[0m\u001b[1;33m)\u001b[0m\u001b[1;33m[\u001b[0m\u001b[1;36m0\u001b[0m\u001b[1;33m]\u001b[0m\u001b[1;33m\u001b[0m\u001b[1;33m\u001b[0m\u001b[0m\n\u001b[1;32m-> 1031\u001b[1;33m         \u001b[0mout\u001b[0m \u001b[1;33m=\u001b[0m \u001b[0mself\u001b[0m\u001b[1;33m.\u001b[0m\u001b[0m_process_toarray_args\u001b[0m\u001b[1;33m(\u001b[0m\u001b[0morder\u001b[0m\u001b[1;33m,\u001b[0m \u001b[0mout\u001b[0m\u001b[1;33m)\u001b[0m\u001b[1;33m\u001b[0m\u001b[1;33m\u001b[0m\u001b[0m\n\u001b[0m\u001b[0;32m   1032\u001b[0m         \u001b[1;32mif\u001b[0m \u001b[1;32mnot\u001b[0m \u001b[1;33m(\u001b[0m\u001b[0mout\u001b[0m\u001b[1;33m.\u001b[0m\u001b[0mflags\u001b[0m\u001b[1;33m.\u001b[0m\u001b[0mc_contiguous\u001b[0m \u001b[1;32mor\u001b[0m \u001b[0mout\u001b[0m\u001b[1;33m.\u001b[0m\u001b[0mflags\u001b[0m\u001b[1;33m.\u001b[0m\u001b[0mf_contiguous\u001b[0m\u001b[1;33m)\u001b[0m\u001b[1;33m:\u001b[0m\u001b[1;33m\u001b[0m\u001b[1;33m\u001b[0m\u001b[0m\n\u001b[0;32m   1033\u001b[0m             \u001b[1;32mraise\u001b[0m \u001b[0mValueError\u001b[0m\u001b[1;33m(\u001b[0m\u001b[1;34m'Output array must be C or F contiguous'\u001b[0m\u001b[1;33m)\u001b[0m\u001b[1;33m\u001b[0m\u001b[1;33m\u001b[0m\u001b[0m\n",
      "\u001b[1;32mc:\\programdata\\miniconda3\\envs\\newenv\\lib\\site-packages\\scipy\\sparse\\base.py\u001b[0m in \u001b[0;36m_process_toarray_args\u001b[1;34m(self, order, out)\u001b[0m\n\u001b[0;32m   1200\u001b[0m             \u001b[1;32mreturn\u001b[0m \u001b[0mout\u001b[0m\u001b[1;33m\u001b[0m\u001b[1;33m\u001b[0m\u001b[0m\n\u001b[0;32m   1201\u001b[0m         \u001b[1;32melse\u001b[0m\u001b[1;33m:\u001b[0m\u001b[1;33m\u001b[0m\u001b[1;33m\u001b[0m\u001b[0m\n\u001b[1;32m-> 1202\u001b[1;33m             \u001b[1;32mreturn\u001b[0m \u001b[0mnp\u001b[0m\u001b[1;33m.\u001b[0m\u001b[0mzeros\u001b[0m\u001b[1;33m(\u001b[0m\u001b[0mself\u001b[0m\u001b[1;33m.\u001b[0m\u001b[0mshape\u001b[0m\u001b[1;33m,\u001b[0m \u001b[0mdtype\u001b[0m\u001b[1;33m=\u001b[0m\u001b[0mself\u001b[0m\u001b[1;33m.\u001b[0m\u001b[0mdtype\u001b[0m\u001b[1;33m,\u001b[0m \u001b[0morder\u001b[0m\u001b[1;33m=\u001b[0m\u001b[0morder\u001b[0m\u001b[1;33m)\u001b[0m\u001b[1;33m\u001b[0m\u001b[1;33m\u001b[0m\u001b[0m\n\u001b[0m\u001b[0;32m   1203\u001b[0m \u001b[1;33m\u001b[0m\u001b[0m\n\u001b[0;32m   1204\u001b[0m \u001b[1;33m\u001b[0m\u001b[0m\n",
      "\u001b[1;31mMemoryError\u001b[0m: Unable to allocate 10.4 GiB for an array with shape (2000, 699916) and data type int64"
     ]
    }
   ],
   "source": [
    "#most common trigrams\n",
    "#note this is from sample of data due to large vector size\n",
    "cvect_trigrams = CountVectorizer(ngram_range = (3, 3), stop_words='english')\n",
    "words = music_df['content'].sample(n=2000)\n",
    "words_vect_trigrams = cvect_trigrams.fit_transform(words)\n",
    "words_vect_trigrams_df = pd.DataFrame(words_vect_trigrams.toarray(), columns=cvect_trigrams.get_feature_names())\n",
    "words_vect_trigrams_df.sum().sort_values(ascending=False).head(15).plot(kind='barh').invert_yaxis();"
   ]
  },
  {
   "cell_type": "code",
   "execution_count": null,
   "id": "developed-criminal",
   "metadata": {},
   "outputs": [],
   "source": []
  }
 ],
 "metadata": {
  "kernelspec": {
   "display_name": "Python 3",
   "language": "python",
   "name": "python3"
  },
  "language_info": {
   "codemirror_mode": {
    "name": "ipython",
    "version": 3
   },
   "file_extension": ".py",
   "mimetype": "text/x-python",
   "name": "python",
   "nbconvert_exporter": "python",
   "pygments_lexer": "ipython3",
   "version": "3.8.5"
  }
 },
 "nbformat": 4,
 "nbformat_minor": 5
}
