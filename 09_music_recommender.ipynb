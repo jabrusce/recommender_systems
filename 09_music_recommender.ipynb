{
 "cells": [
  {
   "cell_type": "markdown",
   "id": "vocational-spiritual",
   "metadata": {},
   "source": [
    "# Music Album Recommender"
   ]
  },
  {
   "cell_type": "markdown",
   "id": "floppy-productivity",
   "metadata": {},
   "source": [
    "### Import libraries and Data"
   ]
  },
  {
   "cell_type": "code",
   "execution_count": 1,
   "id": "printable-slovak",
   "metadata": {},
   "outputs": [],
   "source": [
    "import pandas as pd\n",
    "import numpy as np\n",
    "import matplotlib.pyplot as plt\n",
    "from scipy import sparse\n",
    "from sklearn.metrics.pairwise import pairwise_distances, cosine_distances, cosine_similarity"
   ]
  },
  {
   "cell_type": "code",
   "execution_count": 7,
   "id": "experienced-tourist",
   "metadata": {},
   "outputs": [],
   "source": [
    "music_df_full = pd.read_csv('./data/clean/music_df.csv', index_col=0)\n",
    "\n",
    "#drop duplicates\n",
    "music_df_full.dropna(subset=['content'], inplace=True)\n",
    "music_df_full.dropna(subset=['title'], inplace=True)"
   ]
  },
  {
   "cell_type": "code",
   "execution_count": 8,
   "id": "incredible-lawrence",
   "metadata": {},
   "outputs": [
    {
     "data": {
      "text/plain": [
       "(257449, 10)"
      ]
     },
     "execution_count": 8,
     "metadata": {},
     "output_type": "execute_result"
    }
   ],
   "source": [
    "music_df_full.shape"
   ]
  },
  {
   "cell_type": "code",
   "execution_count": 9,
   "id": "timely-longer",
   "metadata": {},
   "outputs": [
    {
     "data": {
      "text/html": [
       "<div>\n",
       "<style scoped>\n",
       "    .dataframe tbody tr th:only-of-type {\n",
       "        vertical-align: middle;\n",
       "    }\n",
       "\n",
       "    .dataframe tbody tr th {\n",
       "        vertical-align: top;\n",
       "    }\n",
       "\n",
       "    .dataframe thead th {\n",
       "        text-align: right;\n",
       "    }\n",
       "</style>\n",
       "<table border=\"1\" class=\"dataframe\">\n",
       "  <thead>\n",
       "    <tr style=\"text-align: right;\">\n",
       "      <th></th>\n",
       "      <th>user_id</th>\n",
       "      <th>amazon-id</th>\n",
       "      <th>content</th>\n",
       "      <th>score</th>\n",
       "      <th>summary</th>\n",
       "      <th>genre</th>\n",
       "      <th>title</th>\n",
       "      <th>artist</th>\n",
       "      <th>first-release-year</th>\n",
       "      <th>related</th>\n",
       "    </tr>\n",
       "  </thead>\n",
       "  <tbody>\n",
       "    <tr>\n",
       "      <th>0</th>\n",
       "      <td>A1OFY4ATO7D13W</td>\n",
       "      <td>0026197898</td>\n",
       "      <td>Buy this album. Now.  Don't worry about the re...</td>\n",
       "      <td>5</td>\n",
       "      <td>PITCHFORK Eat your heart out!</td>\n",
       "      <td>Alternative Rock</td>\n",
       "      <td>Southern Fashion</td>\n",
       "      <td>The Sudden Passion</td>\n",
       "      <td>2012.0</td>\n",
       "      <td>NaN</td>\n",
       "    </tr>\n",
       "  </tbody>\n",
       "</table>\n",
       "</div>"
      ],
      "text/plain": [
       "          user_id   amazon-id  \\\n",
       "0  A1OFY4ATO7D13W  0026197898   \n",
       "\n",
       "                                             content  score  \\\n",
       "0  Buy this album. Now.  Don't worry about the re...      5   \n",
       "\n",
       "                         summary             genre             title  \\\n",
       "0  PITCHFORK Eat your heart out!  Alternative Rock  Southern Fashion   \n",
       "\n",
       "               artist  first-release-year related  \n",
       "0  The Sudden Passion              2012.0     NaN  "
      ]
     },
     "execution_count": 9,
     "metadata": {},
     "output_type": "execute_result"
    }
   ],
   "source": [
    "music_df_full.head(1)"
   ]
  },
  {
   "cell_type": "code",
   "execution_count": 12,
   "id": "sapphire-vulnerability",
   "metadata": {},
   "outputs": [],
   "source": [
    "# subset of full dataset for recommender\n",
    "music_df = music_df_full[['title', 'amazon-id', 'user_id', 'score']]"
   ]
  },
  {
   "cell_type": "code",
   "execution_count": 13,
   "id": "steady-graduation",
   "metadata": {},
   "outputs": [
    {
     "data": {
      "text/html": [
       "<div>\n",
       "<style scoped>\n",
       "    .dataframe tbody tr th:only-of-type {\n",
       "        vertical-align: middle;\n",
       "    }\n",
       "\n",
       "    .dataframe tbody tr th {\n",
       "        vertical-align: top;\n",
       "    }\n",
       "\n",
       "    .dataframe thead th {\n",
       "        text-align: right;\n",
       "    }\n",
       "</style>\n",
       "<table border=\"1\" class=\"dataframe\">\n",
       "  <thead>\n",
       "    <tr style=\"text-align: right;\">\n",
       "      <th></th>\n",
       "      <th>title</th>\n",
       "      <th>amazon-id</th>\n",
       "      <th>user_id</th>\n",
       "      <th>score</th>\n",
       "    </tr>\n",
       "  </thead>\n",
       "  <tbody>\n",
       "    <tr>\n",
       "      <th>0</th>\n",
       "      <td>Southern Fashion</td>\n",
       "      <td>0026197898</td>\n",
       "      <td>A1OFY4ATO7D13W</td>\n",
       "      <td>5</td>\n",
       "    </tr>\n",
       "    <tr>\n",
       "      <th>1</th>\n",
       "      <td>Southern Fashion</td>\n",
       "      <td>0026197898</td>\n",
       "      <td>A2KH83L1F70QR8</td>\n",
       "      <td>5</td>\n",
       "    </tr>\n",
       "    <tr>\n",
       "      <th>2</th>\n",
       "      <td>Meditation For Success: In Body &amp; Mind Rejuven...</td>\n",
       "      <td>0615205399</td>\n",
       "      <td>A1KGXC7IRLVJR3</td>\n",
       "      <td>5</td>\n",
       "    </tr>\n",
       "    <tr>\n",
       "      <th>3</th>\n",
       "      <td>Meditation For Success: In Body &amp; Mind Rejuven...</td>\n",
       "      <td>0615205399</td>\n",
       "      <td>A1BT6LQ9NY6RO3</td>\n",
       "      <td>5</td>\n",
       "    </tr>\n",
       "    <tr>\n",
       "      <th>4</th>\n",
       "      <td>Meditation For Success: In Body &amp; Mind Rejuven...</td>\n",
       "      <td>0615205399</td>\n",
       "      <td>A206OKO2FE2IPL</td>\n",
       "      <td>5</td>\n",
       "    </tr>\n",
       "    <tr>\n",
       "      <th>...</th>\n",
       "      <td>...</td>\n",
       "      <td>...</td>\n",
       "      <td>...</td>\n",
       "      <td>...</td>\n",
       "    </tr>\n",
       "    <tr>\n",
       "      <th>263520</th>\n",
       "      <td>The Original Sounds of the Smokies: Volume One</td>\n",
       "      <td>B00LG9GR3S</td>\n",
       "      <td>A3RKUPYX1RC9WO</td>\n",
       "      <td>5</td>\n",
       "    </tr>\n",
       "    <tr>\n",
       "      <th>263521</th>\n",
       "      <td>The Original Sounds of the Smokies: Volume One</td>\n",
       "      <td>B00LG9GR3S</td>\n",
       "      <td>A122G17YDFX176</td>\n",
       "      <td>5</td>\n",
       "    </tr>\n",
       "    <tr>\n",
       "      <th>263522</th>\n",
       "      <td>The Original Sounds of the Smokies: Volume One</td>\n",
       "      <td>B00LG9GR3S</td>\n",
       "      <td>A26QVK35BBBKU8</td>\n",
       "      <td>5</td>\n",
       "    </tr>\n",
       "    <tr>\n",
       "      <th>263523</th>\n",
       "      <td>The Original Sounds of the Smokies: Volume One</td>\n",
       "      <td>B00LG9GR3S</td>\n",
       "      <td>A1V76VMZ0N3H5W</td>\n",
       "      <td>5</td>\n",
       "    </tr>\n",
       "    <tr>\n",
       "      <th>263524</th>\n",
       "      <td>The Sun Season</td>\n",
       "      <td>B00LKZBEDQ</td>\n",
       "      <td>A3VKP3B68JX4SB</td>\n",
       "      <td>5</td>\n",
       "    </tr>\n",
       "  </tbody>\n",
       "</table>\n",
       "<p>257449 rows × 4 columns</p>\n",
       "</div>"
      ],
      "text/plain": [
       "                                                    title   amazon-id  \\\n",
       "0                                        Southern Fashion  0026197898   \n",
       "1                                        Southern Fashion  0026197898   \n",
       "2       Meditation For Success: In Body & Mind Rejuven...  0615205399   \n",
       "3       Meditation For Success: In Body & Mind Rejuven...  0615205399   \n",
       "4       Meditation For Success: In Body & Mind Rejuven...  0615205399   \n",
       "...                                                   ...         ...   \n",
       "263520     The Original Sounds of the Smokies: Volume One  B00LG9GR3S   \n",
       "263521     The Original Sounds of the Smokies: Volume One  B00LG9GR3S   \n",
       "263522     The Original Sounds of the Smokies: Volume One  B00LG9GR3S   \n",
       "263523     The Original Sounds of the Smokies: Volume One  B00LG9GR3S   \n",
       "263524                                     The Sun Season  B00LKZBEDQ   \n",
       "\n",
       "               user_id  score  \n",
       "0       A1OFY4ATO7D13W      5  \n",
       "1       A2KH83L1F70QR8      5  \n",
       "2       A1KGXC7IRLVJR3      5  \n",
       "3       A1BT6LQ9NY6RO3      5  \n",
       "4       A206OKO2FE2IPL      5  \n",
       "...                ...    ...  \n",
       "263520  A3RKUPYX1RC9WO      5  \n",
       "263521  A122G17YDFX176      5  \n",
       "263522  A26QVK35BBBKU8      5  \n",
       "263523  A1V76VMZ0N3H5W      5  \n",
       "263524  A3VKP3B68JX4SB      5  \n",
       "\n",
       "[257449 rows x 4 columns]"
      ]
     },
     "execution_count": 13,
     "metadata": {},
     "output_type": "execute_result"
    }
   ],
   "source": [
    "music_df"
   ]
  },
  {
   "cell_type": "code",
   "execution_count": 15,
   "id": "conservative-absolute",
   "metadata": {},
   "outputs": [],
   "source": [
    "# #create a sample dataframe with less entries, sample 100,000 reviews\n",
    "# music_df_subset = music_df.sample(n=30000, replace=False)\n",
    "# music_df_subset.shape"
   ]
  },
  {
   "cell_type": "code",
   "execution_count": 17,
   "id": "fluid-toner",
   "metadata": {},
   "outputs": [
    {
     "data": {
      "text/plain": [
       "(9116, 9)"
      ]
     },
     "execution_count": 17,
     "metadata": {},
     "output_type": "execute_result"
    }
   ],
   "source": [
    "#create a sample dataframe with less entries, only show albums with 5 or more reviews\n",
    "music_df_subset = music_df_full.groupby('title').count()\n",
    "music_df_subset = music_df_subset[music_df_subset['content'] >=5]\n",
    "music_df_subset.shape"
   ]
  },
  {
   "cell_type": "markdown",
   "id": "functional-result",
   "metadata": {},
   "source": [
    "### Prepare recommender using cosine distances"
   ]
  },
  {
   "cell_type": "code",
   "execution_count": 18,
   "id": "separate-lying",
   "metadata": {},
   "outputs": [],
   "source": [
    "#pivot table from the books_df dataframe\n",
    "pivot_df = pd.pivot_table(music_df_subset, index='title', columns='user_id', values='score')\n",
    "#create sparse matrix\n",
    "sparse_df = sparse.csr_matrix(pivot_df.fillna(0))\n",
    "#calculate cosine distances for similarities\n",
    "recommender = pairwise_distances(sparse_df, metric='cosine')\n",
    "#export as a dataframe\n",
    "rec_df = pd.DataFrame(recommender, columns=pivot_df.index, index=pivot_df.index)"
   ]
  },
  {
   "cell_type": "code",
   "execution_count": 20,
   "id": "cleared-paris",
   "metadata": {},
   "outputs": [],
   "source": [
    "# get average rating, number of players, playing time, etc to filter by in app, group by game ID\n",
    "music_info = music_df_full.groupby('title').mean()\n",
    "music_info.drop(columns=['first-release-year'], inplace=True)\n",
    "music_info.rename(columns={'score': 'average_rating'}, inplace=True)\n",
    "\n",
    "rec_df = pd.merge(left = rec_df, right= music_info, right_index = True, left_index = True)\n",
    "# rec_df.insert(0, 'artist_name', )\n",
    "rec_df.insert(0, 'album_name', rec_df.index)"
   ]
  },
  {
   "cell_type": "markdown",
   "id": "grave-garage",
   "metadata": {},
   "source": [
    "### Define book Recommender function"
   ]
  },
  {
   "cell_type": "code",
   "execution_count": 23,
   "id": "electoral-raise",
   "metadata": {},
   "outputs": [],
   "source": [
    "# music_df_full.sample(n=5)"
   ]
  },
  {
   "cell_type": "code",
   "execution_count": 26,
   "id": "jewish-fitness",
   "metadata": {},
   "outputs": [
    {
     "data": {
      "text/html": [
       "<div>\n",
       "<style scoped>\n",
       "    .dataframe tbody tr th:only-of-type {\n",
       "        vertical-align: middle;\n",
       "    }\n",
       "\n",
       "    .dataframe tbody tr th {\n",
       "        vertical-align: top;\n",
       "    }\n",
       "\n",
       "    .dataframe thead th {\n",
       "        text-align: right;\n",
       "    }\n",
       "</style>\n",
       "<table border=\"1\" class=\"dataframe\">\n",
       "  <thead>\n",
       "    <tr style=\"text-align: right;\">\n",
       "      <th></th>\n",
       "      <th>user_id</th>\n",
       "      <th>amazon-id</th>\n",
       "      <th>content</th>\n",
       "      <th>score</th>\n",
       "      <th>summary</th>\n",
       "      <th>genre</th>\n",
       "      <th>title</th>\n",
       "      <th>artist</th>\n",
       "      <th>first-release-year</th>\n",
       "      <th>related</th>\n",
       "    </tr>\n",
       "  </thead>\n",
       "  <tbody>\n",
       "  </tbody>\n",
       "</table>\n",
       "</div>"
      ],
      "text/plain": [
       "Empty DataFrame\n",
       "Columns: [user_id, amazon-id, content, score, summary, genre, title, artist, first-release-year, related]\n",
       "Index: []"
      ]
     },
     "execution_count": 26,
     "metadata": {},
     "output_type": "execute_result"
    }
   ],
   "source": [
    "music_df_full[music_df_full['artist'] == 'fun.']"
   ]
  },
  {
   "cell_type": "code",
   "execution_count": 28,
   "id": "stunning-signal",
   "metadata": {},
   "outputs": [
    {
     "data": {
      "text/html": [
       "<div>\n",
       "<style scoped>\n",
       "    .dataframe tbody tr th:only-of-type {\n",
       "        vertical-align: middle;\n",
       "    }\n",
       "\n",
       "    .dataframe tbody tr th {\n",
       "        vertical-align: top;\n",
       "    }\n",
       "\n",
       "    .dataframe thead th {\n",
       "        text-align: right;\n",
       "    }\n",
       "</style>\n",
       "<table border=\"1\" class=\"dataframe\">\n",
       "  <thead>\n",
       "    <tr style=\"text-align: right;\">\n",
       "      <th></th>\n",
       "      <th>user_id</th>\n",
       "      <th>amazon-id</th>\n",
       "      <th>content</th>\n",
       "      <th>score</th>\n",
       "      <th>summary</th>\n",
       "      <th>genre</th>\n",
       "      <th>title</th>\n",
       "      <th>artist</th>\n",
       "      <th>first-release-year</th>\n",
       "      <th>related</th>\n",
       "    </tr>\n",
       "  </thead>\n",
       "  <tbody>\n",
       "  </tbody>\n",
       "</table>\n",
       "</div>"
      ],
      "text/plain": [
       "Empty DataFrame\n",
       "Columns: [user_id, amazon-id, content, score, summary, genre, title, artist, first-release-year, related]\n",
       "Index: []"
      ]
     },
     "execution_count": 28,
     "metadata": {},
     "output_type": "execute_result"
    }
   ],
   "source": [
    "music_df_full[music_df_full['amazon-id'] =='B01HJG3VZI']"
   ]
  },
  {
   "cell_type": "code",
   "execution_count": 25,
   "id": "driven-kelly",
   "metadata": {},
   "outputs": [
    {
     "data": {
      "text/plain": [
       "(257449, 10)"
      ]
     },
     "execution_count": 25,
     "metadata": {},
     "output_type": "execute_result"
    }
   ],
   "source": [
    "music_df_full.shape"
   ]
  },
  {
   "cell_type": "code",
   "execution_count": 47,
   "id": "british-insured",
   "metadata": {},
   "outputs": [
    {
     "data": {
      "text/plain": [
       "'Anthology 1 '"
      ]
     },
     "execution_count": 47,
     "metadata": {},
     "output_type": "execute_result"
    }
   ],
   "source": [
    "music_df_full.title[23772]"
   ]
  },
  {
   "cell_type": "code",
   "execution_count": 46,
   "id": "through-certification",
   "metadata": {},
   "outputs": [
    {
     "data": {
      "text/html": [
       "<div>\n",
       "<style scoped>\n",
       "    .dataframe tbody tr th:only-of-type {\n",
       "        vertical-align: middle;\n",
       "    }\n",
       "\n",
       "    .dataframe tbody tr th {\n",
       "        vertical-align: top;\n",
       "    }\n",
       "\n",
       "    .dataframe thead th {\n",
       "        text-align: right;\n",
       "    }\n",
       "</style>\n",
       "<table border=\"1\" class=\"dataframe\">\n",
       "  <thead>\n",
       "    <tr style=\"text-align: right;\">\n",
       "      <th></th>\n",
       "      <th>user_id</th>\n",
       "      <th>amazon-id</th>\n",
       "      <th>content</th>\n",
       "      <th>score</th>\n",
       "      <th>summary</th>\n",
       "      <th>genre</th>\n",
       "      <th>title</th>\n",
       "      <th>artist</th>\n",
       "      <th>first-release-year</th>\n",
       "      <th>related</th>\n",
       "    </tr>\n",
       "  </thead>\n",
       "  <tbody>\n",
       "    <tr>\n",
       "      <th>23772</th>\n",
       "      <td>AL2VDE4LO4ESR</td>\n",
       "      <td>B000002TYX</td>\n",
       "      <td>Anthology 1 was the first two-disk set release...</td>\n",
       "      <td>4</td>\n",
       "      <td>Better for study of Beatles history than intro...</td>\n",
       "      <td>Rock</td>\n",
       "      <td>Anthology 1</td>\n",
       "      <td>The Beatles</td>\n",
       "      <td>1995.0</td>\n",
       "      <td>{'also_bought': ['B000002TYZ', 'B000002TZ2', '...</td>\n",
       "    </tr>\n",
       "    <tr>\n",
       "      <th>23773</th>\n",
       "      <td>A3JXOXKWOIETIY</td>\n",
       "      <td>B000002TYX</td>\n",
       "      <td>Anthology I starts with &amp;quot;Free as a Bird&amp;q...</td>\n",
       "      <td>5</td>\n",
       "      <td>A Must Listen for all fans</td>\n",
       "      <td>Rock</td>\n",
       "      <td>Anthology 1</td>\n",
       "      <td>The Beatles</td>\n",
       "      <td>1995.0</td>\n",
       "      <td>{'also_bought': ['B000002TYZ', 'B000002TZ2', '...</td>\n",
       "    </tr>\n",
       "    <tr>\n",
       "      <th>23774</th>\n",
       "      <td>A1V3LVQVGH5TK5</td>\n",
       "      <td>B000002TYX</td>\n",
       "      <td>This album is a lovely compliation of the earl...</td>\n",
       "      <td>3</td>\n",
       "      <td>More compilation than rare versions</td>\n",
       "      <td>Rock</td>\n",
       "      <td>Anthology 1</td>\n",
       "      <td>The Beatles</td>\n",
       "      <td>1995.0</td>\n",
       "      <td>{'also_bought': ['B000002TYZ', 'B000002TZ2', '...</td>\n",
       "    </tr>\n",
       "    <tr>\n",
       "      <th>23775</th>\n",
       "      <td>A1GAHLV8D744HK</td>\n",
       "      <td>B000002TYX</td>\n",
       "      <td>Great addition to Beatles discography!Vinyl pr...</td>\n",
       "      <td>5</td>\n",
       "      <td>Great addition to Beatles discography!</td>\n",
       "      <td>Rock</td>\n",
       "      <td>Anthology 1</td>\n",
       "      <td>The Beatles</td>\n",
       "      <td>1995.0</td>\n",
       "      <td>{'also_bought': ['B000002TYZ', 'B000002TZ2', '...</td>\n",
       "    </tr>\n",
       "    <tr>\n",
       "      <th>23776</th>\n",
       "      <td>A1K6BI4CRSGC3P</td>\n",
       "      <td>B000002TYX</td>\n",
       "      <td>The whole Anthology is spectacular!!  I bought...</td>\n",
       "      <td>5</td>\n",
       "      <td>Listen to Shout! w/ earphones</td>\n",
       "      <td>Rock</td>\n",
       "      <td>Anthology 1</td>\n",
       "      <td>The Beatles</td>\n",
       "      <td>1995.0</td>\n",
       "      <td>{'also_bought': ['B000002TYZ', 'B000002TZ2', '...</td>\n",
       "    </tr>\n",
       "    <tr>\n",
       "      <th>...</th>\n",
       "      <td>...</td>\n",
       "      <td>...</td>\n",
       "      <td>...</td>\n",
       "      <td>...</td>\n",
       "      <td>...</td>\n",
       "      <td>...</td>\n",
       "      <td>...</td>\n",
       "      <td>...</td>\n",
       "      <td>...</td>\n",
       "      <td>...</td>\n",
       "    </tr>\n",
       "    <tr>\n",
       "      <th>253686</th>\n",
       "      <td>A26Q9TVAJFM1BC</td>\n",
       "      <td>B00CRS941Y</td>\n",
       "      <td>Had some minor defects but that is to be expec...</td>\n",
       "      <td>4</td>\n",
       "      <td>Still works great after all the years of age.</td>\n",
       "      <td>Rock</td>\n",
       "      <td>REVOLVER by The Beatles, Capitol Records, Viny...</td>\n",
       "      <td>The Beatles</td>\n",
       "      <td>NaN</td>\n",
       "      <td>{'also_bought': ['B0025KVLTW', 'B0041KVZ1I', '...</td>\n",
       "    </tr>\n",
       "    <tr>\n",
       "      <th>253687</th>\n",
       "      <td>AUFR5X4GT1PT8</td>\n",
       "      <td>B00CRS941Y</td>\n",
       "      <td>Record played great.  Cover very shabby.  Reco...</td>\n",
       "      <td>4</td>\n",
       "      <td>Good find on old favorite.</td>\n",
       "      <td>Rock</td>\n",
       "      <td>REVOLVER by The Beatles, Capitol Records, Viny...</td>\n",
       "      <td>The Beatles</td>\n",
       "      <td>NaN</td>\n",
       "      <td>{'also_bought': ['B0025KVLTW', 'B0041KVZ1I', '...</td>\n",
       "    </tr>\n",
       "    <tr>\n",
       "      <th>253688</th>\n",
       "      <td>AFEN54UGJQOK9</td>\n",
       "      <td>B00CRS941Y</td>\n",
       "      <td>In my opinion there are a few albums that over...</td>\n",
       "      <td>5</td>\n",
       "      <td>GRANNY SMITH PART FRIGGEN TWO!!!!!!!</td>\n",
       "      <td>Rock</td>\n",
       "      <td>REVOLVER by The Beatles, Capitol Records, Viny...</td>\n",
       "      <td>The Beatles</td>\n",
       "      <td>NaN</td>\n",
       "      <td>{'also_bought': ['B0025KVLTW', 'B0041KVZ1I', '...</td>\n",
       "    </tr>\n",
       "    <tr>\n",
       "      <th>257873</th>\n",
       "      <td>A3KV9KSIBU2N9E</td>\n",
       "      <td>B00EWTRYZE</td>\n",
       "      <td>The packaging isn't deluxe but the songs are. ...</td>\n",
       "      <td>5</td>\n",
       "      <td>Excellent A-Z Collection</td>\n",
       "      <td>Rock</td>\n",
       "      <td>The Beatles and Solo Greatest Hits Collection ...</td>\n",
       "      <td>The Beatles</td>\n",
       "      <td>NaN</td>\n",
       "      <td>{'also_viewed': ['B00AP5KRFI', 'B0021LHOIM', '...</td>\n",
       "    </tr>\n",
       "    <tr>\n",
       "      <th>257874</th>\n",
       "      <td>A19BGNJJIBN3MQ</td>\n",
       "      <td>B00EWTRYZE</td>\n",
       "      <td>Ah!! What hasn't already been said about my fa...</td>\n",
       "      <td>5</td>\n",
       "      <td>the beatles &amp; solo colo collection.</td>\n",
       "      <td>Rock</td>\n",
       "      <td>The Beatles and Solo Greatest Hits Collection ...</td>\n",
       "      <td>The Beatles</td>\n",
       "      <td>NaN</td>\n",
       "      <td>{'also_viewed': ['B00AP5KRFI', 'B0021LHOIM', '...</td>\n",
       "    </tr>\n",
       "  </tbody>\n",
       "</table>\n",
       "<p>11429 rows × 10 columns</p>\n",
       "</div>"
      ],
      "text/plain": [
       "               user_id   amazon-id  \\\n",
       "23772    AL2VDE4LO4ESR  B000002TYX   \n",
       "23773   A3JXOXKWOIETIY  B000002TYX   \n",
       "23774   A1V3LVQVGH5TK5  B000002TYX   \n",
       "23775   A1GAHLV8D744HK  B000002TYX   \n",
       "23776   A1K6BI4CRSGC3P  B000002TYX   \n",
       "...                ...         ...   \n",
       "253686  A26Q9TVAJFM1BC  B00CRS941Y   \n",
       "253687   AUFR5X4GT1PT8  B00CRS941Y   \n",
       "253688   AFEN54UGJQOK9  B00CRS941Y   \n",
       "257873  A3KV9KSIBU2N9E  B00EWTRYZE   \n",
       "257874  A19BGNJJIBN3MQ  B00EWTRYZE   \n",
       "\n",
       "                                                  content  score  \\\n",
       "23772   Anthology 1 was the first two-disk set release...      4   \n",
       "23773   Anthology I starts with &quot;Free as a Bird&q...      5   \n",
       "23774   This album is a lovely compliation of the earl...      3   \n",
       "23775   Great addition to Beatles discography!Vinyl pr...      5   \n",
       "23776   The whole Anthology is spectacular!!  I bought...      5   \n",
       "...                                                   ...    ...   \n",
       "253686  Had some minor defects but that is to be expec...      4   \n",
       "253687  Record played great.  Cover very shabby.  Reco...      4   \n",
       "253688  In my opinion there are a few albums that over...      5   \n",
       "257873  The packaging isn't deluxe but the songs are. ...      5   \n",
       "257874  Ah!! What hasn't already been said about my fa...      5   \n",
       "\n",
       "                                                  summary genre  \\\n",
       "23772   Better for study of Beatles history than intro...  Rock   \n",
       "23773                          A Must Listen for all fans  Rock   \n",
       "23774                 More compilation than rare versions  Rock   \n",
       "23775              Great addition to Beatles discography!  Rock   \n",
       "23776                       Listen to Shout! w/ earphones  Rock   \n",
       "...                                                   ...   ...   \n",
       "253686      Still works great after all the years of age.  Rock   \n",
       "253687                         Good find on old favorite.  Rock   \n",
       "253688               GRANNY SMITH PART FRIGGEN TWO!!!!!!!  Rock   \n",
       "257873                           Excellent A-Z Collection  Rock   \n",
       "257874                the beatles & solo colo collection.  Rock   \n",
       "\n",
       "                                                    title       artist  \\\n",
       "23772                                        Anthology 1   The Beatles   \n",
       "23773                                        Anthology 1   The Beatles   \n",
       "23774                                        Anthology 1   The Beatles   \n",
       "23775                                        Anthology 1   The Beatles   \n",
       "23776                                        Anthology 1   The Beatles   \n",
       "...                                                   ...          ...   \n",
       "253686  REVOLVER by The Beatles, Capitol Records, Viny...  The Beatles   \n",
       "253687  REVOLVER by The Beatles, Capitol Records, Viny...  The Beatles   \n",
       "253688  REVOLVER by The Beatles, Capitol Records, Viny...  The Beatles   \n",
       "257873  The Beatles and Solo Greatest Hits Collection ...  The Beatles   \n",
       "257874  The Beatles and Solo Greatest Hits Collection ...  The Beatles   \n",
       "\n",
       "        first-release-year                                            related  \n",
       "23772               1995.0  {'also_bought': ['B000002TYZ', 'B000002TZ2', '...  \n",
       "23773               1995.0  {'also_bought': ['B000002TYZ', 'B000002TZ2', '...  \n",
       "23774               1995.0  {'also_bought': ['B000002TYZ', 'B000002TZ2', '...  \n",
       "23775               1995.0  {'also_bought': ['B000002TYZ', 'B000002TZ2', '...  \n",
       "23776               1995.0  {'also_bought': ['B000002TYZ', 'B000002TZ2', '...  \n",
       "...                    ...                                                ...  \n",
       "253686                 NaN  {'also_bought': ['B0025KVLTW', 'B0041KVZ1I', '...  \n",
       "253687                 NaN  {'also_bought': ['B0025KVLTW', 'B0041KVZ1I', '...  \n",
       "253688                 NaN  {'also_bought': ['B0025KVLTW', 'B0041KVZ1I', '...  \n",
       "257873                 NaN  {'also_viewed': ['B00AP5KRFI', 'B0021LHOIM', '...  \n",
       "257874                 NaN  {'also_viewed': ['B00AP5KRFI', 'B0021LHOIM', '...  \n",
       "\n",
       "[11429 rows x 10 columns]"
      ]
     },
     "execution_count": 46,
     "metadata": {},
     "output_type": "execute_result"
    }
   ],
   "source": [
    "music_df_full[music_df_full['artist']=='The Beatles']"
   ]
  },
  {
   "cell_type": "code",
   "execution_count": 45,
   "id": "olive-emission",
   "metadata": {},
   "outputs": [
    {
     "data": {
      "text/html": [
       "<div>\n",
       "<style scoped>\n",
       "    .dataframe tbody tr th:only-of-type {\n",
       "        vertical-align: middle;\n",
       "    }\n",
       "\n",
       "    .dataframe tbody tr th {\n",
       "        vertical-align: top;\n",
       "    }\n",
       "\n",
       "    .dataframe thead th {\n",
       "        text-align: right;\n",
       "    }\n",
       "</style>\n",
       "<table border=\"1\" class=\"dataframe\">\n",
       "  <thead>\n",
       "    <tr style=\"text-align: right;\">\n",
       "      <th></th>\n",
       "      <th>user_id</th>\n",
       "      <th>amazon-id</th>\n",
       "      <th>content</th>\n",
       "      <th>score</th>\n",
       "      <th>summary</th>\n",
       "      <th>genre</th>\n",
       "      <th>title</th>\n",
       "      <th>artist</th>\n",
       "      <th>first-release-year</th>\n",
       "      <th>related</th>\n",
       "    </tr>\n",
       "  </thead>\n",
       "  <tbody>\n",
       "    <tr>\n",
       "      <th>0</th>\n",
       "      <td>A1OFY4ATO7D13W</td>\n",
       "      <td>0026197898</td>\n",
       "      <td>Buy this album. Now.  Don't worry about the re...</td>\n",
       "      <td>5</td>\n",
       "      <td>PITCHFORK Eat your heart out!</td>\n",
       "      <td>Alternative Rock</td>\n",
       "      <td>Southern Fashion</td>\n",
       "      <td>The Sudden Passion</td>\n",
       "      <td>2012.0</td>\n",
       "      <td>NaN</td>\n",
       "    </tr>\n",
       "    <tr>\n",
       "      <th>1</th>\n",
       "      <td>A2KH83L1F70QR8</td>\n",
       "      <td>0026197898</td>\n",
       "      <td>The Sudden Passion did a great job with this o...</td>\n",
       "      <td>5</td>\n",
       "      <td>Americana from the Southlands</td>\n",
       "      <td>Alternative Rock</td>\n",
       "      <td>Southern Fashion</td>\n",
       "      <td>The Sudden Passion</td>\n",
       "      <td>2012.0</td>\n",
       "      <td>NaN</td>\n",
       "    </tr>\n",
       "  </tbody>\n",
       "</table>\n",
       "</div>"
      ],
      "text/plain": [
       "          user_id   amazon-id  \\\n",
       "0  A1OFY4ATO7D13W  0026197898   \n",
       "1  A2KH83L1F70QR8  0026197898   \n",
       "\n",
       "                                             content  score  \\\n",
       "0  Buy this album. Now.  Don't worry about the re...      5   \n",
       "1  The Sudden Passion did a great job with this o...      5   \n",
       "\n",
       "                         summary             genre             title  \\\n",
       "0  PITCHFORK Eat your heart out!  Alternative Rock  Southern Fashion   \n",
       "1  Americana from the Southlands  Alternative Rock  Southern Fashion   \n",
       "\n",
       "               artist  first-release-year related  \n",
       "0  The Sudden Passion              2012.0     NaN  \n",
       "1  The Sudden Passion              2012.0     NaN  "
      ]
     },
     "execution_count": 45,
     "metadata": {},
     "output_type": "execute_result"
    }
   ],
   "source": [
    "music_df_full[music_df_full['title']=='Southern Fashion']"
   ]
  },
  {
   "cell_type": "code",
   "execution_count": 21,
   "id": "acquired-huntington",
   "metadata": {},
   "outputs": [],
   "source": [
    "def album_recommender(album_title):\n",
    "    return 1- rec_df[album_title].sort_values()[1:6]"
   ]
  },
  {
   "cell_type": "code",
   "execution_count": 22,
   "id": "worldwide-sigma",
   "metadata": {},
   "outputs": [
    {
     "data": {
      "text/plain": [
       "title\n",
       "Anthology 1                                                                                                                 1.0\n",
       "Prokofiev: Peter And The Wolf / Saint-Saëns: Carnival Of The Animals                                                        0.0\n",
       "Prokofiev: Peter and the Wolf                                                                                               0.0\n",
       "Prokofiev: Peter and the Wolf, Britten: The Young Person's Guide to the Orchestra, Saint-Saens: Carnival of the Animals     0.0\n",
       "Prokofiev: Piano Concertos Nos. 1 & 3 / Bartok: Piano Concerto No. 3                                                        0.0\n",
       "Name: Anthology 1 , dtype: float64"
      ]
     },
     "execution_count": 22,
     "metadata": {},
     "output_type": "execute_result"
    }
   ],
   "source": [
    "album_recommender('Anthology 1 ')"
   ]
  },
  {
   "cell_type": "code",
   "execution_count": 102,
   "id": "graduate-infrastructure",
   "metadata": {},
   "outputs": [],
   "source": [
    "# save rec_df for use in streamlit app\n",
    "rec_df.to_pickle('./streamlit_app/data/albums.pk1')"
   ]
  }
 ],
 "metadata": {
  "kernelspec": {
   "display_name": "Python 3",
   "language": "python",
   "name": "python3"
  },
  "language_info": {
   "codemirror_mode": {
    "name": "ipython",
    "version": 3
   },
   "file_extension": ".py",
   "mimetype": "text/x-python",
   "name": "python",
   "nbconvert_exporter": "python",
   "pygments_lexer": "ipython3",
   "version": "3.8.5"
  }
 },
 "nbformat": 4,
 "nbformat_minor": 5
}
