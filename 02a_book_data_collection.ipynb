{
 "cells": [
  {
   "cell_type": "markdown",
   "id": "adult-recovery",
   "metadata": {},
   "source": [
    "# Book Ratings Data Collection & Cleaning"
   ]
  },
  {
   "cell_type": "markdown",
   "id": "metallic-structure",
   "metadata": {},
   "source": [
    "### Import libraries and datasets"
   ]
  },
  {
   "cell_type": "code",
   "execution_count": 1,
   "id": "coordinate-victory",
   "metadata": {},
   "outputs": [],
   "source": [
    "import pandas as pd\n",
    "import numpy as np"
   ]
  },
  {
   "cell_type": "markdown",
   "id": "accessory-vinyl",
   "metadata": {},
   "source": [
    "Dataset available at: \n",
    "    https://www.kaggle.com/bahramjannesarr/goodreads-book-datasets-10m?select=user_rating_0_to_1000.csv"
   ]
  },
  {
   "cell_type": "code",
   "execution_count": 2,
   "id": "reverse-timothy",
   "metadata": {},
   "outputs": [
    {
     "data": {
      "text/html": [
       "<div>\n",
       "<style scoped>\n",
       "    .dataframe tbody tr th:only-of-type {\n",
       "        vertical-align: middle;\n",
       "    }\n",
       "\n",
       "    .dataframe tbody tr th {\n",
       "        vertical-align: top;\n",
       "    }\n",
       "\n",
       "    .dataframe thead th {\n",
       "        text-align: right;\n",
       "    }\n",
       "</style>\n",
       "<table border=\"1\" class=\"dataframe\">\n",
       "  <thead>\n",
       "    <tr style=\"text-align: right;\">\n",
       "      <th></th>\n",
       "      <th>ID</th>\n",
       "      <th>Name</th>\n",
       "      <th>Rating</th>\n",
       "    </tr>\n",
       "  </thead>\n",
       "  <tbody>\n",
       "    <tr>\n",
       "      <th>0</th>\n",
       "      <td>1</td>\n",
       "      <td>Agile Web Development with Rails: A Pragmatic ...</td>\n",
       "      <td>it was amazing</td>\n",
       "    </tr>\n",
       "    <tr>\n",
       "      <th>1</th>\n",
       "      <td>1</td>\n",
       "      <td>The Restaurant at the End of the Universe (Hit...</td>\n",
       "      <td>it was amazing</td>\n",
       "    </tr>\n",
       "  </tbody>\n",
       "</table>\n",
       "</div>"
      ],
      "text/plain": [
       "   ID                                               Name          Rating\n",
       "0   1  Agile Web Development with Rails: A Pragmatic ...  it was amazing\n",
       "1   1  The Restaurant at the End of the Universe (Hit...  it was amazing"
      ]
     },
     "execution_count": 2,
     "metadata": {},
     "output_type": "execute_result"
    }
   ],
   "source": [
    "#import raw data\n",
    "books = pd.read_csv('./data/raw/user_rating_0_to_1000.csv')\n",
    "books.head(2)"
   ]
  },
  {
   "cell_type": "code",
   "execution_count": 3,
   "id": "personalized-identifier",
   "metadata": {},
   "outputs": [
    {
     "data": {
      "text/plain": [
       "really liked it                      20282\n",
       "it was amazing                       14108\n",
       "liked it                             13155\n",
       "it was ok                             3349\n",
       "did not like it                        748\n",
       "This user doesn't have any rating      303\n",
       "Name: Rating, dtype: int64"
      ]
     },
     "execution_count": 3,
     "metadata": {},
     "output_type": "execute_result"
    }
   ],
   "source": [
    "#set 1-5 values for user reviews\n",
    "books['Rating'].value_counts()"
   ]
  },
  {
   "cell_type": "code",
   "execution_count": 4,
   "id": "upper-beverage",
   "metadata": {},
   "outputs": [],
   "source": [
    "books['Rating'].replace('it was amazing', 5, inplace=True)\n",
    "books['Rating'].replace('really liked it', 4, inplace=True)\n",
    "books['Rating'].replace('liked it', 3, inplace=True)\n",
    "books['Rating'].replace('it was ok', 2, inplace=True)\n",
    "books['Rating'].replace('did not like it', 1, inplace=True)\n",
    "books['Rating'].replace(\"This user doesn't have any rating\", 0, inplace=True)"
   ]
  },
  {
   "cell_type": "code",
   "execution_count": 5,
   "id": "musical-divorce",
   "metadata": {},
   "outputs": [
    {
     "data": {
      "text/plain": [
       "4    20282\n",
       "5    14108\n",
       "3    13155\n",
       "2     3349\n",
       "1      748\n",
       "0      303\n",
       "Name: Rating, dtype: int64"
      ]
     },
     "execution_count": 5,
     "metadata": {},
     "output_type": "execute_result"
    }
   ],
   "source": [
    "books['Rating'].value_counts()"
   ]
  },
  {
   "cell_type": "code",
   "execution_count": 6,
   "id": "solved-account",
   "metadata": {},
   "outputs": [
    {
     "data": {
      "text/html": [
       "<div>\n",
       "<style scoped>\n",
       "    .dataframe tbody tr th:only-of-type {\n",
       "        vertical-align: middle;\n",
       "    }\n",
       "\n",
       "    .dataframe tbody tr th {\n",
       "        vertical-align: top;\n",
       "    }\n",
       "\n",
       "    .dataframe thead th {\n",
       "        text-align: right;\n",
       "    }\n",
       "</style>\n",
       "<table border=\"1\" class=\"dataframe\">\n",
       "  <thead>\n",
       "    <tr style=\"text-align: right;\">\n",
       "      <th></th>\n",
       "      <th>ID</th>\n",
       "      <th>Name</th>\n",
       "      <th>Rating</th>\n",
       "      <th>book_id</th>\n",
       "    </tr>\n",
       "  </thead>\n",
       "  <tbody>\n",
       "    <tr>\n",
       "      <th>11148</th>\n",
       "      <td>227</td>\n",
       "      <td>Your Native Land, Your Life</td>\n",
       "      <td>5</td>\n",
       "      <td>0</td>\n",
       "    </tr>\n",
       "    <tr>\n",
       "      <th>48097</th>\n",
       "      <td>913</td>\n",
       "      <td>Píldoras azules</td>\n",
       "      <td>3</td>\n",
       "      <td>1</td>\n",
       "    </tr>\n",
       "    <tr>\n",
       "      <th>1213</th>\n",
       "      <td>5</td>\n",
       "      <td>The Mysterious Stranger and Other Stories</td>\n",
       "      <td>5</td>\n",
       "      <td>2</td>\n",
       "    </tr>\n",
       "    <tr>\n",
       "      <th>32388</th>\n",
       "      <td>597</td>\n",
       "      <td>The Real Frank Zappa Book</td>\n",
       "      <td>5</td>\n",
       "      <td>3</td>\n",
       "    </tr>\n",
       "    <tr>\n",
       "      <th>34842</th>\n",
       "      <td>666</td>\n",
       "      <td>The Real Frank Zappa Book</td>\n",
       "      <td>3</td>\n",
       "      <td>3</td>\n",
       "    </tr>\n",
       "    <tr>\n",
       "      <th>...</th>\n",
       "      <td>...</td>\n",
       "      <td>...</td>\n",
       "      <td>...</td>\n",
       "      <td>...</td>\n",
       "    </tr>\n",
       "    <tr>\n",
       "      <th>37784</th>\n",
       "      <td>696</td>\n",
       "      <td>Blankets</td>\n",
       "      <td>3</td>\n",
       "      <td>24092</td>\n",
       "    </tr>\n",
       "    <tr>\n",
       "      <th>34776</th>\n",
       "      <td>664</td>\n",
       "      <td>Blankets</td>\n",
       "      <td>5</td>\n",
       "      <td>24092</td>\n",
       "    </tr>\n",
       "    <tr>\n",
       "      <th>48271</th>\n",
       "      <td>913</td>\n",
       "      <td>Blankets</td>\n",
       "      <td>4</td>\n",
       "      <td>24092</td>\n",
       "    </tr>\n",
       "    <tr>\n",
       "      <th>4963</th>\n",
       "      <td>103</td>\n",
       "      <td>Schiffbruch mit Tiger</td>\n",
       "      <td>5</td>\n",
       "      <td>24093</td>\n",
       "    </tr>\n",
       "    <tr>\n",
       "      <th>12408</th>\n",
       "      <td>256</td>\n",
       "      <td>Schiffbruch mit Tiger</td>\n",
       "      <td>5</td>\n",
       "      <td>24093</td>\n",
       "    </tr>\n",
       "  </tbody>\n",
       "</table>\n",
       "<p>51945 rows × 4 columns</p>\n",
       "</div>"
      ],
      "text/plain": [
       "        ID                                       Name  Rating  book_id\n",
       "11148  227                Your Native Land, Your Life       5        0\n",
       "48097  913                            Píldoras azules       3        1\n",
       "1213     5  The Mysterious Stranger and Other Stories       5        2\n",
       "32388  597                  The Real Frank Zappa Book       5        3\n",
       "34842  666                  The Real Frank Zappa Book       3        3\n",
       "...    ...                                        ...     ...      ...\n",
       "37784  696                                   Blankets       3    24092\n",
       "34776  664                                   Blankets       5    24092\n",
       "48271  913                                   Blankets       4    24092\n",
       "4963   103                      Schiffbruch mit Tiger       5    24093\n",
       "12408  256                      Schiffbruch mit Tiger       5    24093\n",
       "\n",
       "[51945 rows x 4 columns]"
      ]
     },
     "execution_count": 6,
     "metadata": {},
     "output_type": "execute_result"
    }
   ],
   "source": [
    "#create book ratings dataframe for app\n",
    "# https://stackoverflow.com/questions/42350029/assign-a-number-to-each-unique-value-in-a-list\n",
    "book_names = books['Name']\n",
    "dictionary = {i: indi for indi, i in enumerate(set(book_names))}\n",
    "numbers = [dictionary[n] for n in book_names]\n",
    "books['book_id'] = numbers\n",
    "books.sort_values(by=['book_id'])"
   ]
  },
  {
   "cell_type": "code",
   "execution_count": 8,
   "id": "understood-cambridge",
   "metadata": {},
   "outputs": [],
   "source": [
    "#create recommender dataframe, reorder for streamlit app\n",
    "recommender_df = books[['Name', 'book_id', 'ID', 'Rating']]\n",
    "recommender_df.rename(columns={'ID': 'user_id', 'Name': 'book_name', 'Rating': 'rating'}, inplace=True)"
   ]
  },
  {
   "cell_type": "code",
   "execution_count": 9,
   "id": "noticed-effect",
   "metadata": {},
   "outputs": [
    {
     "data": {
      "text/html": [
       "<div>\n",
       "<style scoped>\n",
       "    .dataframe tbody tr th:only-of-type {\n",
       "        vertical-align: middle;\n",
       "    }\n",
       "\n",
       "    .dataframe tbody tr th {\n",
       "        vertical-align: top;\n",
       "    }\n",
       "\n",
       "    .dataframe thead th {\n",
       "        text-align: right;\n",
       "    }\n",
       "</style>\n",
       "<table border=\"1\" class=\"dataframe\">\n",
       "  <thead>\n",
       "    <tr style=\"text-align: right;\">\n",
       "      <th></th>\n",
       "      <th>book_name</th>\n",
       "      <th>book_id</th>\n",
       "      <th>user_id</th>\n",
       "      <th>rating</th>\n",
       "    </tr>\n",
       "  </thead>\n",
       "  <tbody>\n",
       "    <tr>\n",
       "      <th>0</th>\n",
       "      <td>Agile Web Development with Rails: A Pragmatic ...</td>\n",
       "      <td>13083</td>\n",
       "      <td>1</td>\n",
       "      <td>5</td>\n",
       "    </tr>\n",
       "    <tr>\n",
       "      <th>1</th>\n",
       "      <td>The Restaurant at the End of the Universe (Hit...</td>\n",
       "      <td>12462</td>\n",
       "      <td>1</td>\n",
       "      <td>5</td>\n",
       "    </tr>\n",
       "  </tbody>\n",
       "</table>\n",
       "</div>"
      ],
      "text/plain": [
       "                                           book_name  book_id  user_id  rating\n",
       "0  Agile Web Development with Rails: A Pragmatic ...    13083        1       5\n",
       "1  The Restaurant at the End of the Universe (Hit...    12462        1       5"
      ]
     },
     "execution_count": 9,
     "metadata": {},
     "output_type": "execute_result"
    }
   ],
   "source": [
    "recommender_df.head(2)"
   ]
  },
  {
   "cell_type": "code",
   "execution_count": 10,
   "id": "emerging-former",
   "metadata": {},
   "outputs": [],
   "source": [
    "#export dataframe\n",
    "recommender_df.to_csv('./data/clean/books_df.csv')"
   ]
  }
 ],
 "metadata": {
  "kernelspec": {
   "display_name": "Python 3",
   "language": "python",
   "name": "python3"
  },
  "language_info": {
   "codemirror_mode": {
    "name": "ipython",
    "version": 3
   },
   "file_extension": ".py",
   "mimetype": "text/x-python",
   "name": "python",
   "nbconvert_exporter": "python",
   "pygments_lexer": "ipython3",
   "version": "3.8.8"
  }
 },
 "nbformat": 4,
 "nbformat_minor": 5
}
